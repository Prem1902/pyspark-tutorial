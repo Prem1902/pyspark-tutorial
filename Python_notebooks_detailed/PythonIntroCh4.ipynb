{
 "cells": [
  {
   "cell_type": "markdown",
   "metadata": {
    "application/vnd.databricks.v1+cell": {
     "cellMetadata": {},
     "inputWidgets": {},
     "nuid": "e6365eb7-6eb4-48a5-8fe4-a6f253a328d4",
     "showTitle": false,
     "tableResultSettingsMap": {},
     "title": ""
    }
   },
   "source": [
    "# 4. Functions\n",
    "## 4.1 Introduction\n",
    "Last lesson I said that we would delve into purposeful programming. That involves user input, and user input requires a thing called functions.\n",
    "\n",
    "What are functions? Well, in effect, functions are little self-contained programs that perform a specific task, which you can incorporate into your own, larger programs. After you have created a function, you can use it at any time, in any place. This saves you the time and effort of having to retell the computer what to do every time it does a common task, for example getting the user to type something in.\n",
    "\n",
    "## 4.2 Using a Function\n",
    "Python has lots of pre-made functions, that you can use right now, simply by 'calling' them. 'Calling' a function involves you giving a function input, and it will return a value (like a variable would) as output. Don't understand? Here is the general form that calling a function takes:<br>\n",
    "`function_name(parameters)`\n",
    "\n",
    "See? Easy.\n",
    "\n",
    "- `Function_name` identifies which function it is you want to use (You'd figure...). For example, the function `raw_input`, which will be the first function that we will use.\n",
    "- `Parameters` are the values you pass to the function to tell it what is should do, and how to do it... for example, if a function multiplied any given number by five, the stuff in parameters tells the function which number it should multiply by five. Put the number 70 into parameters, and the function will do 70 x 5."
   ]
  },
  {
   "cell_type": "markdown",
   "metadata": {
    "application/vnd.databricks.v1+cell": {
     "cellMetadata": {},
     "inputWidgets": {},
     "nuid": "6d6de09a-33bb-4186-b1a8-a835bbac6269",
     "showTitle": false,
     "tableResultSettingsMap": {},
     "title": ""
    }
   },
   "source": [
    "## 4.3 Parameters and Returned Values - Communicating with Functions\n",
    "Well, that's all well and good that the program can multiply a number by five, but what does it have to show for it? A warm fuzzy feeling? Your program needs to see the results of what happened, to see what 70 x 5 is, or to see if there is a problem somewhere (like you gave it a letter instead of a number). So how does a function show what is does?\n",
    "\n",
    "Well, in effect, when a computer runs a function, it doesn't actually see the function name, but the result of what the function did. Variables do the exact same thing - the computer doesn't see the variable name, it sees the value that the variable holds. Let's call this program that multiplied any number by five, `multiply()`. You put the number you want multiplied in the brackets. So if you typed this:\n",
    "\n",
    "`a = multiply(70)`\n",
    "\n",
    "The computer would actually see this:\n",
    "\n",
    "`a = 350`\n",
    "\n",
    "Note: don't bother typing in this code - `multiply()` isn't a real function, unless you create it.\n",
    "\n",
    "The function ran itself, then returned a number to the main program, based on what parameters it was given.\n",
    "\n",
    "Now let's try this with a real function, and see what it does. The function is called `input`, and asks the user to type in something. It then turns it into a string of text. Try the code below:"
   ]
  },
  {
   "cell_type": "code",
   "execution_count": 0,
   "metadata": {
    "application/vnd.databricks.v1+cell": {
     "cellMetadata": {},
     "inputWidgets": {},
     "nuid": "016d3770-a099-4fbf-9d9f-3d872cf343ce",
     "showTitle": false,
     "tableResultSettingsMap": {},
     "title": ""
    }
   },
   "outputs": [],
   "source": [
    "# this line makes 'a' equal to whatever you type in\n",
    "a = input(\"Type in something, and it will be repeated on screen: \")\n",
    "# this line prints what 'a' is now worth\n",
    "print(a)"
   ]
  },
  {
   "cell_type": "markdown",
   "metadata": {
    "application/vnd.databricks.v1+cell": {
     "cellMetadata": {},
     "inputWidgets": {},
     "nuid": "e44d183b-8ffd-4fdd-ad39-24396af9ec64",
     "showTitle": false,
     "tableResultSettingsMap": {},
     "title": ""
    }
   },
   "source": [
    "Say in the above program, you typed in `hello` when it asked you to type something in. To the computer, this program would look like this:\n",
    "\n",
    "```Python\n",
    "a = \"hello\"\n",
    "print(\"hello\")\n",
    "```"
   ]
  },
  {
   "cell_type": "markdown",
   "metadata": {
    "application/vnd.databricks.v1+cell": {
     "cellMetadata": {},
     "inputWidgets": {},
     "nuid": "4fe280f5-eb13-4637-bb07-9b50accfc119",
     "showTitle": false,
     "tableResultSettingsMap": {},
     "title": ""
    }
   },
   "source": [
    "Remember, a variable is just a stored value. To the computer, the variable `a` doesn't look like `a` - it looks like the value that is stored inside it. Functions are similar - to the main program (that is, the program that is running the function), they look like the value of what they give in return of running."
   ]
  },
  {
   "cell_type": "markdown",
   "metadata": {
    "application/vnd.databricks.v1+cell": {
     "cellMetadata": {},
     "inputWidgets": {},
     "nuid": "fe4c4427-0b3a-4ea6-886a-001714e63e7c",
     "showTitle": false,
     "tableResultSettingsMap": {},
     "title": ""
    }
   },
   "source": [
    "## 4.4 A Calculator Program\n",
    "Let's write another program, that will act as a calculator. This time it will do something more adventurous than what we have done before. There will be a menu, that will ask you whether you want to multiply two numbers together, add two numbers together, divide one number by another, or subtract one number from another. Only problem - the `input` function returns what you type in as a string - we want the number 1, not the letter 1 (and yes, in Python, there is a difference).\n",
    "\n",
    "Luckily, somebody wrote the function `eval`, which returns what you typed in, to the main program - but this time, it puts it in as a number. If you type an integer (a whole number), what comes out of input is an integer. And if you put that integer into a variable, the variable will be an integer-type variable, which means you can add and subtract, etc."
   ]
  },
  {
   "cell_type": "code",
   "execution_count": 0,
   "metadata": {
    "application/vnd.databricks.v1+cell": {
     "cellMetadata": {},
     "inputWidgets": {},
     "nuid": "220c7be9-c9d3-42f3-950b-837c9db00535",
     "showTitle": false,
     "tableResultSettingsMap": {},
     "title": ""
    }
   },
   "outputs": [],
   "source": [
    "# this line makes 'a' equal to the value that you type. It doesn't accept strings\n",
    "a = eval(input(\"Type in something, and it will be repeated on screen: \"))\n",
    "# this line prints what 'a' is now worth\n",
    "print(a)"
   ]
  },
  {
   "cell_type": "markdown",
   "metadata": {
    "application/vnd.databricks.v1+cell": {
     "cellMetadata": {},
     "inputWidgets": {},
     "nuid": "b049871e-fe24-4a23-872a-3d9b4acd4e71",
     "showTitle": false,
     "tableResultSettingsMap": {},
     "title": ""
    }
   },
   "source": [
    "Now, let's design this calculator properly. We want a menu that is returned to every time you finish adding, subtracting, etc. In other words, to loop (HINT!!!) while (BIG HINT!!!) you tell it the program should still run.\n",
    "We want it to do an option in the menu if you type in that number. That involves you typing in a number (a.k.a. input) and an `if` loop.<br>\n",
    "Let's write it out in understandable English first (pseudocode):\n",
    "\n",
    "```\n",
    "START PROGRAM\n",
    "print opening message\n",
    "\n",
    "while we let the program run, do this:\n",
    "    #Print what options you have\n",
    "    print Option 1 - add\n",
    "    print Option 2 - subtract\n",
    "    print Option 3 - multiply\n",
    "    print Option 4 - divide\n",
    "    print Option 5 - quit program\n",
    "\n",
    "    ask for which option it is you want\n",
    "    if it is option 1:\n",
    "        ask for first number\n",
    "        ask for second number\n",
    "        add them together\n",
    "        print the result onscreen\n",
    "    if it is option 2:\n",
    "        ask for first number\n",
    "        ask for second number\n",
    "        subtract one from the other\n",
    "        print the result onscreen\n",
    "    if it is option 3:\n",
    "        ask for first number\n",
    "        ask for second number\n",
    "        multiply!\n",
    "        print the result onscreen\n",
    "    if it is option 4:\n",
    "        ask for first number\n",
    "        ask for second number\n",
    "        divide one by the other\n",
    "        print the result onscreen\n",
    "    if it is option 5:\n",
    "        tell the loop to stop looping\n",
    "Print onscreen a goodbye message\n",
    "END PROGRAM\n",
    "```\n",
    "Let's put this in something that Python can understand:"
   ]
  },
  {
   "cell_type": "code",
   "execution_count": 0,
   "metadata": {
    "application/vnd.databricks.v1+cell": {
     "cellMetadata": {},
     "inputWidgets": {},
     "nuid": "c0c66050-f4f5-442c-87d3-e6bf4c5be4b6",
     "showTitle": false,
     "tableResultSettingsMap": {},
     "title": ""
    }
   },
   "outputs": [],
   "source": [
    "#calculator program\n",
    "\n",
    "#this variable tells the loop whether it should loop or not.\n",
    "#1 means loop. Anything else means don't loop.\n",
    "\n",
    "loop = 1\n",
    "\n",
    "#this variable holds the user's choice in the menu:\n",
    "\n",
    "choice = 0\n",
    "\n",
    "while loop == 1:\n",
    "    #print what options you have\n",
    "    print(\"Welcome to calculator.py\")\n",
    "\n",
    "    print(\"your options are:\")\n",
    "    print(\" \")\n",
    "    print(\"1. Addition\")\n",
    "    print(\"2. Subtraction\")\n",
    "    print(\"3. Multiplication\")\n",
    "    print(\"4. Division\")\n",
    "    print(\"5. Quit calculator.py\")\n",
    "    print(\" \")\n",
    "\n",
    "    choice = eval(input(\"Choose your option: \"))\n",
    "    if choice == 1:\n",
    "        add1 = eval(input(\"Add this: \"))\n",
    "        add2 = eval(input(\"to this: \"))\n",
    "        print(add1, \"+\", add2, \"=\", add1 + add2)\n",
    "    elif choice == 2:\n",
    "        sub2 = eval(input(\"Subtract this: \"))\n",
    "        sub1 = eval(input(\"from this: \"))\n",
    "        print(sub1, \"-\", sub2, \"=\", sub1 - sub2)\n",
    "    elif choice == 3:\n",
    "        mul1 = eval(input(\"Multiply this: \"))\n",
    "        mul2 = eval(input(\"with this: \"))\n",
    "        print(mul1, \"*\", mul2, \"=\", mul1 * mul2)\n",
    "    elif choice == 4:\n",
    "        div1 = eval(input(\"Divide this: \"))\n",
    "        div2 = eval(input(\"by this: \"))\n",
    "        print(div1, \"/\", div2, \"=\", div1 / div2)\n",
    "    elif choice == 5:\n",
    "        loop = 0\n",
    "        \n",
    "print(\"Thank you for using calculator.py!\")"
   ]
  },
  {
   "cell_type": "markdown",
   "metadata": {
    "application/vnd.databricks.v1+cell": {
     "cellMetadata": {},
     "inputWidgets": {},
     "nuid": "a0611cd6-c3c8-48d4-9452-01650808adca",
     "showTitle": false,
     "tableResultSettingsMap": {},
     "title": ""
    }
   },
   "source": [
    "Play around with it - try all options, entering in integers (numbers without decimal points), and numbers with stuff after the decimal point (known in programming as a floating point). Try typing in text, and see how the program chucks a minor fit, and stops running (that can be dealt with, using error handling, which we can address later)."
   ]
  },
  {
   "cell_type": "markdown",
   "metadata": {
    "application/vnd.databricks.v1+cell": {
     "cellMetadata": {},
     "inputWidgets": {},
     "nuid": "270ccf56-b483-4078-839e-32dde380e2f4",
     "showTitle": false,
     "tableResultSettingsMap": {},
     "title": ""
    }
   },
   "source": [
    "## 4.5 Define Your Own Functions\n",
    "Well, it is all well and good that you can use other people's functions, but what if you want to write your own functions, to save time, and maybe use them in other programs? This is where the `def` operator comes in. (An operator is just something that tells Python what to do, e.g. the `+` operator tells Python to add things, the `if` operator tells Python to do something if conditions are met.)\n",
    "\n",
    "This is how the `def` operator works:\n",
    "\n",
    "```\n",
    "def function_name(parameter_1,parameter_2):\n",
    "    {this is the code in the function}\n",
    "    {more code}\n",
    "    {more code}\n",
    "    return {value to return to the main program}\n",
    "{this code isn't in the function}\n",
    "{because it isn't indented}\n",
    "#remember to put a colon \":\" at the end\n",
    "#of the line that starts with 'def'\n",
    "```\n"
   ]
  },
  {
   "cell_type": "markdown",
   "metadata": {
    "application/vnd.databricks.v1+cell": {
     "cellMetadata": {},
     "inputWidgets": {},
     "nuid": "53ccf8dc-fbb3-41c4-b9b3-7a4560a0389f",
     "showTitle": false,
     "tableResultSettingsMap": {},
     "title": ""
    }
   },
   "source": [
    "`function_name` is the name of the function. You write the code that is in the function below that line, and have it indented. (We will worry about `parameter_1` and `parameter_2` later, for now imagine there is nothing between the parentheses.\n",
    "\n",
    "Functions run completely independent of the main program. Remember when I said that when the computer comes to a function, it doesn't see the function, but a value, that the function returns? Here's the quote:\n",
    "\n",
    "To the computer, the variable 'a' doesn't look like 'a' - it looks like the value that is stored inside it. Functions are similar - to the main program (that is, the program that is running the function), they look like the value of what they give in return of running."
   ]
  },
  {
   "cell_type": "markdown",
   "metadata": {
    "application/vnd.databricks.v1+cell": {
     "cellMetadata": {},
     "inputWidgets": {},
     "nuid": "5b388ec9-5144-473f-8016-d07dbac7d51a",
     "showTitle": false,
     "tableResultSettingsMap": {},
     "title": ""
    }
   },
   "source": [
    "A function is like a miniature program that some parameters are given to - it then runs itself, and then returns a value. Your main program sees only the returned value. If that function flew to the moon and back, and then at the end had:\n",
    "\n",
    "`return \"hello\"`\n",
    "\n",
    "then all your program would see is the string `\"hello\"`, where the name of the function was. It would have no idea what else the program did.\n",
    "\n",
    "Because it is a separate program, a function doesn't see any of the variables that are in your main program, and your main program doesn't see any of the variables that are in a function. For example, here is a function that prints the words `\"hello\"` onscreen, and then returns the number `'1234'` to the main program:"
   ]
  },
  {
   "cell_type": "code",
   "execution_count": 0,
   "metadata": {
    "application/vnd.databricks.v1+cell": {
     "cellMetadata": {},
     "inputWidgets": {},
     "nuid": "1e27b5a5-a8cb-44de-af14-a24ef982eef9",
     "showTitle": false,
     "tableResultSettingsMap": {},
     "title": ""
    }
   },
   "outputs": [],
   "source": [
    "# Below is the function\n",
    "def hello():\n",
    "    print(\"hello\")\n",
    "    return 1234\n",
    "\n",
    "# And here is the function being used\n",
    "print(hello())"
   ]
  },
  {
   "cell_type": "markdown",
   "metadata": {
    "application/vnd.databricks.v1+cell": {
     "cellMetadata": {},
     "inputWidgets": {},
     "nuid": "10fb1735-ea85-46a4-8845-15eda703b7f6",
     "showTitle": false,
     "tableResultSettingsMap": {},
     "title": ""
    }
   },
   "source": [
    "So what happened?\n",
    "1.\twhen `def hello()` was run, a function called `hello` was created\n",
    "2.\tWhen the line `print(hello())` was run, the function `hello` was executed (The code inside it was run)\n",
    "3.\tThe function `hello` printed `\"hello\"` onscreen, then returned the number `1234` back to the main program\n",
    "4.\tThe main program now sees the line as `print(\"1234\")` and as a result, printed `1234`"
   ]
  },
  {
   "cell_type": "markdown",
   "metadata": {
    "application/vnd.databricks.v1+cell": {
     "cellMetadata": {},
     "inputWidgets": {},
     "nuid": "50362c3e-caa7-4ab5-9b38-92e4e256ecf5",
     "showTitle": false,
     "tableResultSettingsMap": {},
     "title": ""
    }
   },
   "source": [
    "That accounts for everything that happened. Remember, that the main program had NO IDEA that the words `hello` were printed onscreen. All it saw was `1234`, and printed that onscreen."
   ]
  },
  {
   "cell_type": "markdown",
   "metadata": {
    "application/vnd.databricks.v1+cell": {
     "cellMetadata": {},
     "inputWidgets": {},
     "nuid": "037433cd-bda5-448c-bc9a-088e61b4e6cb",
     "showTitle": false,
     "tableResultSettingsMap": {},
     "title": ""
    }
   },
   "source": [
    "## 4.6 Passing Parameters to functions\n",
    "There is one more thing we will cover in this (monstrously huge) lesson - passing parameters to a function. Think back to how we defined functions:<br>\n",
    "```\n",
    "def function_name(parameter_1,parameter_2):\n",
    "    {this is the code in the function}\n",
    "    {more code}\n",
    "    {more code}\n",
    "    return {value (e.g. text or number) to return to the main program}\n",
    "```\n",
    "\n",
    "Where `parameter_1` and `parameter_2` are (between the parentheses), you put the names of variables that you want to put the parameters into. Put as many as you need, just have them seperated by commas. When you run a function, the first value you put inside the parentheses would go into the variable where `parameter_1` is. The second one (after the first comma) would go to the variable where `parameter_2` is. This goes on for however many parameters there are in the function (from zero, to the sky). For example:"
   ]
  },
  {
   "cell_type": "code",
   "execution_count": 0,
   "metadata": {
    "application/vnd.databricks.v1+cell": {
     "cellMetadata": {},
     "inputWidgets": {},
     "nuid": "eed6bae6-a141-47c6-ac67-866d7c386b97",
     "showTitle": false,
     "tableResultSettingsMap": {},
     "title": ""
    }
   },
   "outputs": [],
   "source": [
    "def funnyfunction(first_word,second_word,third_word):\n",
    "    print(\"The word created is: \" + first_word + second_word + third_word)\n",
    "    return first_word + second_word + third_word"
   ]
  },
  {
   "cell_type": "markdown",
   "metadata": {
    "application/vnd.databricks.v1+cell": {
     "cellMetadata": {},
     "inputWidgets": {},
     "nuid": "36ef188d-0bc9-4a09-a21e-bfc8f8668e3f",
     "showTitle": false,
     "tableResultSettingsMap": {},
     "title": ""
    }
   },
   "source": [
    "When you run the function above, you would type in something like this: `funnyfunction(\"meat\",\"eater\",\"man\")`. The first value (that is, \"meat\") would be put into the variable called first_word. The second value inside the brackets (that is, \"eater\") would be put into the variable called second_word, and so on. This is how values are passed from the main program to functions - inside the parentheses, after the function name.\n",
    "\n",
    "Add a new line to the script above that invokes the function."
   ]
  },
  {
   "cell_type": "markdown",
   "metadata": {
    "application/vnd.databricks.v1+cell": {
     "cellMetadata": {},
     "inputWidgets": {},
     "nuid": "8b09465d-e686-46ba-b7a1-5f7fd4abda3a",
     "showTitle": false,
     "tableResultSettingsMap": {},
     "title": ""
    }
   },
   "source": [
    "## 4.7 A Final Program\n",
    "Think back to that calculator program. Did it look a bit messy to you? I think it did, so let's re-write it, with functions.\n",
    "\n",
    "To design - First we will define all the functions we are going to use with the `def` operator (still remember what an operator is ;) ). Then we will have the main program, with all that messy code replaced with nice, neat functions. This will make it so much easier to look at again in the future."
   ]
  },
  {
   "cell_type": "code",
   "execution_count": 0,
   "metadata": {
    "application/vnd.databricks.v1+cell": {
     "cellMetadata": {},
     "inputWidgets": {},
     "nuid": "d94a16c2-c91c-46c2-9ad6-623e4bdadf13",
     "showTitle": false,
     "tableResultSettingsMap": {},
     "title": ""
    }
   },
   "outputs": [],
   "source": [
    "# calculator program\n",
    "\n",
    "# NO CODE IS REALLY RUN HERE, IT IS ONLY TELLING US WHAT WE WILL DO LATER\n",
    "# Here we will define our functions\n",
    "# this prints the main menu, and prompts for a choice\n",
    "def menu():\n",
    "    #print what options you have\n",
    "    print(\"Welcome to calculator.py\")\n",
    "    print(\"your options are:\")\n",
    "    print(\" \")\n",
    "    print(\"1. Addition\")\n",
    "    print(\"2. Subtraction\")\n",
    "    print(\"3. Multiplication\")\n",
    "    print(\"4. Division\")\n",
    "    print(\"5. Quit calculator.py\")\n",
    "    print(\" \")\n",
    "    return eval(input(\"Choose your option: \"))\n",
    "    \n",
    "# this adds two numbers given\n",
    "def add(a,b):\n",
    "    print(a, \"+\", b, \"=\", a + b)\n",
    "    \n",
    "# this subtracts two numbers given\n",
    "def sub(a,b):\n",
    "    print(b, \"-\", a, \"=\", b - a)\n",
    "    \n",
    "# this multiplies two numbers given\n",
    "def mul(a,b):\n",
    "    print(a, \"*\", b, \"=\", a * b)\n",
    "    \n",
    "# this divides two numbers given\n",
    "def div(a,b):\n",
    "    print(a, \"/\", b, \"=\", a / b)\n",
    "    \n",
    "# NOW THE PROGRAM REALLY STARTS, AS CODE IS RUN\n",
    "loop = 1\n",
    "choice = 0\n",
    "while loop == 1:\n",
    "    choice = menu()\n",
    "    if choice == 1:\n",
    "        add(eval(input(\"Add this: \")),eval(input(\"to this: \")))\n",
    "    elif choice == 2:\n",
    "        sub(eval(input(\"Subtract this: \")),eval(input(\"from this: \")))\n",
    "    elif choice == 3:\n",
    "        mul(eval(input(\"Multiply this: \")),eval(input(\"by this: \")))\n",
    "    elif choice == 4:\n",
    "        div(eval(input(\"Divide this: \")),eval(input(\"by this: \")))\n",
    "    elif choice == 5:\n",
    "        loop = 0\n",
    "\n",
    "print(\"Thank you for using calculator.py!\")\n",
    "\n",
    "# NOW THE PROGRAM REALLY FINISHES"
   ]
  },
  {
   "cell_type": "markdown",
   "metadata": {
    "application/vnd.databricks.v1+cell": {
     "cellMetadata": {},
     "inputWidgets": {},
     "nuid": "234f551f-e85e-48fc-a6dc-e6db602c7916",
     "showTitle": false,
     "tableResultSettingsMap": {},
     "title": ""
    }
   },
   "source": [
    "The initial program had 34 lines of code. The new one actually had 35 lines of code! It is a little longer, but if you look at it the right way, it is actually simpler.\n",
    "\n",
    "You defined all your functions at the top. This really isn't part of your main program - they are just lots of little programs that you will call upon later. You could even re-use these in another program if you needed them, and didn't want to tell the computer how to add and subtract again.\n",
    "\n",
    "If you look at the main part of the program (between the line `loop = 1` and `print(\"Thank you for...\")`), it is only 15 lines of code. That means that if you wanted to write this program differently, you would only have to write 15 or so lines, as opposed to the 34 lines you would normally have to without functions."
   ]
  },
  {
   "cell_type": "markdown",
   "metadata": {
    "application/vnd.databricks.v1+cell": {
     "cellMetadata": {},
     "inputWidgets": {},
     "nuid": "fcd859b6-c1d7-4a55-a3e9-3d1e2b5277f1",
     "showTitle": false,
     "tableResultSettingsMap": {},
     "title": ""
    }
   },
   "source": [
    "## 4.8 Tricky Ways You Can Pass Parameters\n",
    "Finally, as a bit of an interlude, I will explain what the line `add(eval(input(\"Add this: \")),eval(input(\"to this: \")))` means.\n",
    "\n",
    "I wanted to fit everything onto one line, with as few variables as possible. Remember what functions look like to the main program? Whatever value they return. If the numbers you passed to the add() function were 2 and 30, the main program would see this:\n",
    "\n",
    "`add(2,30)`\n",
    "\n",
    "The add program would then run, adding 2 and 30, then printing the result. The add program has no `return` operator - it doesn't return anything to the main program. It simply adds two numbers and prints them onscreen, and the main program doesn't see anything of it.\n",
    "\n",
    "Instead of `(eval(input(\"Add this: \")),eval(input(\"to this: \")))` as the parameters for the add program you could have variables. E.g.\n",
    "\n",
    "```\n",
    "num1 = 45\n",
    "num2 = 7\n",
    "add(num1,num2)\n",
    "```\n",
    "\n",
    "For the above, remember that the function you are passing the variables to cannot change the variables themselves - they are simply used as values. You could even put the values straight into the function:\n",
    "\n",
    "`add(45,7)`\n",
    "\n",
    "This is because the only thing the function sees are the values that are passed on as parameters. Those values are put into the variables that are mentioned when `add` is defined (the line `def add(a,b)`). The function then uses those parameters to do its job.\n",
    "\n",
    "In short:\n",
    "* The only thing functions see of the main program is the parameters that are passed to it\n",
    "* The only thing the main program sees of functions is the returned value that it passes back"
   ]
  }
 ],
 "metadata": {
  "application/vnd.databricks.v1+notebook": {
   "computePreferences": null,
   "dashboards": [],
   "environmentMetadata": null,
   "inputWidgetPreferences": null,
   "language": "python",
   "notebookMetadata": {
    "pythonIndentUnit": 4
   },
   "notebookName": "PythonIntroCh4",
   "widgets": {}
  },
  "kernelspec": {
   "display_name": "Python 3 (ipykernel)",
   "language": "python",
   "name": "python3"
  },
  "language_info": {
   "name": "python"
  }
 },
 "nbformat": 4,
 "nbformat_minor": 0
}