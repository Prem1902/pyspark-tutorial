{
 "cells": [
  {
   "cell_type": "markdown",
   "metadata": {
    "application/vnd.databricks.v1+cell": {
     "cellMetadata": {
      "byteLimit": 2048000,
      "rowLimit": 10000
     },
     "inputWidgets": {},
     "nuid": "68f578a6-0a2c-409e-a126-c6754b04ccd8",
     "showTitle": false,
     "tableResultSettingsMap": {},
     "title": ""
    },
    "id": "iox_ufgbqDXa"
   },
   "source": [
    "<h1><center>Introduction to PySpark</center></h1>"
   ]
  },
  {
   "cell_type": "markdown",
   "metadata": {
    "application/vnd.databricks.v1+cell": {
     "cellMetadata": {
      "byteLimit": 2048000,
      "rowLimit": 10000
     },
     "inputWidgets": {},
     "nuid": "3632ee5f-dea8-4cbc-9408-950b38705dfd",
     "showTitle": false,
     "tableResultSettingsMap": {},
     "title": ""
    },
    "id": "YR1CO3FTqO5h"
   },
   "source": [
    "<a id='prerequisite'></a>\n",
    "## Prerequisite\n",
    "><li>Although some theory about pyspark and big data will be given in this notebook, I recommend everyone to read more about it and have a deeper understanding on how the functions get executed and the relevance of big data in the current scenario.\n",
    "><li>A good understanding on python will be an added bonus."
   ]
  },
  {
   "cell_type": "markdown",
   "metadata": {
    "application/vnd.databricks.v1+cell": {
     "cellMetadata": {
      "byteLimit": 2048000,
      "rowLimit": 10000
     },
     "inputWidgets": {},
     "nuid": "93376d83-c371-404a-b0d1-3b6c6aea342d",
     "showTitle": false,
     "tableResultSettingsMap": {},
     "title": ""
    },
    "id": "5gs9JXCWqb9s"
   },
   "source": [
    "<a id='big-data'></a>\n",
    "### Big data"
   ]
  },
  {
   "cell_type": "markdown",
   "metadata": {
    "application/vnd.databricks.v1+cell": {
     "cellMetadata": {
      "byteLimit": 2048000,
      "rowLimit": 10000
     },
     "inputWidgets": {},
     "nuid": "d01eb8d6-737f-4981-ab5d-5e1e9783d422",
     "showTitle": false,
     "tableResultSettingsMap": {},
     "title": ""
    },
    "id": "q3UkLT6yqebl"
   },
   "source": [
    "Big data usually means data of such huge volume that normal data storage solutions cannot efficently store and process it. In this era, data is being generated at an absurd rate. Data is collected for each movement a person makes. The bulk of big data comes from three primary sources:\n",
    "<ol>\n",
    "   <li>Social data</li>\n",
    "   <li>Machine data</li>\n",
    "   <li>Transactional data</li>\n",
    "</ol>\n",
    "\n",
    "Some common examples for the sources of such data include internet searches, facebook posts, doorbell cams, smartwatches, online shopping history etc. Every action creates data, it is just a matter of of there is a way to collect them or not.  But what's interesting is that out of all this data collected, not even 5% of it is being used fully. There is a huge demand for big data professionals in the industry. Even though the number of graduates with a specialization in big data are rising, the problem is that they don't have the practical knowledge about big data scenarios, which leads to bad architecutres and inefficent methods of processing data.\n",
    "\n"
   ]
  },
  {
   "cell_type": "markdown",
   "metadata": {
    "application/vnd.databricks.v1+cell": {
     "cellMetadata": {
      "byteLimit": 2048000,
      "rowLimit": 10000
     },
     "inputWidgets": {},
     "nuid": "8996718a-944a-451d-bd3a-8ebe88b10cf7",
     "showTitle": false,
     "tableResultSettingsMap": {},
     "title": ""
    },
    "id": "NhM3wLG2qhlN"
   },
   "source": [
    "<a id='pyspark'></a>\n",
    "### PySpark"
   ]
  },
  {
   "cell_type": "markdown",
   "metadata": {
    "application/vnd.databricks.v1+cell": {
     "cellMetadata": {
      "byteLimit": 2048000,
      "rowLimit": 10000
     },
     "inputWidgets": {},
     "nuid": "f50133f2-4e5f-4c09-a33c-0bd35c39fcb0",
     "showTitle": false,
     "tableResultSettingsMap": {},
     "title": ""
    },
    "id": "VBfC_kvjqjPj"
   },
   "source": [
    "If you are working in the field of big data, you must have definelty heard of spark. If you look at the [Apache Spark](https://spark.apache.org/) website, you will see that it is said to be a `Lightning-fast unified analytics engine`. PySpark is a flavour of Spark used for processing and analysing massive volumes of data. If you are familiar with python and have tried it for huge datasets, you should know that the execution time can get ridiculous. Enter PySpark!\n",
    "\n",
    "Imagine your data resides in a distributed manner at different places. If you try brining your data to one point and executing your code there, not only would that be inefficent, but also cause memory issues. Now let's say your code goes to the data rather than the data coming to where your code. This will help avoid unneccesary data movement which will thereby decrease the running time.\n",
    "\n",
    "PySpark is the Python API of Spark; which means it can do almost all the things python can. Machine learning(ML) pipelines, exploratory data analysis (at scale), ETLs for data platform, and much more! And all of them in a distributed manner. One of the best parts of pyspark is that if you are already familiar with python, it's really easy to learn.\n",
    "\n",
    "Apart from PySpark, there is another language called Scala used for big data processing. Scala is frequently over 10 times faster than *Python*, as it is native for Hadoop as its based on JVM. But PySpark is getting adopted at a fast rate because of the ease of use, easier learning curve and ML capabilities.\n",
    "\n",
    "I will briefly explain how a PySpark job works, but I strongly recommend you read more about the [architecture](https://data-flair.training/blogs/how-apache-spark-works/) and how everything works. Now, before I get into it, let me talk about some <u>basic jargons</u> first:\n",
    "\n",
    "<b>Cluster</b> is a set of loosely or tightly connected computers that work together so that they can be viewed as a single system.\n",
    "\n",
    "<b>Hadoop</b> is an open source, scalable, and fault tolerant framework written in Java. It efficiently processes large volumes of data on a cluster of commodity hardware. Hadoop is not only a storage system but is a platform for large data storage as well as processing.\n",
    "\n",
    "<b>HDFS</b> (Hadoop distributed file system). It is one of the world's most reliable storage system. HDFS is a Filesystem of Hadoop designed for storing very large files running on a cluster of commodity hardware.\n",
    "\n",
    "<b>MapReduce</b> is a data Processing framework, which has 2 phases - Mapper and Reducer. The map procedure performs filtering and sorting, and the reduce method performs a summary operation. It usually runs on a hadoop cluster.\n",
    "\n",
    "<b>Transformation</b> refers to the operations applied on a dataset to create a new dataset. Filter, groupBy and map are the examples of transformations.\n",
    "\n",
    "<b>Actions</b> Actions refer to an operation which instructs Spark to perform computation and send the result back to driver. This is an example of action.\n",
    "\n",
    "Alright! Now that that's out of the way, let me explain how a spark job runs. In simple terma, each time you submit a pyspark job, the code gets internally converted into a MapReduce program and gets executed in the Java virtual machine. Now one of the thoughts that might be popping in your mind will probably be: <br>`So the code gets converted into a MapReduce program. Wouldn't that mean MapReduce is faster than pySpark?`<br> Well, the answer is a big NO. This is what makes spark jobs special. Spark is capable of handling a massive amount of data at a time, in it's distributed environment. It does this through <u>in-memory processing</u>, which is what makes it almost 100 times faster than Hadoop. Another factor which amkes it fast is <u>Lazy Evaluation</u>. Spark delays its evaluation as much as it can. Each time you  submit a job, spark creates an action plan for how to execute the code, and then does nothing. Finally, when you ask for the result(i.e, calls an action), it executes the plan, which is basically all the transofrmations you have mentioned in your code. That's basically the gist of it.\n",
    "\n",
    "Now lastly, I want to talk about on more thing. Spark mainly consists of 4 modules:\n",
    "\n",
    "<ol>\n",
    "    <li>Spark SQL - helps to write  spark programs using SQL like queries.</li>\n",
    "    <li>Spark Streaming - is an extension of the core Spark API that enables scalable, high-throughput, fault-tolerant stream processing of live data streams. used heavily in processing of social media data.</li>\n",
    "    <li>Spark MLLib - is the machine learning component of SPark. It helps train ML models on massive datasets with very high efficeny. </li>\n",
    "    <li>Spark GraphX - is the visualization component of Spark. It enables users to view data both as graphs and as collections without data movement or duplication.</li>\n",
    "</ol>\n",
    "\n",
    "\n"
   ]
  },
  {
   "cell_type": "markdown",
   "metadata": {
    "application/vnd.databricks.v1+cell": {
     "cellMetadata": {
      "byteLimit": 2048000,
      "rowLimit": 10000
     },
     "inputWidgets": {},
     "nuid": "0a33409d-4644-4d98-9bbe-44e4f3cea194",
     "showTitle": false,
     "tableResultSettingsMap": {},
     "title": ""
    },
    "id": "_N5-lspH_N8B"
   },
   "source": [
    "<a id='jupyter-notebook-basics'></a>\n",
    "## Jupyter notebook basics"
   ]
  },
  {
   "cell_type": "markdown",
   "metadata": {
    "application/vnd.databricks.v1+cell": {
     "cellMetadata": {
      "byteLimit": 2048000,
      "rowLimit": 10000
     },
     "inputWidgets": {},
     "nuid": "61e366ae-72d8-4f67-902e-72ace4c4a938",
     "showTitle": false,
     "tableResultSettingsMap": {},
     "title": ""
    },
    "id": "6Ul54hAYyHyd"
   },
   "source": [
    "<a id='code-cells'></a>\n",
    "### Code cells"
   ]
  },
  {
   "cell_type": "code",
   "execution_count": 0,
   "metadata": {
    "application/vnd.databricks.v1+cell": {
     "cellMetadata": {
      "byteLimit": 2048000,
      "rowLimit": 10000
     },
     "inputWidgets": {},
     "nuid": "3b94b34a-c54f-47f0-aa9c-117713f138c7",
     "showTitle": false,
     "tableResultSettingsMap": {},
     "title": ""
    },
    "colab": {
     "base_uri": "https://localhost:8080/"
    },
    "id": "j38beRUTCI5c",
    "outputId": "fb3b3bd3-4a7a-407d-b79b-1238333c12d2"
   },
   "outputs": [
    {
     "output_type": "execute_result",
     "data": {
      "text/plain": [
       "6"
      ]
     },
     "execution_count": 40,
     "metadata": {},
     "output_type": "execute_result"
    }
   ],
   "source": [
    "2*3"
   ]
  },
  {
   "cell_type": "code",
   "execution_count": 0,
   "metadata": {
    "application/vnd.databricks.v1+cell": {
     "cellMetadata": {
      "byteLimit": 2048000,
      "rowLimit": 10000
     },
     "inputWidgets": {},
     "nuid": "e6050517-0810-4fe4-a0bc-c98833850c56",
     "showTitle": false,
     "tableResultSettingsMap": {},
     "title": ""
    },
    "id": "_Jewe_e9CIYa"
   },
   "outputs": [
    {
     "output_type": "display_data",
     "data": {
      "text/html": [
       "<style scoped>\n",
       "  .table-result-container {\n",
       "    max-height: 300px;\n",
       "    overflow: auto;\n",
       "  }\n",
       "  table, th, td {\n",
       "    border: 1px solid black;\n",
       "    border-collapse: collapse;\n",
       "  }\n",
       "  th, td {\n",
       "    padding: 5px;\n",
       "  }\n",
       "  th {\n",
       "    text-align: left;\n",
       "  }\n",
       "</style><div class='table-result-container'><table class='table-result'><thead style='background-color: white'><tr><th>fruit</th><th>count</th></tr></thead><tbody><tr><td>apple</td><td>3</td></tr><tr><td>banana</td><td>2</td></tr><tr><td>orange</td><td>1</td></tr></tbody></table></div>"
      ]
     },
     "metadata": {
      "application/vnd.databricks.v1+output": {
       "addedWidgets": {},
       "aggData": [],
       "aggError": "",
       "aggOverflow": false,
       "aggSchema": [],
       "aggSeriesLimitReached": false,
       "aggType": "",
       "arguments": {},
       "columnCustomDisplayInfos": {},
       "data": [
        [
         "apple",
         3
        ],
        [
         "banana",
         2
        ],
        [
         "orange",
         1
        ]
       ],
       "datasetInfos": [],
       "dbfsResultPath": null,
       "isJsonSchema": true,
       "metadata": {},
       "overflow": false,
       "plotOptions": {
        "customPlotOptions": {},
        "displayType": "table",
        "pivotAggregation": null,
        "pivotColumns": null,
        "xColumns": null,
        "yColumns": null
       },
       "removedWidgets": [],
       "schema": [
        {
         "metadata": "{}",
         "name": "fruit",
         "type": "\"string\""
        },
        {
         "metadata": "{}",
         "name": "count",
         "type": "\"long\""
        }
       ],
       "type": "table"
      }
     },
     "output_type": "display_data"
    }
   ],
   "source": [
    "from collections import Counter\n",
    "\n",
    "data = ['apple', 'banana', 'apple', 'orange', 'banana', 'apple']\n",
    "counter = spark.createDataFrame(list(Counter(data).items()), ['fruit', 'count'])\n",
    "display(counter)"
   ]
  },
  {
   "cell_type": "code",
   "execution_count": 0,
   "metadata": {
    "application/vnd.databricks.v1+cell": {
     "cellMetadata": {
      "byteLimit": 2048000,
      "rowLimit": 10000
     },
     "inputWidgets": {},
     "nuid": "fb92541c-8347-4efd-ac94-e9bb69e910c6",
     "showTitle": false,
     "tableResultSettingsMap": {},
     "title": ""
    },
    "colab": {
     "base_uri": "https://localhost:8080/"
    },
    "id": "g8Y7w6_CCIIT",
    "outputId": "83545821-ca91-448f-875e-403670678ced"
   },
   "outputs": [
    {
     "output_type": "stream",
     "name": "stdout",
     "output_type": "stream",
     "text": [
      "This is a tutorial!\n"
     ]
    }
   ],
   "source": [
    "print(\"This is a tutorial!\")"
   ]
  },
  {
   "cell_type": "markdown",
   "metadata": {
    "application/vnd.databricks.v1+cell": {
     "cellMetadata": {
      "byteLimit": 2048000,
      "rowLimit": 10000
     },
     "inputWidgets": {},
     "nuid": "e9af6870-95a1-44a3-9131-d7d3fa56c6d5",
     "showTitle": false,
     "tableResultSettingsMap": {},
     "title": ""
    },
    "id": "VOqLNkRKyUIS"
   },
   "source": [
    "<a id='text-cells'></a>\n",
    "### Text cells"
   ]
  },
  {
   "cell_type": "markdown",
   "metadata": {
    "application/vnd.databricks.v1+cell": {
     "cellMetadata": {
      "byteLimit": 2048000,
      "rowLimit": 10000
     },
     "inputWidgets": {},
     "nuid": "62504840-0f93-492f-b6dd-c5a09dffd898",
     "showTitle": false,
     "tableResultSettingsMap": {},
     "title": ""
    },
    "id": "IfbaUe-oq7DK"
   },
   "source": [
    "Hello world!"
   ]
  },
  {
   "cell_type": "markdown",
   "metadata": {
    "application/vnd.databricks.v1+cell": {
     "cellMetadata": {
      "byteLimit": 2048000,
      "rowLimit": 10000
     },
     "inputWidgets": {},
     "nuid": "f20c4a77-2abd-4afe-9a89-5ced3566d091",
     "showTitle": false,
     "tableResultSettingsMap": {},
     "title": ""
    },
    "id": "X6zdrH15_CCW"
   },
   "source": [
    "<a id='access-to-the-shell'></a>\n",
    "### Access to the shell"
   ]
  },
  {
   "cell_type": "code",
   "execution_count": 0,
   "metadata": {
    "application/vnd.databricks.v1+cell": {
     "cellMetadata": {
      "byteLimit": 2048000,
      "rowLimit": 10000
     },
     "inputWidgets": {},
     "nuid": "f57a1291-cf9a-4747-8752-69db6af1edbc",
     "showTitle": false,
     "tableResultSettingsMap": {},
     "title": ""
    },
    "colab": {
     "base_uri": "https://localhost:8080/"
    },
    "id": "zdO9sjSdEVnr",
    "outputId": "06652aa1-014f-4ce9-c22d-1644c6ae8707"
   },
   "outputs": [
    {
     "output_type": "stream",
     "name": "stdout",
     "output_type": "stream",
     "text": [
      " \u001B[0m\u001B[01;32mColab_and_PySpark\u001B[0m*                   \u001B[01;32m'Untitled Notebook 2025-04-10 15:44:55'\u001B[0m*\r\n \u001B[34;42mPython3_Jupyter_Notebook\u001B[0m/            \u001B[01;32m'Untitled Notebook 2025-04-17 18:03:21'\u001B[0m*\r\n \u001B[01;32mquickstart_df\u001B[0m*                       \u001B[01;32m'Untitled Notebook 2025-04-17 19:20:09'\u001B[0m*\r\n\u001B[01;32m'Untitled File 2025-04-10 15_44_49'\u001B[0m*\r\n"
     ]
    }
   ],
   "source": [
    "ls"
   ]
  },
  {
   "cell_type": "code",
   "execution_count": 0,
   "metadata": {
    "application/vnd.databricks.v1+cell": {
     "cellMetadata": {
      "byteLimit": 2048000,
      "rowLimit": 10000
     },
     "inputWidgets": {},
     "nuid": "2c6bcb48-e452-4e57-90a4-dd475adf8373",
     "showTitle": false,
     "tableResultSettingsMap": {},
     "title": ""
    }
   },
   "outputs": [
    {
     "output_type": "execute_result",
     "data": {
      "text/plain": [
       "[FileInfo(path='dbfs:/databricks-datasets/COVID/', name='COVID/', size=0, modificationTime=1744899111580),\n",
       " FileInfo(path='dbfs:/databricks-datasets/README.md', name='README.md', size=976, modificationTime=1532502324000),\n",
       " FileInfo(path='dbfs:/databricks-datasets/Rdatasets/', name='Rdatasets/', size=0, modificationTime=1744899111580),\n",
       " FileInfo(path='dbfs:/databricks-datasets/SPARK_README.md', name='SPARK_README.md', size=3359, modificationTime=1455505834000),\n",
       " FileInfo(path='dbfs:/databricks-datasets/adult/', name='adult/', size=0, modificationTime=1744899111580),\n",
       " FileInfo(path='dbfs:/databricks-datasets/airlines/', name='airlines/', size=0, modificationTime=1744899111580),\n",
       " FileInfo(path='dbfs:/databricks-datasets/amazon/', name='amazon/', size=0, modificationTime=1744899111580),\n",
       " FileInfo(path='dbfs:/databricks-datasets/asa/', name='asa/', size=0, modificationTime=1744899111580),\n",
       " FileInfo(path='dbfs:/databricks-datasets/atlas_higgs/', name='atlas_higgs/', size=0, modificationTime=1744899111580),\n",
       " FileInfo(path='dbfs:/databricks-datasets/bikeSharing/', name='bikeSharing/', size=0, modificationTime=1744899111580),\n",
       " FileInfo(path='dbfs:/databricks-datasets/cctvVideos/', name='cctvVideos/', size=0, modificationTime=1744899111580),\n",
       " FileInfo(path='dbfs:/databricks-datasets/credit-card-fraud/', name='credit-card-fraud/', size=0, modificationTime=1744899111580),\n",
       " FileInfo(path='dbfs:/databricks-datasets/cs100/', name='cs100/', size=0, modificationTime=1744899111580),\n",
       " FileInfo(path='dbfs:/databricks-datasets/cs110x/', name='cs110x/', size=0, modificationTime=1744899111580),\n",
       " FileInfo(path='dbfs:/databricks-datasets/cs190/', name='cs190/', size=0, modificationTime=1744899111580),\n",
       " FileInfo(path='dbfs:/databricks-datasets/data.gov/', name='data.gov/', size=0, modificationTime=1744899111580),\n",
       " FileInfo(path='dbfs:/databricks-datasets/definitive-guide/', name='definitive-guide/', size=0, modificationTime=1744899111580),\n",
       " FileInfo(path='dbfs:/databricks-datasets/delta-sharing/', name='delta-sharing/', size=0, modificationTime=1744899111580),\n",
       " FileInfo(path='dbfs:/databricks-datasets/flights/', name='flights/', size=0, modificationTime=1744899111580),\n",
       " FileInfo(path='dbfs:/databricks-datasets/flower_photos/', name='flower_photos/', size=0, modificationTime=1744899111580),\n",
       " FileInfo(path='dbfs:/databricks-datasets/flowers/', name='flowers/', size=0, modificationTime=1744899111580),\n",
       " FileInfo(path='dbfs:/databricks-datasets/genomics/', name='genomics/', size=0, modificationTime=1744899111580),\n",
       " FileInfo(path='dbfs:/databricks-datasets/hail/', name='hail/', size=0, modificationTime=1744899111580),\n",
       " FileInfo(path='dbfs:/databricks-datasets/identifying-campaign-effectiveness/', name='identifying-campaign-effectiveness/', size=0, modificationTime=1744899111580),\n",
       " FileInfo(path='dbfs:/databricks-datasets/inventory-reports/', name='inventory-reports/', size=0, modificationTime=1744899111580),\n",
       " FileInfo(path='dbfs:/databricks-datasets/iot/', name='iot/', size=0, modificationTime=1744899111580),\n",
       " FileInfo(path='dbfs:/databricks-datasets/iot-stream/', name='iot-stream/', size=0, modificationTime=1744899111580),\n",
       " FileInfo(path='dbfs:/databricks-datasets/learning-spark/', name='learning-spark/', size=0, modificationTime=1744899111580),\n",
       " FileInfo(path='dbfs:/databricks-datasets/learning-spark-v2/', name='learning-spark-v2/', size=0, modificationTime=1744899111580),\n",
       " FileInfo(path='dbfs:/databricks-datasets/lending-club-loan-stats/', name='lending-club-loan-stats/', size=0, modificationTime=1744899111580),\n",
       " FileInfo(path='dbfs:/databricks-datasets/med-images/', name='med-images/', size=0, modificationTime=1744899111580),\n",
       " FileInfo(path='dbfs:/databricks-datasets/media/', name='media/', size=0, modificationTime=1744899111580),\n",
       " FileInfo(path='dbfs:/databricks-datasets/mnist-digits/', name='mnist-digits/', size=0, modificationTime=1744899111580),\n",
       " FileInfo(path='dbfs:/databricks-datasets/news20.binary/', name='news20.binary/', size=0, modificationTime=1744899111580),\n",
       " FileInfo(path='dbfs:/databricks-datasets/nyctaxi/', name='nyctaxi/', size=0, modificationTime=1744899111580),\n",
       " FileInfo(path='dbfs:/databricks-datasets/nyctaxi-with-zipcodes/', name='nyctaxi-with-zipcodes/', size=0, modificationTime=1744899111580),\n",
       " FileInfo(path='dbfs:/databricks-datasets/online_retail/', name='online_retail/', size=0, modificationTime=1744899111580),\n",
       " FileInfo(path='dbfs:/databricks-datasets/overlap-join/', name='overlap-join/', size=0, modificationTime=1744899111580),\n",
       " FileInfo(path='dbfs:/databricks-datasets/power-plant/', name='power-plant/', size=0, modificationTime=1744899111580),\n",
       " FileInfo(path='dbfs:/databricks-datasets/retail-org/', name='retail-org/', size=0, modificationTime=1744899111580),\n",
       " FileInfo(path='dbfs:/databricks-datasets/rwe/', name='rwe/', size=0, modificationTime=1744899111580),\n",
       " FileInfo(path='dbfs:/databricks-datasets/sai-summit-2019-sf/', name='sai-summit-2019-sf/', size=0, modificationTime=1744899111580),\n",
       " FileInfo(path='dbfs:/databricks-datasets/sample_logs/', name='sample_logs/', size=0, modificationTime=1744899111580),\n",
       " FileInfo(path='dbfs:/databricks-datasets/samples/', name='samples/', size=0, modificationTime=1744899111580),\n",
       " FileInfo(path='dbfs:/databricks-datasets/sfo_customer_survey/', name='sfo_customer_survey/', size=0, modificationTime=1744899111580),\n",
       " FileInfo(path='dbfs:/databricks-datasets/sms_spam_collection/', name='sms_spam_collection/', size=0, modificationTime=1744899111580),\n",
       " FileInfo(path='dbfs:/databricks-datasets/songs/', name='songs/', size=0, modificationTime=1744899111580),\n",
       " FileInfo(path='dbfs:/databricks-datasets/structured-streaming/', name='structured-streaming/', size=0, modificationTime=1744899111580),\n",
       " FileInfo(path='dbfs:/databricks-datasets/timeseries/', name='timeseries/', size=0, modificationTime=1744899111580),\n",
       " FileInfo(path='dbfs:/databricks-datasets/tpch/', name='tpch/', size=0, modificationTime=1744899111580),\n",
       " FileInfo(path='dbfs:/databricks-datasets/travel_recommendations_realtime/', name='travel_recommendations_realtime/', size=0, modificationTime=1744899111580),\n",
       " FileInfo(path='dbfs:/databricks-datasets/warmup/', name='warmup/', size=0, modificationTime=1744899111581),\n",
       " FileInfo(path='dbfs:/databricks-datasets/weather/', name='weather/', size=0, modificationTime=1744899111581),\n",
       " FileInfo(path='dbfs:/databricks-datasets/wiki/', name='wiki/', size=0, modificationTime=1744899111581),\n",
       " FileInfo(path='dbfs:/databricks-datasets/wikipedia-datasets/', name='wikipedia-datasets/', size=0, modificationTime=1744899111581),\n",
       " FileInfo(path='dbfs:/databricks-datasets/wine-quality/', name='wine-quality/', size=0, modificationTime=1744899111581)]"
      ]
     },
     "execution_count": 44,
     "metadata": {},
     "output_type": "execute_result"
    }
   ],
   "source": [
    "dbutils.fs.ls(\"/databricks-datasets\")"
   ]
  },
  {
   "cell_type": "code",
   "execution_count": 0,
   "metadata": {
    "application/vnd.databricks.v1+cell": {
     "cellMetadata": {
      "byteLimit": 2048000,
      "rowLimit": 10000
     },
     "inputWidgets": {},
     "nuid": "7b0b07bb-eb7c-43fa-ba91-4529d5b9ec97",
     "showTitle": false,
     "tableResultSettingsMap": {},
     "title": ""
    },
    "colab": {
     "base_uri": "https://localhost:8080/",
     "height": 35
    },
    "id": "QF9e3lDDEX3I",
    "outputId": "2533b686-cd10-4b1d-d00b-84515e8b3104"
   },
   "outputs": [
    {
     "output_type": "execute_result",
     "data": {
      "text/plain": [
       "'/Workspace/Users/prepraka2@publicisgroupe.net'"
      ]
     },
     "execution_count": 45,
     "metadata": {},
     "output_type": "execute_result"
    }
   ],
   "source": [
    "pwd"
   ]
  },
  {
   "cell_type": "markdown",
   "metadata": {
    "application/vnd.databricks.v1+cell": {
     "cellMetadata": {
      "byteLimit": 2048000,
      "rowLimit": 10000
     },
     "inputWidgets": {},
     "nuid": "a9525188-7db6-4f82-94f6-ecda7a9d9429",
     "showTitle": false,
     "tableResultSettingsMap": {},
     "title": ""
    },
    "id": "C3x0ZRLxjMVr"
   },
   "source": [
    "Set Environment Variables:"
   ]
  },
  {
   "cell_type": "code",
   "execution_count": 0,
   "metadata": {
    "application/vnd.databricks.v1+cell": {
     "cellMetadata": {
      "byteLimit": 2048000,
      "rowLimit": 10000
     },
     "inputWidgets": {},
     "nuid": "e3743c26-3837-4623-bf0c-8af366c3c774",
     "showTitle": false,
     "tableResultSettingsMap": {},
     "title": ""
    },
    "colab": {
     "base_uri": "https://localhost:8080/"
    },
    "id": "3ACYMwhgHTYz",
    "outputId": "fc416e81-9715-4ae5-fe5a-298fc2db78a3"
   },
   "outputs": [
    {
     "output_type": "stream",
     "name": "stdout",
     "output_type": "stream",
     "text": [
      " Colab_and_PySpark\t\t     'Untitled Notebook 2025-04-10 15:44:55'\r\n Python3_Jupyter_Notebook\t     'Untitled Notebook 2025-04-17 18:03:21'\r\n quickstart_df\t\t\t     'Untitled Notebook 2025-04-17 19:20:09'\r\n'Untitled File 2025-04-10 15_44_49'\r\n"
     ]
    }
   ],
   "source": [
    "!ls"
   ]
  },
  {
   "cell_type": "markdown",
   "metadata": {
    "application/vnd.databricks.v1+cell": {
     "cellMetadata": {
      "byteLimit": 2048000,
      "rowLimit": 10000
     },
     "inputWidgets": {},
     "nuid": "264c7a04-84a9-4252-b77f-fc37c354dfba",
     "showTitle": false,
     "tableResultSettingsMap": {},
     "title": ""
    },
    "id": "hmIqq6xPK7m7"
   },
   "source": [
    "<a id='exploring-the-dataset'></a>\n",
    "## Exploring the Dataset"
   ]
  },
  {
   "cell_type": "markdown",
   "metadata": {
    "application/vnd.databricks.v1+cell": {
     "cellMetadata": {
      "byteLimit": 2048000,
      "rowLimit": 10000
     },
     "inputWidgets": {},
     "nuid": "13e29bc6-d7ea-4ae7-88e1-9fd44a732aba",
     "showTitle": false,
     "tableResultSettingsMap": {},
     "title": ""
    },
    "id": "VZwsr57lwPgq"
   },
   "source": [
    "<a id='loading-the-dataset'></a>\n",
    "### Loading the Dataset"
   ]
  },
  {
   "cell_type": "code",
   "execution_count": 0,
   "metadata": {
    "application/vnd.databricks.v1+cell": {
     "cellMetadata": {
      "byteLimit": 2048000,
      "rowLimit": 10000
     },
     "inputWidgets": {},
     "nuid": "277658f1-ff57-492e-ad7a-10739be3507c",
     "showTitle": false,
     "tableResultSettingsMap": {},
     "title": ""
    },
    "colab": {
     "base_uri": "https://localhost:8080/"
    },
    "id": "hQ3zmGACLKlN",
    "outputId": "de968ad0-f84e-426e-9e23-2471dd46f09a"
   },
   "outputs": [
    {
     "output_type": "execute_result",
     "data": {
      "text/plain": [
       "[FileInfo(path='abfss://training@trainingspark.dfs.core.windows.net/cars/cars.csv', name='cars.csv', size=22608, modificationTime=1744892360000)]"
      ]
     },
     "execution_count": 47,
     "metadata": {},
     "output_type": "execute_result"
    }
   ],
   "source": [
    "dbutils.fs.ls(\"abfss://training@trainingspark.dfs.core.windows.net/cars\")"
   ]
  },
  {
   "cell_type": "code",
   "execution_count": 0,
   "metadata": {
    "application/vnd.databricks.v1+cell": {
     "cellMetadata": {
      "byteLimit": 2048000,
      "rowLimit": 10000
     },
     "inputWidgets": {},
     "nuid": "143d15d6-faf2-4e10-ba01-98b56611efe1",
     "showTitle": false,
     "tableResultSettingsMap": {},
     "title": ""
    },
    "colab": {
     "base_uri": "https://localhost:8080/"
    },
    "id": "hz6ALr5mMqZt",
    "outputId": "663bcc25-150b-4ba8-f8e5-06acd84b06cc"
   },
   "outputs": [
    {
     "output_type": "stream",
     "name": "stdout",
     "output_type": "stream",
     "text": [
      "+--------------------+----+---------+------------+----------+------+------------+-----+------+\n|                 Car| MPG|Cylinders|Displacement|Horsepower|Weight|Acceleration|Model|Origin|\n+--------------------+----+---------+------------+----------+------+------------+-----+------+\n|Chevrolet Chevell...|18.0|        8|       307.0|     130.0| 3504.|        12.0|   70|    US|\n|   Buick Skylark 320|15.0|        8|       350.0|     165.0| 3693.|        11.5|   70|    US|\n|  Plymouth Satellite|18.0|        8|       318.0|     150.0| 3436.|        11.0|   70|    US|\n|       AMC Rebel SST|16.0|        8|       304.0|     150.0| 3433.|        12.0|   70|    US|\n|         Ford Torino|17.0|        8|       302.0|     140.0| 3449.|        10.5|   70|    US|\n+--------------------+----+---------+------------+----------+------+------------+-----+------+\nonly showing top 5 rows\n"
     ]
    }
   ],
   "source": [
    "# Load data from csv to a dataframe.\n",
    "# header=True means the first row is a header\n",
    "# sep=';' means the column are seperated using ''\n",
    "df = spark.read.csv('abfss://training@trainingspark.dfs.core.windows.net/cars', header=True, sep=\";\")\n",
    "# df.cache()\n",
    "df.show(5)"
   ]
  },
  {
   "cell_type": "code",
   "execution_count": 0,
   "metadata": {
    "application/vnd.databricks.v1+cell": {
     "cellMetadata": {
      "byteLimit": 2048000,
      "rowLimit": 10000
     },
     "inputWidgets": {},
     "nuid": "77b98621-737d-414d-aa3c-d04ebf75c2db",
     "showTitle": false,
     "tableResultSettingsMap": {},
     "title": ""
    }
   },
   "outputs": [
    {
     "output_type": "display_data",
     "data": {
      "text/html": [
       "<style scoped>\n",
       "  .table-result-container {\n",
       "    max-height: 300px;\n",
       "    overflow: auto;\n",
       "  }\n",
       "  table, th, td {\n",
       "    border: 1px solid black;\n",
       "    border-collapse: collapse;\n",
       "  }\n",
       "  th, td {\n",
       "    padding: 5px;\n",
       "  }\n",
       "  th {\n",
       "    text-align: left;\n",
       "  }\n",
       "</style><div class='table-result-container'><table class='table-result'><thead style='background-color: white'><tr><th>Car</th><th>MPG</th><th>Cylinders</th><th>Displacement</th><th>Horsepower</th><th>Weight</th><th>Acceleration</th><th>Model</th><th>Origin</th></tr></thead><tbody><tr><td>Chevrolet Chevelle Malibu</td><td>18.0</td><td>8</td><td>307.0</td><td>130.0</td><td>3504.</td><td>12.0</td><td>70</td><td>US</td></tr><tr><td>Buick Skylark 320</td><td>15.0</td><td>8</td><td>350.0</td><td>165.0</td><td>3693.</td><td>11.5</td><td>70</td><td>US</td></tr><tr><td>Plymouth Satellite</td><td>18.0</td><td>8</td><td>318.0</td><td>150.0</td><td>3436.</td><td>11.0</td><td>70</td><td>US</td></tr><tr><td>AMC Rebel SST</td><td>16.0</td><td>8</td><td>304.0</td><td>150.0</td><td>3433.</td><td>12.0</td><td>70</td><td>US</td></tr><tr><td>Ford Torino</td><td>17.0</td><td>8</td><td>302.0</td><td>140.0</td><td>3449.</td><td>10.5</td><td>70</td><td>US</td></tr><tr><td>Ford Galaxie 500</td><td>15.0</td><td>8</td><td>429.0</td><td>198.0</td><td>4341.</td><td>10.0</td><td>70</td><td>US</td></tr><tr><td>Chevrolet Impala</td><td>14.0</td><td>8</td><td>454.0</td><td>220.0</td><td>4354.</td><td>9.0</td><td>70</td><td>US</td></tr><tr><td>Plymouth Fury iii</td><td>14.0</td><td>8</td><td>440.0</td><td>215.0</td><td>4312.</td><td>8.5</td><td>70</td><td>US</td></tr><tr><td>Pontiac Catalina</td><td>14.0</td><td>8</td><td>455.0</td><td>225.0</td><td>4425.</td><td>10.0</td><td>70</td><td>US</td></tr><tr><td>AMC Ambassador DPL</td><td>15.0</td><td>8</td><td>390.0</td><td>190.0</td><td>3850.</td><td>8.5</td><td>70</td><td>US</td></tr><tr><td>Citroen DS-21 Pallas</td><td>0</td><td>4</td><td>133.0</td><td>115.0</td><td>3090.</td><td>17.5</td><td>70</td><td>Europe</td></tr><tr><td>Chevrolet Chevelle Concours (sw)</td><td>0</td><td>8</td><td>350.0</td><td>165.0</td><td>4142.</td><td>11.5</td><td>70</td><td>US</td></tr><tr><td>Ford Torino (sw)</td><td>0</td><td>8</td><td>351.0</td><td>153.0</td><td>4034.</td><td>11.0</td><td>70</td><td>US</td></tr><tr><td>Plymouth Satellite (sw)</td><td>0</td><td>8</td><td>383.0</td><td>175.0</td><td>4166.</td><td>10.5</td><td>70</td><td>US</td></tr><tr><td>AMC Rebel SST (sw)</td><td>0</td><td>8</td><td>360.0</td><td>175.0</td><td>3850.</td><td>11.0</td><td>70</td><td>US</td></tr><tr><td>Dodge Challenger SE</td><td>15.0</td><td>8</td><td>383.0</td><td>170.0</td><td>3563.</td><td>10.0</td><td>70</td><td>US</td></tr><tr><td>Plymouth 'Cuda 340</td><td>14.0</td><td>8</td><td>340.0</td><td>160.0</td><td>3609.</td><td>8.0</td><td>70</td><td>US</td></tr><tr><td>Ford Mustang Boss 302</td><td>0</td><td>8</td><td>302.0</td><td>140.0</td><td>3353.</td><td>8.0</td><td>70</td><td>US</td></tr><tr><td>Chevrolet Monte Carlo</td><td>15.0</td><td>8</td><td>400.0</td><td>150.0</td><td>3761.</td><td>9.5</td><td>70</td><td>US</td></tr><tr><td>Buick Estate Wagon (sw)</td><td>14.0</td><td>8</td><td>455.0</td><td>225.0</td><td>3086.</td><td>10.0</td><td>70</td><td>US</td></tr><tr><td>Toyota Corolla Mark ii</td><td>24.0</td><td>4</td><td>113.0</td><td>95.00</td><td>2372.</td><td>15.0</td><td>70</td><td>Japan</td></tr><tr><td>Plymouth Duster</td><td>22.0</td><td>6</td><td>198.0</td><td>95.00</td><td>2833.</td><td>15.5</td><td>70</td><td>US</td></tr><tr><td>AMC Hornet</td><td>18.0</td><td>6</td><td>199.0</td><td>97.00</td><td>2774.</td><td>15.5</td><td>70</td><td>US</td></tr><tr><td>Ford Maverick</td><td>21.0</td><td>6</td><td>200.0</td><td>85.00</td><td>2587.</td><td>16.0</td><td>70</td><td>US</td></tr><tr><td>Datsun PL510</td><td>27.0</td><td>4</td><td>97.00</td><td>88.00</td><td>2130.</td><td>14.5</td><td>70</td><td>Japan</td></tr><tr><td>Volkswagen 1131 Deluxe Sedan</td><td>26.0</td><td>4</td><td>97.00</td><td>46.00</td><td>1835.</td><td>20.5</td><td>70</td><td>Europe</td></tr><tr><td>Peugeot 504</td><td>25.0</td><td>4</td><td>110.0</td><td>87.00</td><td>2672.</td><td>17.5</td><td>70</td><td>Europe</td></tr><tr><td>Audi 100 LS</td><td>24.0</td><td>4</td><td>107.0</td><td>90.00</td><td>2430.</td><td>14.5</td><td>70</td><td>Europe</td></tr><tr><td>Saab 99e</td><td>25.0</td><td>4</td><td>104.0</td><td>95.00</td><td>2375.</td><td>17.5</td><td>70</td><td>Europe</td></tr><tr><td>BMW 2002</td><td>26.0</td><td>4</td><td>121.0</td><td>113.0</td><td>2234.</td><td>12.5</td><td>70</td><td>Europe</td></tr><tr><td>AMC Gremlin</td><td>21.0</td><td>6</td><td>199.0</td><td>90.00</td><td>2648.</td><td>15.0</td><td>70</td><td>US</td></tr><tr><td>Ford F250</td><td>10.0</td><td>8</td><td>360.0</td><td>215.0</td><td>4615.</td><td>14.0</td><td>70</td><td>US</td></tr><tr><td>Chevy C20</td><td>10.0</td><td>8</td><td>307.0</td><td>200.0</td><td>4376.</td><td>15.0</td><td>70</td><td>US</td></tr><tr><td>Dodge D200</td><td>11.0</td><td>8</td><td>318.0</td><td>210.0</td><td>4382.</td><td>13.5</td><td>70</td><td>US</td></tr><tr><td>Hi 1200D</td><td>9.0</td><td>8</td><td>304.0</td><td>193.0</td><td>4732.</td><td>18.5</td><td>70</td><td>US</td></tr><tr><td>Datsun PL510</td><td>27.0</td><td>4</td><td>97.00</td><td>88.00</td><td>2130.</td><td>14.5</td><td>71</td><td>Japan</td></tr><tr><td>Chevrolet Vega 2300</td><td>28.0</td><td>4</td><td>140.0</td><td>90.00</td><td>2264.</td><td>15.5</td><td>71</td><td>US</td></tr><tr><td>Toyota Corolla</td><td>25.0</td><td>4</td><td>113.0</td><td>95.00</td><td>2228.</td><td>14.0</td><td>71</td><td>Japan</td></tr><tr><td>Ford Pinto</td><td>25.0</td><td>4</td><td>98.00</td><td>0</td><td>2046.</td><td>19.0</td><td>71</td><td>US</td></tr><tr><td>Volkswagen Super Beetle 117</td><td>0</td><td>4</td><td>97.00</td><td>48.00</td><td>1978.</td><td>20.0</td><td>71</td><td>Europe</td></tr><tr><td>AMC Gremlin</td><td>19.0</td><td>6</td><td>232.0</td><td>100.0</td><td>2634.</td><td>13.0</td><td>71</td><td>US</td></tr><tr><td>Plymouth Satellite Custom</td><td>16.0</td><td>6</td><td>225.0</td><td>105.0</td><td>3439.</td><td>15.5</td><td>71</td><td>US</td></tr><tr><td>Chevrolet Chevelle Malibu</td><td>17.0</td><td>6</td><td>250.0</td><td>100.0</td><td>3329.</td><td>15.5</td><td>71</td><td>US</td></tr><tr><td>Ford Torino 500</td><td>19.0</td><td>6</td><td>250.0</td><td>88.00</td><td>3302.</td><td>15.5</td><td>71</td><td>US</td></tr><tr><td>AMC Matador</td><td>18.0</td><td>6</td><td>232.0</td><td>100.0</td><td>3288.</td><td>15.5</td><td>71</td><td>US</td></tr><tr><td>Chevrolet Impala</td><td>14.0</td><td>8</td><td>350.0</td><td>165.0</td><td>4209.</td><td>12.0</td><td>71</td><td>US</td></tr><tr><td>Pontiac Catalina Brougham</td><td>14.0</td><td>8</td><td>400.0</td><td>175.0</td><td>4464.</td><td>11.5</td><td>71</td><td>US</td></tr><tr><td>Ford Galaxie 500</td><td>14.0</td><td>8</td><td>351.0</td><td>153.0</td><td>4154.</td><td>13.5</td><td>71</td><td>US</td></tr><tr><td>Plymouth Fury iii</td><td>14.0</td><td>8</td><td>318.0</td><td>150.0</td><td>4096.</td><td>13.0</td><td>71</td><td>US</td></tr><tr><td>Dodge Monaco (sw)</td><td>12.0</td><td>8</td><td>383.0</td><td>180.0</td><td>4955.</td><td>11.5</td><td>71</td><td>US</td></tr><tr><td>Ford Country Squire (sw)</td><td>13.0</td><td>8</td><td>400.0</td><td>170.0</td><td>4746.</td><td>12.0</td><td>71</td><td>US</td></tr><tr><td>Pontiac Safari (sw)</td><td>13.0</td><td>8</td><td>400.0</td><td>175.0</td><td>5140.</td><td>12.0</td><td>71</td><td>US</td></tr><tr><td>AMC Hornet Sportabout (sw)</td><td>18.0</td><td>6</td><td>258.0</td><td>110.0</td><td>2962.</td><td>13.5</td><td>71</td><td>US</td></tr><tr><td>Chevrolet Vega (sw)</td><td>22.0</td><td>4</td><td>140.0</td><td>72.00</td><td>2408.</td><td>19.0</td><td>71</td><td>US</td></tr><tr><td>Pontiac Firebird</td><td>19.0</td><td>6</td><td>250.0</td><td>100.0</td><td>3282.</td><td>15.0</td><td>71</td><td>US</td></tr><tr><td>Ford Mustang</td><td>18.0</td><td>6</td><td>250.0</td><td>88.00</td><td>3139.</td><td>14.5</td><td>71</td><td>US</td></tr><tr><td>Mercury Capri 2000</td><td>23.0</td><td>4</td><td>122.0</td><td>86.00</td><td>2220.</td><td>14.0</td><td>71</td><td>US</td></tr><tr><td>Opel 1900</td><td>28.0</td><td>4</td><td>116.0</td><td>90.00</td><td>2123.</td><td>14.0</td><td>71</td><td>Europe</td></tr><tr><td>Peugeot 304</td><td>30.0</td><td>4</td><td>79.00</td><td>70.00</td><td>2074.</td><td>19.5</td><td>71</td><td>Europe</td></tr><tr><td>Fiat 124B</td><td>30.0</td><td>4</td><td>88.00</td><td>76.00</td><td>2065.</td><td>14.5</td><td>71</td><td>Europe</td></tr><tr><td>Toyota Corolla 1200</td><td>31.0</td><td>4</td><td>71.00</td><td>65.00</td><td>1773.</td><td>19.0</td><td>71</td><td>Japan</td></tr><tr><td>Datsun 1200</td><td>35.0</td><td>4</td><td>72.00</td><td>69.00</td><td>1613.</td><td>18.0</td><td>71</td><td>Japan</td></tr><tr><td>Volkswagen Model 111</td><td>27.0</td><td>4</td><td>97.00</td><td>60.00</td><td>1834.</td><td>19.0</td><td>71</td><td>Europe</td></tr><tr><td>Plymouth Cricket</td><td>26.0</td><td>4</td><td>91.00</td><td>70.00</td><td>1955.</td><td>20.5</td><td>71</td><td>US</td></tr><tr><td>Toyota Corolla Hardtop</td><td>24.0</td><td>4</td><td>113.0</td><td>95.00</td><td>2278.</td><td>15.5</td><td>72</td><td>Japan</td></tr><tr><td>Dodge Colt Hardtop</td><td>25.0</td><td>4</td><td>97.50</td><td>80.00</td><td>2126.</td><td>17.0</td><td>72</td><td>US</td></tr><tr><td>Volkswagen Type 3</td><td>23.0</td><td>4</td><td>97.00</td><td>54.00</td><td>2254.</td><td>23.5</td><td>72</td><td>Europe</td></tr><tr><td>Chevrolet Vega</td><td>20.0</td><td>4</td><td>140.0</td><td>90.00</td><td>2408.</td><td>19.5</td><td>72</td><td>US</td></tr><tr><td>Ford Pinto Runabout</td><td>21.0</td><td>4</td><td>122.0</td><td>86.00</td><td>2226.</td><td>16.5</td><td>72</td><td>US</td></tr><tr><td>Chevrolet Impala</td><td>13.0</td><td>8</td><td>350.0</td><td>165.0</td><td>4274.</td><td>12.0</td><td>72</td><td>US</td></tr><tr><td>Pontiac Catalina</td><td>14.0</td><td>8</td><td>400.0</td><td>175.0</td><td>4385.</td><td>12.0</td><td>72</td><td>US</td></tr><tr><td>Plymouth Fury III</td><td>15.0</td><td>8</td><td>318.0</td><td>150.0</td><td>4135.</td><td>13.5</td><td>72</td><td>US</td></tr><tr><td>Ford Galaxie 500</td><td>14.0</td><td>8</td><td>351.0</td><td>153.0</td><td>4129.</td><td>13.0</td><td>72</td><td>US</td></tr><tr><td>AMC Ambassador SST</td><td>17.0</td><td>8</td><td>304.0</td><td>150.0</td><td>3672.</td><td>11.5</td><td>72</td><td>US</td></tr><tr><td>Mercury Marquis</td><td>11.0</td><td>8</td><td>429.0</td><td>208.0</td><td>4633.</td><td>11.0</td><td>72</td><td>US</td></tr><tr><td>Buick LeSabre Custom</td><td>13.0</td><td>8</td><td>350.0</td><td>155.0</td><td>4502.</td><td>13.5</td><td>72</td><td>US</td></tr><tr><td>Oldsmobile Delta 88 Royale</td><td>12.0</td><td>8</td><td>350.0</td><td>160.0</td><td>4456.</td><td>13.5</td><td>72</td><td>US</td></tr><tr><td>Chrysler Newport Royal</td><td>13.0</td><td>8</td><td>400.0</td><td>190.0</td><td>4422.</td><td>12.5</td><td>72</td><td>US</td></tr><tr><td>Mazda RX2 Coupe</td><td>19.0</td><td>3</td><td>70.00</td><td>97.00</td><td>2330.</td><td>13.5</td><td>72</td><td>Japan</td></tr><tr><td>AMC Matador (sw)</td><td>15.0</td><td>8</td><td>304.0</td><td>150.0</td><td>3892.</td><td>12.5</td><td>72</td><td>US</td></tr><tr><td>Chevrolet Chevelle Concours (sw)</td><td>13.0</td><td>8</td><td>307.0</td><td>130.0</td><td>4098.</td><td>14.0</td><td>72</td><td>US</td></tr><tr><td>Ford Gran Torino (sw)</td><td>13.0</td><td>8</td><td>302.0</td><td>140.0</td><td>4294.</td><td>16.0</td><td>72</td><td>US</td></tr><tr><td>Plymouth Satellite Custom (sw)</td><td>14.0</td><td>8</td><td>318.0</td><td>150.0</td><td>4077.</td><td>14.0</td><td>72</td><td>US</td></tr><tr><td>Volvo 145e (sw)</td><td>18.0</td><td>4</td><td>121.0</td><td>112.0</td><td>2933.</td><td>14.5</td><td>72</td><td>Europe</td></tr><tr><td>Volkswagen 411 (sw)</td><td>22.0</td><td>4</td><td>121.0</td><td>76.00</td><td>2511.</td><td>18.0</td><td>72</td><td>Europe</td></tr><tr><td>Peugeot 504 (sw)</td><td>21.0</td><td>4</td><td>120.0</td><td>87.00</td><td>2979.</td><td>19.5</td><td>72</td><td>Europe</td></tr><tr><td>Renault 12 (sw)</td><td>26.0</td><td>4</td><td>96.00</td><td>69.00</td><td>2189.</td><td>18.0</td><td>72</td><td>Europe</td></tr><tr><td>Ford Pinto (sw)</td><td>22.0</td><td>4</td><td>122.0</td><td>86.00</td><td>2395.</td><td>16.0</td><td>72</td><td>US</td></tr><tr><td>Datsun 510 (sw)</td><td>28.0</td><td>4</td><td>97.00</td><td>92.00</td><td>2288.</td><td>17.0</td><td>72</td><td>Japan</td></tr><tr><td>Toyota Corolla Mark II (sw)</td><td>23.0</td><td>4</td><td>120.0</td><td>97.00</td><td>2506.</td><td>14.5</td><td>72</td><td>Japan</td></tr><tr><td>Dodge Colt (sw)</td><td>28.0</td><td>4</td><td>98.00</td><td>80.00</td><td>2164.</td><td>15.0</td><td>72</td><td>US</td></tr><tr><td>Toyota Corolla 1600 (sw)</td><td>27.0</td><td>4</td><td>97.00</td><td>88.00</td><td>2100.</td><td>16.5</td><td>72</td><td>Japan</td></tr><tr><td>Buick Century 350</td><td>13.0</td><td>8</td><td>350.0</td><td>175.0</td><td>4100.</td><td>13.0</td><td>73</td><td>US</td></tr><tr><td>AMC Matador</td><td>14.0</td><td>8</td><td>304.0</td><td>150.0</td><td>3672.</td><td>11.5</td><td>73</td><td>US</td></tr><tr><td>Chevrolet Malibu</td><td>13.0</td><td>8</td><td>350.0</td><td>145.0</td><td>3988.</td><td>13.0</td><td>73</td><td>US</td></tr><tr><td>Ford Gran Torino</td><td>14.0</td><td>8</td><td>302.0</td><td>137.0</td><td>4042.</td><td>14.5</td><td>73</td><td>US</td></tr><tr><td>Dodge Coronet Custom</td><td>15.0</td><td>8</td><td>318.0</td><td>150.0</td><td>3777.</td><td>12.5</td><td>73</td><td>US</td></tr><tr><td>Mercury Marquis Brougham</td><td>12.0</td><td>8</td><td>429.0</td><td>198.0</td><td>4952.</td><td>11.5</td><td>73</td><td>US</td></tr><tr><td>Chevrolet Caprice Classic</td><td>13.0</td><td>8</td><td>400.0</td><td>150.0</td><td>4464.</td><td>12.0</td><td>73</td><td>US</td></tr><tr><td>Ford LTD</td><td>13.0</td><td>8</td><td>351.0</td><td>158.0</td><td>4363.</td><td>13.0</td><td>73</td><td>US</td></tr><tr><td>Plymouth Fury Gran Sedan</td><td>14.0</td><td>8</td><td>318.0</td><td>150.0</td><td>4237.</td><td>14.5</td><td>73</td><td>US</td></tr><tr><td>Chrysler New Yorker Brougham</td><td>13.0</td><td>8</td><td>440.0</td><td>215.0</td><td>4735.</td><td>11.0</td><td>73</td><td>US</td></tr><tr><td>Buick Electra 225 Custom</td><td>12.0</td><td>8</td><td>455.0</td><td>225.0</td><td>4951.</td><td>11.0</td><td>73</td><td>US</td></tr><tr><td>AMC Ambassador Brougham</td><td>13.0</td><td>8</td><td>360.0</td><td>175.0</td><td>3821.</td><td>11.0</td><td>73</td><td>US</td></tr><tr><td>Plymouth Valiant</td><td>18.0</td><td>6</td><td>225.0</td><td>105.0</td><td>3121.</td><td>16.5</td><td>73</td><td>US</td></tr><tr><td>Chevrolet Nova Custom</td><td>16.0</td><td>6</td><td>250.0</td><td>100.0</td><td>3278.</td><td>18.0</td><td>73</td><td>US</td></tr><tr><td>AMC Hornet</td><td>18.0</td><td>6</td><td>232.0</td><td>100.0</td><td>2945.</td><td>16.0</td><td>73</td><td>US</td></tr><tr><td>Ford Maverick</td><td>18.0</td><td>6</td><td>250.0</td><td>88.00</td><td>3021.</td><td>16.5</td><td>73</td><td>US</td></tr><tr><td>Plymouth Duster</td><td>23.0</td><td>6</td><td>198.0</td><td>95.00</td><td>2904.</td><td>16.0</td><td>73</td><td>US</td></tr><tr><td>Volkswagen Super Beetle</td><td>26.0</td><td>4</td><td>97.00</td><td>46.00</td><td>1950.</td><td>21.0</td><td>73</td><td>Europe</td></tr><tr><td>Chevrolet Impala</td><td>11.0</td><td>8</td><td>400.0</td><td>150.0</td><td>4997.</td><td>14.0</td><td>73</td><td>US</td></tr><tr><td>Ford Country</td><td>12.0</td><td>8</td><td>400.0</td><td>167.0</td><td>4906.</td><td>12.5</td><td>73</td><td>US</td></tr><tr><td>Plymouth Custom Suburb</td><td>13.0</td><td>8</td><td>360.0</td><td>170.0</td><td>4654.</td><td>13.0</td><td>73</td><td>US</td></tr><tr><td>Oldsmobile Vista Cruiser</td><td>12.0</td><td>8</td><td>350.0</td><td>180.0</td><td>4499.</td><td>12.5</td><td>73</td><td>US</td></tr><tr><td>AMC Gremlin</td><td>18.0</td><td>6</td><td>232.0</td><td>100.0</td><td>2789.</td><td>15.0</td><td>73</td><td>US</td></tr><tr><td>Toyota Camry</td><td>20.0</td><td>4</td><td>97.00</td><td>88.00</td><td>2279.</td><td>19.0</td><td>73</td><td>Japan</td></tr><tr><td>Chevrolet Vega</td><td>21.0</td><td>4</td><td>140.0</td><td>72.00</td><td>2401.</td><td>19.5</td><td>73</td><td>US</td></tr><tr><td>Datsun 610</td><td>22.0</td><td>4</td><td>108.0</td><td>94.00</td><td>2379.</td><td>16.5</td><td>73</td><td>Japan</td></tr><tr><td>Mazda RX3</td><td>18.0</td><td>3</td><td>70.00</td><td>90.00</td><td>2124.</td><td>13.5</td><td>73</td><td>Japan</td></tr><tr><td>Ford Pinto</td><td>19.0</td><td>4</td><td>122.0</td><td>85.00</td><td>2310.</td><td>18.5</td><td>73</td><td>US</td></tr><tr><td>Mercury Capri v6</td><td>21.0</td><td>6</td><td>155.0</td><td>107.0</td><td>2472.</td><td>14.0</td><td>73</td><td>US</td></tr><tr><td>Fiat 124 Sport Coupe</td><td>26.0</td><td>4</td><td>98.00</td><td>90.00</td><td>2265.</td><td>15.5</td><td>73</td><td>Europe</td></tr><tr><td>Chevrolet Monte Carlo S</td><td>15.0</td><td>8</td><td>350.0</td><td>145.0</td><td>4082.</td><td>13.0</td><td>73</td><td>US</td></tr><tr><td>Pontiac Grand Prix</td><td>16.0</td><td>8</td><td>400.0</td><td>230.0</td><td>4278.</td><td>9.50</td><td>73</td><td>US</td></tr><tr><td>Fiat 128</td><td>29.0</td><td>4</td><td>68.00</td><td>49.00</td><td>1867.</td><td>19.5</td><td>73</td><td>Europe</td></tr><tr><td>Opel Manta</td><td>24.0</td><td>4</td><td>116.0</td><td>75.00</td><td>2158.</td><td>15.5</td><td>73</td><td>Europe</td></tr><tr><td>Audi 100LS</td><td>20.0</td><td>4</td><td>114.0</td><td>91.00</td><td>2582.</td><td>14.0</td><td>73</td><td>Europe</td></tr><tr><td>Volvo 144ea</td><td>19.0</td><td>4</td><td>121.0</td><td>112.0</td><td>2868.</td><td>15.5</td><td>73</td><td>Europe</td></tr><tr><td>Dodge Dart Custom</td><td>15.0</td><td>8</td><td>318.0</td><td>150.0</td><td>3399.</td><td>11.0</td><td>73</td><td>US</td></tr><tr><td>Saab 99le</td><td>24.0</td><td>4</td><td>121.0</td><td>110.0</td><td>2660.</td><td>14.0</td><td>73</td><td>Europe</td></tr><tr><td>Toyota Mark II</td><td>20.0</td><td>6</td><td>156.0</td><td>122.0</td><td>2807.</td><td>13.5</td><td>73</td><td>Japan</td></tr><tr><td>Oldsmobile Omega</td><td>11.0</td><td>8</td><td>350.0</td><td>180.0</td><td>3664.</td><td>11.0</td><td>73</td><td>US</td></tr><tr><td>Plymouth Duster</td><td>20.0</td><td>6</td><td>198.0</td><td>95.00</td><td>3102.</td><td>16.5</td><td>74</td><td>US</td></tr><tr><td>Ford Maverick</td><td>21.0</td><td>6</td><td>200.0</td><td>0</td><td>2875.</td><td>17.0</td><td>74</td><td>US</td></tr><tr><td>AMC Hornet</td><td>19.0</td><td>6</td><td>232.0</td><td>100.0</td><td>2901.</td><td>16.0</td><td>74</td><td>US</td></tr><tr><td>Chevrolet Nova</td><td>15.0</td><td>6</td><td>250.0</td><td>100.0</td><td>3336.</td><td>17.0</td><td>74</td><td>US</td></tr><tr><td>Datsun B210</td><td>31.0</td><td>4</td><td>79.00</td><td>67.00</td><td>1950.</td><td>19.0</td><td>74</td><td>Japan</td></tr><tr><td>Ford Pinto</td><td>26.0</td><td>4</td><td>122.0</td><td>80.00</td><td>2451.</td><td>16.5</td><td>74</td><td>US</td></tr><tr><td>Toyota Corolla 1200</td><td>32.0</td><td>4</td><td>71.00</td><td>65.00</td><td>1836.</td><td>21.0</td><td>74</td><td>Japan</td></tr><tr><td>Chevrolet Vega</td><td>25.0</td><td>4</td><td>140.0</td><td>75.00</td><td>2542.</td><td>17.0</td><td>74</td><td>US</td></tr><tr><td>Chevrolet Chevelle Malibu Classic</td><td>16.0</td><td>6</td><td>250.0</td><td>100.0</td><td>3781.</td><td>17.0</td><td>74</td><td>US</td></tr><tr><td>AMC Matador</td><td>16.0</td><td>6</td><td>258.0</td><td>110.0</td><td>3632.</td><td>18.0</td><td>74</td><td>US</td></tr><tr><td>Plymouth Satellite Sebring</td><td>18.0</td><td>6</td><td>225.0</td><td>105.0</td><td>3613.</td><td>16.5</td><td>74</td><td>US</td></tr><tr><td>Ford Gran Torino</td><td>16.0</td><td>8</td><td>302.0</td><td>140.0</td><td>4141.</td><td>14.0</td><td>74</td><td>US</td></tr><tr><td>Buick Century Luxus (sw)</td><td>13.0</td><td>8</td><td>350.0</td><td>150.0</td><td>4699.</td><td>14.5</td><td>74</td><td>US</td></tr><tr><td>Dodge Coronet Custom (sw)</td><td>14.0</td><td>8</td><td>318.0</td><td>150.0</td><td>4457.</td><td>13.5</td><td>74</td><td>US</td></tr><tr><td>Ford Gran Torino (sw)</td><td>14.0</td><td>8</td><td>302.0</td><td>140.0</td><td>4638.</td><td>16.0</td><td>74</td><td>US</td></tr><tr><td>AMC Matador (sw)</td><td>14.0</td><td>8</td><td>304.0</td><td>150.0</td><td>4257.</td><td>15.5</td><td>74</td><td>US</td></tr><tr><td>Audi Fox</td><td>29.0</td><td>4</td><td>98.00</td><td>83.00</td><td>2219.</td><td>16.5</td><td>74</td><td>Europe</td></tr><tr><td>Volkswagen Dasher</td><td>26.0</td><td>4</td><td>79.00</td><td>67.00</td><td>1963.</td><td>15.5</td><td>74</td><td>Europe</td></tr><tr><td>Opel Manta</td><td>26.0</td><td>4</td><td>97.00</td><td>78.00</td><td>2300.</td><td>14.5</td><td>74</td><td>Europe</td></tr><tr><td>Toyota Corolla</td><td>31.0</td><td>4</td><td>76.00</td><td>52.00</td><td>1649.</td><td>16.5</td><td>74</td><td>Japan</td></tr><tr><td>Datsun 710</td><td>32.0</td><td>4</td><td>83.00</td><td>61.00</td><td>2003.</td><td>19.0</td><td>74</td><td>Japan</td></tr><tr><td>Dodge Colt</td><td>28.0</td><td>4</td><td>90.00</td><td>75.00</td><td>2125.</td><td>14.5</td><td>74</td><td>US</td></tr><tr><td>Fiat 128</td><td>24.0</td><td>4</td><td>90.00</td><td>75.00</td><td>2108.</td><td>15.5</td><td>74</td><td>Europe</td></tr><tr><td>Fiat 124 TC</td><td>26.0</td><td>4</td><td>116.0</td><td>75.00</td><td>2246.</td><td>14.0</td><td>74</td><td>Europe</td></tr><tr><td>Honda Civic</td><td>24.0</td><td>4</td><td>120.0</td><td>97.00</td><td>2489.</td><td>15.0</td><td>74</td><td>Japan</td></tr><tr><td>Subaru</td><td>26.0</td><td>4</td><td>108.0</td><td>93.00</td><td>2391.</td><td>15.5</td><td>74</td><td>Japan</td></tr><tr><td>Fiat x1.9</td><td>31.0</td><td>4</td><td>79.00</td><td>67.00</td><td>2000.</td><td>16.0</td><td>74</td><td>Europe</td></tr><tr><td>Plymouth Valiant Custom</td><td>19.0</td><td>6</td><td>225.0</td><td>95.00</td><td>3264.</td><td>16.0</td><td>75</td><td>US</td></tr><tr><td>Chevrolet Nova</td><td>18.0</td><td>6</td><td>250.0</td><td>105.0</td><td>3459.</td><td>16.0</td><td>75</td><td>US</td></tr><tr><td>Mercury Monarch</td><td>15.0</td><td>6</td><td>250.0</td><td>72.00</td><td>3432.</td><td>21.0</td><td>75</td><td>US</td></tr><tr><td>Ford Maverick</td><td>15.0</td><td>6</td><td>250.0</td><td>72.00</td><td>3158.</td><td>19.5</td><td>75</td><td>US</td></tr><tr><td>Pontiac Catalina</td><td>16.0</td><td>8</td><td>400.0</td><td>170.0</td><td>4668.</td><td>11.5</td><td>75</td><td>US</td></tr><tr><td>Chevrolet Bel Air</td><td>15.0</td><td>8</td><td>350.0</td><td>145.0</td><td>4440.</td><td>14.0</td><td>75</td><td>US</td></tr><tr><td>Plymouth Grand Fury</td><td>16.0</td><td>8</td><td>318.0</td><td>150.0</td><td>4498.</td><td>14.5</td><td>75</td><td>US</td></tr><tr><td>Ford LTD</td><td>14.0</td><td>8</td><td>351.0</td><td>148.0</td><td>4657.</td><td>13.5</td><td>75</td><td>US</td></tr><tr><td>Buick Century</td><td>17.0</td><td>6</td><td>231.0</td><td>110.0</td><td>3907.</td><td>21.0</td><td>75</td><td>US</td></tr><tr><td>Chevrolete Chevelle Malibu</td><td>16.0</td><td>6</td><td>250.0</td><td>105.0</td><td>3897.</td><td>18.5</td><td>75</td><td>US</td></tr><tr><td>AMC Matador</td><td>15.0</td><td>6</td><td>258.0</td><td>110.0</td><td>3730.</td><td>19.0</td><td>75</td><td>US</td></tr><tr><td>Plymouth Fury</td><td>18.0</td><td>6</td><td>225.0</td><td>95.00</td><td>3785.</td><td>19.0</td><td>75</td><td>US</td></tr><tr><td>Buick Skyhawk</td><td>21.0</td><td>6</td><td>231.0</td><td>110.0</td><td>3039.</td><td>15.0</td><td>75</td><td>US</td></tr><tr><td>Chevrolet Monza 2+2</td><td>20.0</td><td>8</td><td>262.0</td><td>110.0</td><td>3221.</td><td>13.5</td><td>75</td><td>US</td></tr><tr><td>Ford Mustang II</td><td>13.0</td><td>8</td><td>302.0</td><td>129.0</td><td>3169.</td><td>12.0</td><td>75</td><td>US</td></tr><tr><td>Toyota Corolla</td><td>29.0</td><td>4</td><td>97.00</td><td>75.00</td><td>2171.</td><td>16.0</td><td>75</td><td>Japan</td></tr><tr><td>Ford Pinto</td><td>23.0</td><td>4</td><td>140.0</td><td>83.00</td><td>2639.</td><td>17.0</td><td>75</td><td>US</td></tr><tr><td>AMC Gremlin</td><td>20.0</td><td>6</td><td>232.0</td><td>100.0</td><td>2914.</td><td>16.0</td><td>75</td><td>US</td></tr><tr><td>Pontiac Astro</td><td>23.0</td><td>4</td><td>140.0</td><td>78.00</td><td>2592.</td><td>18.5</td><td>75</td><td>US</td></tr><tr><td>Toyota Corolla</td><td>24.0</td><td>4</td><td>134.0</td><td>96.00</td><td>2702.</td><td>13.5</td><td>75</td><td>Japan</td></tr><tr><td>Volkswagen Dasher</td><td>25.0</td><td>4</td><td>90.00</td><td>71.00</td><td>2223.</td><td>16.5</td><td>75</td><td>Europe</td></tr><tr><td>Datsun 710</td><td>24.0</td><td>4</td><td>119.0</td><td>97.00</td><td>2545.</td><td>17.0</td><td>75</td><td>Japan</td></tr><tr><td>Ford Pinto</td><td>18.0</td><td>6</td><td>171.0</td><td>97.00</td><td>2984.</td><td>14.5</td><td>75</td><td>US</td></tr><tr><td>Volkswagen Rabbit</td><td>29.0</td><td>4</td><td>90.00</td><td>70.00</td><td>1937.</td><td>14.0</td><td>75</td><td>Europe</td></tr><tr><td>AMC Pacer</td><td>19.0</td><td>6</td><td>232.0</td><td>90.00</td><td>3211.</td><td>17.0</td><td>75</td><td>US</td></tr><tr><td>Audi 100LS</td><td>23.0</td><td>4</td><td>115.0</td><td>95.00</td><td>2694.</td><td>15.0</td><td>75</td><td>Europe</td></tr><tr><td>Peugeot 504</td><td>23.0</td><td>4</td><td>120.0</td><td>88.00</td><td>2957.</td><td>17.0</td><td>75</td><td>Europe</td></tr><tr><td>Volvo 244DL</td><td>22.0</td><td>4</td><td>121.0</td><td>98.00</td><td>2945.</td><td>14.5</td><td>75</td><td>Europe</td></tr><tr><td>Saab 99LE</td><td>25.0</td><td>4</td><td>121.0</td><td>115.0</td><td>2671.</td><td>13.5</td><td>75</td><td>Europe</td></tr><tr><td>Honda Civic CVCC</td><td>33.0</td><td>4</td><td>91.00</td><td>53.00</td><td>1795.</td><td>17.5</td><td>75</td><td>Japan</td></tr><tr><td>Fiat 131</td><td>28.0</td><td>4</td><td>107.0</td><td>86.00</td><td>2464.</td><td>15.5</td><td>76</td><td>Europe</td></tr><tr><td>Opel 1900</td><td>25.0</td><td>4</td><td>116.0</td><td>81.00</td><td>2220.</td><td>16.9</td><td>76</td><td>Europe</td></tr><tr><td>Capri ii</td><td>25.0</td><td>4</td><td>140.0</td><td>92.00</td><td>2572.</td><td>14.9</td><td>76</td><td>US</td></tr><tr><td>Dodge Colt</td><td>26.0</td><td>4</td><td>98.00</td><td>79.00</td><td>2255.</td><td>17.7</td><td>76</td><td>US</td></tr><tr><td>Renault 12tl</td><td>27.0</td><td>4</td><td>101.0</td><td>83.00</td><td>2202.</td><td>15.3</td><td>76</td><td>Europe</td></tr><tr><td>Chevrolet Chevelle Malibu Classic</td><td>17.5</td><td>8</td><td>305.0</td><td>140.0</td><td>4215.</td><td>13.0</td><td>76</td><td>US</td></tr><tr><td>Dodge Coronet Brougham</td><td>16.0</td><td>8</td><td>318.0</td><td>150.0</td><td>4190.</td><td>13.0</td><td>76</td><td>US</td></tr><tr><td>AMC Matador</td><td>15.5</td><td>8</td><td>304.0</td><td>120.0</td><td>3962.</td><td>13.9</td><td>76</td><td>US</td></tr><tr><td>Ford Gran Torino</td><td>14.5</td><td>8</td><td>351.0</td><td>152.0</td><td>4215.</td><td>12.8</td><td>76</td><td>US</td></tr><tr><td>Plymouth Valiant</td><td>22.0</td><td>6</td><td>225.0</td><td>100.0</td><td>3233.</td><td>15.4</td><td>76</td><td>US</td></tr><tr><td>Chevrolet Nova</td><td>22.0</td><td>6</td><td>250.0</td><td>105.0</td><td>3353.</td><td>14.5</td><td>76</td><td>US</td></tr><tr><td>Ford Maverick</td><td>24.0</td><td>6</td><td>200.0</td><td>81.00</td><td>3012.</td><td>17.6</td><td>76</td><td>US</td></tr><tr><td>AMC Hornet</td><td>22.5</td><td>6</td><td>232.0</td><td>90.00</td><td>3085.</td><td>17.6</td><td>76</td><td>US</td></tr><tr><td>Chevrolet Chevette</td><td>29.0</td><td>4</td><td>85.00</td><td>52.00</td><td>2035.</td><td>22.2</td><td>76</td><td>US</td></tr><tr><td>Chevrolet Woody</td><td>24.5</td><td>4</td><td>98.00</td><td>60.00</td><td>2164.</td><td>22.1</td><td>76</td><td>US</td></tr><tr><td>Volkswagen Rabbit</td><td>29.0</td><td>4</td><td>90.00</td><td>70.00</td><td>1937.</td><td>14.2</td><td>76</td><td>Europe</td></tr><tr><td>Honda Civic</td><td>33.0</td><td>4</td><td>91.00</td><td>53.00</td><td>1795.</td><td>17.4</td><td>76</td><td>Japan</td></tr><tr><td>Dodge Aspen SE</td><td>20.0</td><td>6</td><td>225.0</td><td>100.0</td><td>3651.</td><td>17.7</td><td>76</td><td>US</td></tr><tr><td>Ford Grenada ghia</td><td>18.0</td><td>6</td><td>250.0</td><td>78.00</td><td>3574.</td><td>21.0</td><td>76</td><td>US</td></tr><tr><td>Pontiac Ventura SJ</td><td>18.5</td><td>6</td><td>250.0</td><td>110.0</td><td>3645.</td><td>16.2</td><td>76</td><td>US</td></tr><tr><td>AMC Pacer d/l</td><td>17.5</td><td>6</td><td>258.0</td><td>95.00</td><td>3193.</td><td>17.8</td><td>76</td><td>US</td></tr><tr><td>Volkswagen Rabbit</td><td>29.5</td><td>4</td><td>97.00</td><td>71.00</td><td>1825.</td><td>12.2</td><td>76</td><td>Europe</td></tr><tr><td>Datsun B-210</td><td>32.0</td><td>4</td><td>85.00</td><td>70.00</td><td>1990.</td><td>17.0</td><td>76</td><td>Japan</td></tr><tr><td>Toyota Corolla</td><td>28.0</td><td>4</td><td>97.00</td><td>75.00</td><td>2155.</td><td>16.4</td><td>76</td><td>Japan</td></tr><tr><td>Ford Pinto</td><td>26.5</td><td>4</td><td>140.0</td><td>72.00</td><td>2565.</td><td>13.6</td><td>76</td><td>US</td></tr><tr><td>Volvo 245</td><td>20.0</td><td>4</td><td>130.0</td><td>102.0</td><td>3150.</td><td>15.7</td><td>76</td><td>Europe</td></tr><tr><td>Plymouth Volare Premier v8</td><td>13.0</td><td>8</td><td>318.0</td><td>150.0</td><td>3940.</td><td>13.2</td><td>76</td><td>US</td></tr><tr><td>Peugeot 504</td><td>19.0</td><td>4</td><td>120.0</td><td>88.00</td><td>3270.</td><td>21.9</td><td>76</td><td>Europe</td></tr><tr><td>Toyota Mark II</td><td>19.0</td><td>6</td><td>156.0</td><td>108.0</td><td>2930.</td><td>15.5</td><td>76</td><td>Japan</td></tr><tr><td>Mercedes-Benz 280s</td><td>16.5</td><td>6</td><td>168.0</td><td>120.0</td><td>3820.</td><td>16.7</td><td>76</td><td>Europe</td></tr><tr><td>Cadillac Seville</td><td>16.5</td><td>8</td><td>350.0</td><td>180.0</td><td>4380.</td><td>12.1</td><td>76</td><td>US</td></tr><tr><td>Chevrolet C10</td><td>13.0</td><td>8</td><td>350.0</td><td>145.0</td><td>4055.</td><td>12.0</td><td>76</td><td>US</td></tr><tr><td>Ford F108</td><td>13.0</td><td>8</td><td>302.0</td><td>130.0</td><td>3870.</td><td>15.0</td><td>76</td><td>US</td></tr><tr><td>Dodge D100</td><td>13.0</td><td>8</td><td>318.0</td><td>150.0</td><td>3755.</td><td>14.0</td><td>76</td><td>US</td></tr><tr><td>Honda Accord CVCC</td><td>31.5</td><td>4</td><td>98.00</td><td>68.00</td><td>2045.</td><td>18.5</td><td>77</td><td>Japan</td></tr><tr><td>Buick Opel Isuzu Deluxe</td><td>30.0</td><td>4</td><td>111.0</td><td>80.00</td><td>2155.</td><td>14.8</td><td>77</td><td>US</td></tr><tr><td>Renault 5 GTL</td><td>36.0</td><td>4</td><td>79.00</td><td>58.00</td><td>1825.</td><td>18.6</td><td>77</td><td>Europe</td></tr><tr><td>Plymouth Arrow GS</td><td>25.5</td><td>4</td><td>122.0</td><td>96.00</td><td>2300.</td><td>15.5</td><td>77</td><td>US</td></tr><tr><td>Datsun F-10 Hatchback</td><td>33.5</td><td>4</td><td>85.00</td><td>70.00</td><td>1945.</td><td>16.8</td><td>77</td><td>Japan</td></tr><tr><td>Chevrolet Caprice Classic</td><td>17.5</td><td>8</td><td>305.0</td><td>145.0</td><td>3880.</td><td>12.5</td><td>77</td><td>US</td></tr><tr><td>Oldsmobile Cutlass Supreme</td><td>17.0</td><td>8</td><td>260.0</td><td>110.0</td><td>4060.</td><td>19.0</td><td>77</td><td>US</td></tr><tr><td>Dodge Monaco Brougham</td><td>15.5</td><td>8</td><td>318.0</td><td>145.0</td><td>4140.</td><td>13.7</td><td>77</td><td>US</td></tr><tr><td>Mercury Cougar Brougham</td><td>15.0</td><td>8</td><td>302.0</td><td>130.0</td><td>4295.</td><td>14.9</td><td>77</td><td>US</td></tr><tr><td>Chevrolet Concours</td><td>17.5</td><td>6</td><td>250.0</td><td>110.0</td><td>3520.</td><td>16.4</td><td>77</td><td>US</td></tr><tr><td>Buick Skylark</td><td>20.5</td><td>6</td><td>231.0</td><td>105.0</td><td>3425.</td><td>16.9</td><td>77</td><td>US</td></tr><tr><td>Plymouth Volare Custom</td><td>19.0</td><td>6</td><td>225.0</td><td>100.0</td><td>3630.</td><td>17.7</td><td>77</td><td>US</td></tr><tr><td>Ford Grenada</td><td>18.5</td><td>6</td><td>250.0</td><td>98.00</td><td>3525.</td><td>19.0</td><td>77</td><td>US</td></tr><tr><td>Pontiac Grand Prix LJ</td><td>16.0</td><td>8</td><td>400.0</td><td>180.0</td><td>4220.</td><td>11.1</td><td>77</td><td>US</td></tr><tr><td>Chevrolet Monte Carlo Landau</td><td>15.5</td><td>8</td><td>350.0</td><td>170.0</td><td>4165.</td><td>11.4</td><td>77</td><td>US</td></tr><tr><td>Chrysler Cordoba</td><td>15.5</td><td>8</td><td>400.0</td><td>190.0</td><td>4325.</td><td>12.2</td><td>77</td><td>US</td></tr><tr><td>Ford Thunderbird</td><td>16.0</td><td>8</td><td>351.0</td><td>149.0</td><td>4335.</td><td>14.5</td><td>77</td><td>US</td></tr><tr><td>Volkswagen Rabbit Custom</td><td>29.0</td><td>4</td><td>97.00</td><td>78.00</td><td>1940.</td><td>14.5</td><td>77</td><td>Europe</td></tr><tr><td>Pontiac Sunbird Coupe</td><td>24.5</td><td>4</td><td>151.0</td><td>88.00</td><td>2740.</td><td>16.0</td><td>77</td><td>US</td></tr><tr><td>Toyota Corolla Liftback</td><td>26.0</td><td>4</td><td>97.00</td><td>75.00</td><td>2265.</td><td>18.2</td><td>77</td><td>Japan</td></tr><tr><td>Ford Mustang II 2+2</td><td>25.5</td><td>4</td><td>140.0</td><td>89.00</td><td>2755.</td><td>15.8</td><td>77</td><td>US</td></tr><tr><td>Chevrolet Chevette</td><td>30.5</td><td>4</td><td>98.00</td><td>63.00</td><td>2051.</td><td>17.0</td><td>77</td><td>US</td></tr><tr><td>Dodge Colt m/m</td><td>33.5</td><td>4</td><td>98.00</td><td>83.00</td><td>2075.</td><td>15.9</td><td>77</td><td>US</td></tr><tr><td>Subaru DL</td><td>30.0</td><td>4</td><td>97.00</td><td>67.00</td><td>1985.</td><td>16.4</td><td>77</td><td>Japan</td></tr><tr><td>Volkswagen Dasher</td><td>30.5</td><td>4</td><td>97.00</td><td>78.00</td><td>2190.</td><td>14.1</td><td>77</td><td>Europe</td></tr><tr><td>Datsun 810</td><td>22.0</td><td>6</td><td>146.0</td><td>97.00</td><td>2815.</td><td>14.5</td><td>77</td><td>Japan</td></tr><tr><td>BMW 320i</td><td>21.5</td><td>4</td><td>121.0</td><td>110.0</td><td>2600.</td><td>12.8</td><td>77</td><td>Europe</td></tr><tr><td>Mazda RX-4</td><td>21.5</td><td>3</td><td>80.00</td><td>110.0</td><td>2720.</td><td>13.5</td><td>77</td><td>Japan</td></tr><tr><td>Volkswagen Rabbit Custom Diesel</td><td>43.1</td><td>4</td><td>90.00</td><td>48.00</td><td>1985.</td><td>21.5</td><td>78</td><td>Europe</td></tr><tr><td>Ford Fiesta</td><td>36.1</td><td>4</td><td>98.00</td><td>66.00</td><td>1800.</td><td>14.4</td><td>78</td><td>US</td></tr><tr><td>Mazda GLC Deluxe</td><td>32.8</td><td>4</td><td>78.00</td><td>52.00</td><td>1985.</td><td>19.4</td><td>78</td><td>Japan</td></tr><tr><td>Datsun B210 GX</td><td>39.4</td><td>4</td><td>85.00</td><td>70.00</td><td>2070.</td><td>18.6</td><td>78</td><td>Japan</td></tr><tr><td>Honda Civic CVCC</td><td>36.1</td><td>4</td><td>91.00</td><td>60.00</td><td>1800.</td><td>16.4</td><td>78</td><td>Japan</td></tr><tr><td>Oldsmobile Cutlass Salon Brougham</td><td>19.9</td><td>8</td><td>260.0</td><td>110.0</td><td>3365.</td><td>15.5</td><td>78</td><td>US</td></tr><tr><td>Dodge Diplomat</td><td>19.4</td><td>8</td><td>318.0</td><td>140.0</td><td>3735.</td><td>13.2</td><td>78</td><td>US</td></tr><tr><td>Mercury Monarch ghia</td><td>20.2</td><td>8</td><td>302.0</td><td>139.0</td><td>3570.</td><td>12.8</td><td>78</td><td>US</td></tr><tr><td>Pontiac Phoenix LJ</td><td>19.2</td><td>6</td><td>231.0</td><td>105.0</td><td>3535.</td><td>19.2</td><td>78</td><td>US</td></tr><tr><td>Chevrolet Malibu</td><td>20.5</td><td>6</td><td>200.0</td><td>95.00</td><td>3155.</td><td>18.2</td><td>78</td><td>US</td></tr><tr><td>Ford Fairmont (auto)</td><td>20.2</td><td>6</td><td>200.0</td><td>85.00</td><td>2965.</td><td>15.8</td><td>78</td><td>US</td></tr><tr><td>Ford Fairmont (man)</td><td>25.1</td><td>4</td><td>140.0</td><td>88.00</td><td>2720.</td><td>15.4</td><td>78</td><td>US</td></tr><tr><td>Plymouth Volare</td><td>20.5</td><td>6</td><td>225.0</td><td>100.0</td><td>3430.</td><td>17.2</td><td>78</td><td>US</td></tr><tr><td>AMC Concord</td><td>19.4</td><td>6</td><td>232.0</td><td>90.00</td><td>3210.</td><td>17.2</td><td>78</td><td>US</td></tr><tr><td>Buick Century Special</td><td>20.6</td><td>6</td><td>231.0</td><td>105.0</td><td>3380.</td><td>15.8</td><td>78</td><td>US</td></tr><tr><td>Mercury Zephyr</td><td>20.8</td><td>6</td><td>200.0</td><td>85.00</td><td>3070.</td><td>16.7</td><td>78</td><td>US</td></tr><tr><td>Dodge Aspen</td><td>18.6</td><td>6</td><td>225.0</td><td>110.0</td><td>3620.</td><td>18.7</td><td>78</td><td>US</td></tr><tr><td>AMC Concord d/l</td><td>18.1</td><td>6</td><td>258.0</td><td>120.0</td><td>3410.</td><td>15.1</td><td>78</td><td>US</td></tr><tr><td>Chevrolet Monte Carlo Landau</td><td>19.2</td><td>8</td><td>305.0</td><td>145.0</td><td>3425.</td><td>13.2</td><td>78</td><td>US</td></tr><tr><td>Buick Regal Sport Coupe (turbo)</td><td>17.7</td><td>6</td><td>231.0</td><td>165.0</td><td>3445.</td><td>13.4</td><td>78</td><td>US</td></tr><tr><td>Ford Futura</td><td>18.1</td><td>8</td><td>302.0</td><td>139.0</td><td>3205.</td><td>11.2</td><td>78</td><td>US</td></tr><tr><td>Dodge Magnum XE</td><td>17.5</td><td>8</td><td>318.0</td><td>140.0</td><td>4080.</td><td>13.7</td><td>78</td><td>US</td></tr><tr><td>Chevrolet Chevette</td><td>30.0</td><td>4</td><td>98.00</td><td>68.00</td><td>2155.</td><td>16.5</td><td>78</td><td>US</td></tr><tr><td>Toyota Corolla</td><td>27.5</td><td>4</td><td>134.0</td><td>95.00</td><td>2560.</td><td>14.2</td><td>78</td><td>Japan</td></tr><tr><td>Datsun 510</td><td>27.2</td><td>4</td><td>119.0</td><td>97.00</td><td>2300.</td><td>14.7</td><td>78</td><td>Japan</td></tr><tr><td>Dodge Omni</td><td>30.9</td><td>4</td><td>105.0</td><td>75.00</td><td>2230.</td><td>14.5</td><td>78</td><td>US</td></tr><tr><td>Toyota Celica GT Liftback</td><td>21.1</td><td>4</td><td>134.0</td><td>95.00</td><td>2515.</td><td>14.8</td><td>78</td><td>Japan</td></tr><tr><td>Plymouth Sapporo</td><td>23.2</td><td>4</td><td>156.0</td><td>105.0</td><td>2745.</td><td>16.7</td><td>78</td><td>US</td></tr><tr><td>Oldsmobile Starfire SX</td><td>23.8</td><td>4</td><td>151.0</td><td>85.00</td><td>2855.</td><td>17.6</td><td>78</td><td>US</td></tr><tr><td>Datsun 200-SX</td><td>23.9</td><td>4</td><td>119.0</td><td>97.00</td><td>2405.</td><td>14.9</td><td>78</td><td>Japan</td></tr><tr><td>Audi 5000</td><td>20.3</td><td>5</td><td>131.0</td><td>103.0</td><td>2830.</td><td>15.9</td><td>78</td><td>Europe</td></tr><tr><td>Volvo 264gl</td><td>17.0</td><td>6</td><td>163.0</td><td>125.0</td><td>3140.</td><td>13.6</td><td>78</td><td>Europe</td></tr><tr><td>Saab 99gle</td><td>21.6</td><td>4</td><td>121.0</td><td>115.0</td><td>2795.</td><td>15.7</td><td>78</td><td>Europe</td></tr><tr><td>Peugeot 604sl</td><td>16.2</td><td>6</td><td>163.0</td><td>133.0</td><td>3410.</td><td>15.8</td><td>78</td><td>Europe</td></tr><tr><td>Volkswagen Scirocco</td><td>31.5</td><td>4</td><td>89.00</td><td>71.00</td><td>1990.</td><td>14.9</td><td>78</td><td>Europe</td></tr><tr><td>Honda Accord LX</td><td>29.5</td><td>4</td><td>98.00</td><td>68.00</td><td>2135.</td><td>16.6</td><td>78</td><td>Japan</td></tr><tr><td>Pontiac Lemans V6</td><td>21.5</td><td>6</td><td>231.0</td><td>115.0</td><td>3245.</td><td>15.4</td><td>79</td><td>US</td></tr><tr><td>Mercury Zephyr 6</td><td>19.8</td><td>6</td><td>200.0</td><td>85.00</td><td>2990.</td><td>18.2</td><td>79</td><td>US</td></tr><tr><td>Ford Fairmont 4</td><td>22.3</td><td>4</td><td>140.0</td><td>88.00</td><td>2890.</td><td>17.3</td><td>79</td><td>US</td></tr><tr><td>AMC Concord DL 6</td><td>20.2</td><td>6</td><td>232.0</td><td>90.00</td><td>3265.</td><td>18.2</td><td>79</td><td>US</td></tr><tr><td>Dodge Aspen 6</td><td>20.6</td><td>6</td><td>225.0</td><td>110.0</td><td>3360.</td><td>16.6</td><td>79</td><td>US</td></tr><tr><td>Chevrolet Caprice Classic</td><td>17.0</td><td>8</td><td>305.0</td><td>130.0</td><td>3840.</td><td>15.4</td><td>79</td><td>US</td></tr><tr><td>Ford LTD Landau</td><td>17.6</td><td>8</td><td>302.0</td><td>129.0</td><td>3725.</td><td>13.4</td><td>79</td><td>US</td></tr><tr><td>Mercury Grand Marquis</td><td>16.5</td><td>8</td><td>351.0</td><td>138.0</td><td>3955.</td><td>13.2</td><td>79</td><td>US</td></tr><tr><td>Dodge St. Regis</td><td>18.2</td><td>8</td><td>318.0</td><td>135.0</td><td>3830.</td><td>15.2</td><td>79</td><td>US</td></tr><tr><td>Buick Estate Wagon (sw)</td><td>16.9</td><td>8</td><td>350.0</td><td>155.0</td><td>4360.</td><td>14.9</td><td>79</td><td>US</td></tr><tr><td>Ford Country Squire (sw)</td><td>15.5</td><td>8</td><td>351.0</td><td>142.0</td><td>4054.</td><td>14.3</td><td>79</td><td>US</td></tr><tr><td>Chevrolet Malibu Classic (sw)</td><td>19.2</td><td>8</td><td>267.0</td><td>125.0</td><td>3605.</td><td>15.0</td><td>79</td><td>US</td></tr><tr><td>Chrysler Lebaron Town @ Country (sw)</td><td>18.5</td><td>8</td><td>360.0</td><td>150.0</td><td>3940.</td><td>13.0</td><td>79</td><td>US</td></tr><tr><td>Volkswagen Rabbit Custom</td><td>31.9</td><td>4</td><td>89.00</td><td>71.00</td><td>1925.</td><td>14.0</td><td>79</td><td>Europe</td></tr><tr><td>Mazda GLC Deluxe</td><td>34.1</td><td>4</td><td>86.00</td><td>65.00</td><td>1975.</td><td>15.2</td><td>79</td><td>Japan</td></tr><tr><td>Dodge Colt Hatchback Custom</td><td>35.7</td><td>4</td><td>98.00</td><td>80.00</td><td>1915.</td><td>14.4</td><td>79</td><td>US</td></tr><tr><td>AMC Spirit DL</td><td>27.4</td><td>4</td><td>121.0</td><td>80.00</td><td>2670.</td><td>15.0</td><td>79</td><td>US</td></tr><tr><td>Mercedes Benz 300d</td><td>25.4</td><td>5</td><td>183.0</td><td>77.00</td><td>3530.</td><td>20.1</td><td>79</td><td>Europe</td></tr><tr><td>Cadillac Eldorado</td><td>23.0</td><td>8</td><td>350.0</td><td>125.0</td><td>3900.</td><td>17.4</td><td>79</td><td>US</td></tr><tr><td>Peugeot 504</td><td>27.2</td><td>4</td><td>141.0</td><td>71.00</td><td>3190.</td><td>24.8</td><td>79</td><td>Europe</td></tr><tr><td>Oldsmobile Cutlass Salon Brougham</td><td>23.9</td><td>8</td><td>260.0</td><td>90.00</td><td>3420.</td><td>22.2</td><td>79</td><td>US</td></tr><tr><td>Plymouth Horizon</td><td>34.2</td><td>4</td><td>105.0</td><td>70.00</td><td>2200.</td><td>13.2</td><td>79</td><td>US</td></tr><tr><td>Plymouth Horizon TC3</td><td>34.5</td><td>4</td><td>105.0</td><td>70.00</td><td>2150.</td><td>14.9</td><td>79</td><td>US</td></tr><tr><td>Datsun 210</td><td>31.8</td><td>4</td><td>85.00</td><td>65.00</td><td>2020.</td><td>19.2</td><td>79</td><td>Japan</td></tr><tr><td>Fiat Strada Custom</td><td>37.3</td><td>4</td><td>91.00</td><td>69.00</td><td>2130.</td><td>14.7</td><td>79</td><td>Europe</td></tr><tr><td>Buick Skylark Limited</td><td>28.4</td><td>4</td><td>151.0</td><td>90.00</td><td>2670.</td><td>16.0</td><td>79</td><td>US</td></tr><tr><td>Chevrolet Citation</td><td>28.8</td><td>6</td><td>173.0</td><td>115.0</td><td>2595.</td><td>11.3</td><td>79</td><td>US</td></tr><tr><td>Oldsmobile Omega Brougham</td><td>26.8</td><td>6</td><td>173.0</td><td>115.0</td><td>2700.</td><td>12.9</td><td>79</td><td>US</td></tr><tr><td>Pontiac Phoenix</td><td>33.5</td><td>4</td><td>151.0</td><td>90.00</td><td>2556.</td><td>13.2</td><td>79</td><td>US</td></tr><tr><td>Volkswagen Rabbit</td><td>41.5</td><td>4</td><td>98.00</td><td>76.00</td><td>2144.</td><td>14.7</td><td>80</td><td>Europe</td></tr><tr><td>Toyota Corolla Tercel</td><td>38.1</td><td>4</td><td>89.00</td><td>60.00</td><td>1968.</td><td>18.8</td><td>80</td><td>Japan</td></tr><tr><td>Chevrolet Chevette</td><td>32.1</td><td>4</td><td>98.00</td><td>70.00</td><td>2120.</td><td>15.5</td><td>80</td><td>US</td></tr><tr><td>Datsun 310</td><td>37.2</td><td>4</td><td>86.00</td><td>65.00</td><td>2019.</td><td>16.4</td><td>80</td><td>Japan</td></tr><tr><td>Chevrolet Citation</td><td>28.0</td><td>4</td><td>151.0</td><td>90.00</td><td>2678.</td><td>16.5</td><td>80</td><td>US</td></tr><tr><td>Ford Fairmont</td><td>26.4</td><td>4</td><td>140.0</td><td>88.00</td><td>2870.</td><td>18.1</td><td>80</td><td>US</td></tr><tr><td>AMC Concord</td><td>24.3</td><td>4</td><td>151.0</td><td>90.00</td><td>3003.</td><td>20.1</td><td>80</td><td>US</td></tr><tr><td>Dodge Aspen</td><td>19.1</td><td>6</td><td>225.0</td><td>90.00</td><td>3381.</td><td>18.7</td><td>80</td><td>US</td></tr><tr><td>Audi 4000</td><td>34.3</td><td>4</td><td>97.00</td><td>78.00</td><td>2188.</td><td>15.8</td><td>80</td><td>Europe</td></tr><tr><td>Toyota Corolla Liftback</td><td>29.8</td><td>4</td><td>134.0</td><td>90.00</td><td>2711.</td><td>15.5</td><td>80</td><td>Japan</td></tr><tr><td>Mazda 626</td><td>31.3</td><td>4</td><td>120.0</td><td>75.00</td><td>2542.</td><td>17.5</td><td>80</td><td>Japan</td></tr><tr><td>Datsun 510 Hatchback</td><td>37.0</td><td>4</td><td>119.0</td><td>92.00</td><td>2434.</td><td>15.0</td><td>80</td><td>Japan</td></tr><tr><td>Toyota Corolla</td><td>32.2</td><td>4</td><td>108.0</td><td>75.00</td><td>2265.</td><td>15.2</td><td>80</td><td>Japan</td></tr><tr><td>Mazda GLC</td><td>46.6</td><td>4</td><td>86.00</td><td>65.00</td><td>2110.</td><td>17.9</td><td>80</td><td>Japan</td></tr><tr><td>Dodge Colt</td><td>27.9</td><td>4</td><td>156.0</td><td>105.0</td><td>2800.</td><td>14.4</td><td>80</td><td>US</td></tr><tr><td>Datsun 210</td><td>40.8</td><td>4</td><td>85.00</td><td>65.00</td><td>2110.</td><td>19.2</td><td>80</td><td>Japan</td></tr><tr><td>Volkswagen Rabbit C (Diesel)</td><td>44.3</td><td>4</td><td>90.00</td><td>48.00</td><td>2085.</td><td>21.7</td><td>80</td><td>Europe</td></tr><tr><td>Volkswagen Dasher (diesel)</td><td>43.4</td><td>4</td><td>90.00</td><td>48.00</td><td>2335.</td><td>23.7</td><td>80</td><td>Europe</td></tr><tr><td>Audi 5000s (diesel)</td><td>36.4</td><td>5</td><td>121.0</td><td>67.00</td><td>2950.</td><td>19.9</td><td>80</td><td>Europe</td></tr><tr><td>Mercedes-Benz 240d</td><td>30.0</td><td>4</td><td>146.0</td><td>67.00</td><td>3250.</td><td>21.8</td><td>80</td><td>Europe</td></tr><tr><td>Honda Civic 1500 gl</td><td>44.6</td><td>4</td><td>91.00</td><td>67.00</td><td>1850.</td><td>13.8</td><td>80</td><td>Japan</td></tr><tr><td>Renault Lecar Deluxe</td><td>40.9</td><td>4</td><td>85.00</td><td>0</td><td>1835.</td><td>17.3</td><td>80</td><td>Europe</td></tr><tr><td>Subaru DL</td><td>33.8</td><td>4</td><td>97.00</td><td>67.00</td><td>2145.</td><td>18.0</td><td>80</td><td>Japan</td></tr><tr><td>Volkswagen Rabbit</td><td>29.8</td><td>4</td><td>89.00</td><td>62.00</td><td>1845.</td><td>15.3</td><td>80</td><td>Europe</td></tr><tr><td>Datsun 280-ZX</td><td>32.7</td><td>6</td><td>168.0</td><td>132.0</td><td>2910.</td><td>11.4</td><td>80</td><td>Japan</td></tr><tr><td>Mazda RX-7 GS</td><td>23.7</td><td>3</td><td>70.00</td><td>100.0</td><td>2420.</td><td>12.5</td><td>80</td><td>Japan</td></tr><tr><td>Triumph TR7 Coupe</td><td>35.0</td><td>4</td><td>122.0</td><td>88.00</td><td>2500.</td><td>15.1</td><td>80</td><td>Europe</td></tr><tr><td>Ford Mustang Cobra</td><td>23.6</td><td>4</td><td>140.0</td><td>0</td><td>2905.</td><td>14.3</td><td>80</td><td>US</td></tr><tr><td>Honda Accord</td><td>32.4</td><td>4</td><td>107.0</td><td>72.00</td><td>2290.</td><td>17.0</td><td>80</td><td>Japan</td></tr><tr><td>Plymouth Reliant</td><td>27.2</td><td>4</td><td>135.0</td><td>84.00</td><td>2490.</td><td>15.7</td><td>81</td><td>US</td></tr><tr><td>Buick Skylark</td><td>26.6</td><td>4</td><td>151.0</td><td>84.00</td><td>2635.</td><td>16.4</td><td>81</td><td>US</td></tr><tr><td>Dodge Aries Wagon (sw)</td><td>25.8</td><td>4</td><td>156.0</td><td>92.00</td><td>2620.</td><td>14.4</td><td>81</td><td>US</td></tr><tr><td>Chevrolet Citation</td><td>23.5</td><td>6</td><td>173.0</td><td>110.0</td><td>2725.</td><td>12.6</td><td>81</td><td>US</td></tr><tr><td>Plymouth Reliant</td><td>30.0</td><td>4</td><td>135.0</td><td>84.00</td><td>2385.</td><td>12.9</td><td>81</td><td>US</td></tr><tr><td>Toyota Starlet</td><td>39.1</td><td>4</td><td>79.00</td><td>58.00</td><td>1755.</td><td>16.9</td><td>81</td><td>Japan</td></tr><tr><td>Plymouth Champ</td><td>39.0</td><td>4</td><td>86.00</td><td>64.00</td><td>1875.</td><td>16.4</td><td>81</td><td>US</td></tr><tr><td>Honda Civic 1300</td><td>35.1</td><td>4</td><td>81.00</td><td>60.00</td><td>1760.</td><td>16.1</td><td>81</td><td>Japan</td></tr><tr><td>Subaru</td><td>32.3</td><td>4</td><td>97.00</td><td>67.00</td><td>2065.</td><td>17.8</td><td>81</td><td>Japan</td></tr><tr><td>Datsun 210 MPG</td><td>37.0</td><td>4</td><td>85.00</td><td>65.00</td><td>1975.</td><td>19.4</td><td>81</td><td>Japan</td></tr><tr><td>Toyota Tercel</td><td>37.7</td><td>4</td><td>89.00</td><td>62.00</td><td>2050.</td><td>17.3</td><td>81</td><td>Japan</td></tr><tr><td>Mazda GLC 4</td><td>34.1</td><td>4</td><td>91.00</td><td>68.00</td><td>1985.</td><td>16.0</td><td>81</td><td>Japan</td></tr><tr><td>Plymouth Horizon 4</td><td>34.7</td><td>4</td><td>105.0</td><td>63.00</td><td>2215.</td><td>14.9</td><td>81</td><td>US</td></tr><tr><td>Ford Escort 4W</td><td>34.4</td><td>4</td><td>98.00</td><td>65.00</td><td>2045.</td><td>16.2</td><td>81</td><td>US</td></tr><tr><td>Ford Escort 2H</td><td>29.9</td><td>4</td><td>98.00</td><td>65.00</td><td>2380.</td><td>20.7</td><td>81</td><td>US</td></tr><tr><td>Volkswagen Jetta</td><td>33.0</td><td>4</td><td>105.0</td><td>74.00</td><td>2190.</td><td>14.2</td><td>81</td><td>Europe</td></tr><tr><td>Renault 18i</td><td>34.5</td><td>4</td><td>100.0</td><td>0</td><td>2320.</td><td>15.8</td><td>81</td><td>Europe</td></tr><tr><td>Honda Prelude</td><td>33.7</td><td>4</td><td>107.0</td><td>75.00</td><td>2210.</td><td>14.4</td><td>81</td><td>Japan</td></tr><tr><td>Toyota Corolla</td><td>32.4</td><td>4</td><td>108.0</td><td>75.00</td><td>2350.</td><td>16.8</td><td>81</td><td>Japan</td></tr><tr><td>Datsun 200SX</td><td>32.9</td><td>4</td><td>119.0</td><td>100.0</td><td>2615.</td><td>14.8</td><td>81</td><td>Japan</td></tr><tr><td>Mazda 626</td><td>31.6</td><td>4</td><td>120.0</td><td>74.00</td><td>2635.</td><td>18.3</td><td>81</td><td>Japan</td></tr><tr><td>Peugeot 505s Turbo Diesel</td><td>28.1</td><td>4</td><td>141.0</td><td>80.00</td><td>3230.</td><td>20.4</td><td>81</td><td>Europe</td></tr><tr><td>Saab 900s</td><td>0</td><td>4</td><td>121.0</td><td>110.0</td><td>2800.</td><td>15.4</td><td>81</td><td>Europe</td></tr><tr><td>Volvo Diesel</td><td>30.7</td><td>6</td><td>145.0</td><td>76.00</td><td>3160.</td><td>19.6</td><td>81</td><td>Europe</td></tr><tr><td>Toyota Cressida</td><td>25.4</td><td>6</td><td>168.0</td><td>116.0</td><td>2900.</td><td>12.6</td><td>81</td><td>Japan</td></tr><tr><td>Datsun 810 Maxima</td><td>24.2</td><td>6</td><td>146.0</td><td>120.0</td><td>2930.</td><td>13.8</td><td>81</td><td>Japan</td></tr><tr><td>Buick Century</td><td>22.4</td><td>6</td><td>231.0</td><td>110.0</td><td>3415.</td><td>15.8</td><td>81</td><td>US</td></tr><tr><td>Oldsmobile Cutlass LS</td><td>26.6</td><td>8</td><td>350.0</td><td>105.0</td><td>3725.</td><td>19.0</td><td>81</td><td>US</td></tr><tr><td>Ford Grenada gl</td><td>20.2</td><td>6</td><td>200.0</td><td>88.00</td><td>3060.</td><td>17.1</td><td>81</td><td>US</td></tr><tr><td>Chrysler Lebaron Salon</td><td>17.6</td><td>6</td><td>225.0</td><td>85.00</td><td>3465.</td><td>16.6</td><td>81</td><td>US</td></tr><tr><td>Chevrolet Cavalier</td><td>28.0</td><td>4</td><td>112.0</td><td>88.00</td><td>2605.</td><td>19.6</td><td>82</td><td>US</td></tr><tr><td>Chevrolet Cavalier Wagon</td><td>27.0</td><td>4</td><td>112.0</td><td>88.00</td><td>2640.</td><td>18.6</td><td>82</td><td>US</td></tr><tr><td>Chevrolet Cavalier 2-door</td><td>34.0</td><td>4</td><td>112.0</td><td>88.00</td><td>2395.</td><td>18.0</td><td>82</td><td>US</td></tr><tr><td>Pontiac J2000 SE Hatchback</td><td>31.0</td><td>4</td><td>112.0</td><td>85.00</td><td>2575.</td><td>16.2</td><td>82</td><td>US</td></tr><tr><td>Dodge Aries SE</td><td>29.0</td><td>4</td><td>135.0</td><td>84.00</td><td>2525.</td><td>16.0</td><td>82</td><td>US</td></tr><tr><td>Pontiac Phoenix</td><td>27.0</td><td>4</td><td>151.0</td><td>90.00</td><td>2735.</td><td>18.0</td><td>82</td><td>US</td></tr><tr><td>Ford Fairmont Futura</td><td>24.0</td><td>4</td><td>140.0</td><td>92.00</td><td>2865.</td><td>16.4</td><td>82</td><td>US</td></tr><tr><td>AMC Concord DL</td><td>23.0</td><td>4</td><td>151.0</td><td>0</td><td>3035.</td><td>20.5</td><td>82</td><td>US</td></tr><tr><td>Volkswagen Rabbit l</td><td>36.0</td><td>4</td><td>105.0</td><td>74.00</td><td>1980.</td><td>15.3</td><td>82</td><td>Europe</td></tr><tr><td>Mazda GLC Custom l</td><td>37.0</td><td>4</td><td>91.00</td><td>68.00</td><td>2025.</td><td>18.2</td><td>82</td><td>Japan</td></tr><tr><td>Mazda GLC Custom</td><td>31.0</td><td>4</td><td>91.00</td><td>68.00</td><td>1970.</td><td>17.6</td><td>82</td><td>Japan</td></tr><tr><td>Plymouth Horizon Miser</td><td>38.0</td><td>4</td><td>105.0</td><td>63.00</td><td>2125.</td><td>14.7</td><td>82</td><td>US</td></tr><tr><td>Mercury Lynx l</td><td>36.0</td><td>4</td><td>98.00</td><td>70.00</td><td>2125.</td><td>17.3</td><td>82</td><td>US</td></tr><tr><td>Nissan Stanza XE</td><td>36.0</td><td>4</td><td>120.0</td><td>88.00</td><td>2160.</td><td>14.5</td><td>82</td><td>Japan</td></tr><tr><td>Honda Accord</td><td>36.0</td><td>4</td><td>107.0</td><td>75.00</td><td>2205.</td><td>14.5</td><td>82</td><td>Japan</td></tr><tr><td>Toyota Corolla</td><td>34.0</td><td>4</td><td>108.0</td><td>70.00</td><td>2245</td><td>16.9</td><td>82</td><td>Japan</td></tr><tr><td>Honda Civic</td><td>38.0</td><td>4</td><td>91.00</td><td>67.00</td><td>1965.</td><td>15.0</td><td>82</td><td>Japan</td></tr><tr><td>Honda Civic (auto)</td><td>32.0</td><td>4</td><td>91.00</td><td>67.00</td><td>1965.</td><td>15.7</td><td>82</td><td>Japan</td></tr><tr><td>Datsun 310 GX</td><td>38.0</td><td>4</td><td>91.00</td><td>67.00</td><td>1995.</td><td>16.2</td><td>82</td><td>Japan</td></tr><tr><td>Buick Century Limited</td><td>25.0</td><td>6</td><td>181.0</td><td>110.0</td><td>2945.</td><td>16.4</td><td>82</td><td>US</td></tr><tr><td>Oldsmobile Cutlass Ciera (diesel)</td><td>38.0</td><td>6</td><td>262.0</td><td>85.00</td><td>3015.</td><td>17.0</td><td>82</td><td>US</td></tr><tr><td>Chrysler Lebaron Medallion</td><td>26.0</td><td>4</td><td>156.0</td><td>92.00</td><td>2585.</td><td>14.5</td><td>82</td><td>US</td></tr><tr><td>Ford Grenada l</td><td>22.0</td><td>6</td><td>232.0</td><td>112.0</td><td>2835</td><td>14.7</td><td>82</td><td>US</td></tr><tr><td>Toyota Celica GT</td><td>32.0</td><td>4</td><td>144.0</td><td>96.00</td><td>2665.</td><td>13.9</td><td>82</td><td>Japan</td></tr><tr><td>Dodge Charger 2.2</td><td>36.0</td><td>4</td><td>135.0</td><td>84.00</td><td>2370.</td><td>13.0</td><td>82</td><td>US</td></tr><tr><td>Chevrolet Camaro</td><td>27.0</td><td>4</td><td>151.0</td><td>90.00</td><td>2950.</td><td>17.3</td><td>82</td><td>US</td></tr><tr><td>Ford Mustang GL</td><td>27.0</td><td>4</td><td>140.0</td><td>86.00</td><td>2790.</td><td>15.6</td><td>82</td><td>US</td></tr><tr><td>Volkswagen Pickup</td><td>44.0</td><td>4</td><td>97.00</td><td>52.00</td><td>2130.</td><td>24.6</td><td>82</td><td>Europe</td></tr><tr><td>Dodge Rampage</td><td>32.0</td><td>4</td><td>135.0</td><td>84.00</td><td>2295.</td><td>11.6</td><td>82</td><td>US</td></tr><tr><td>Ford Ranger</td><td>28.0</td><td>4</td><td>120.0</td><td>79.00</td><td>2625.</td><td>18.6</td><td>82</td><td>US</td></tr><tr><td>Chevy S-10</td><td>31.0</td><td>4</td><td>119.0</td><td>82.00</td><td>2720.</td><td>19.4</td><td>82</td><td>US</td></tr></tbody></table></div>"
      ]
     },
     "metadata": {
      "application/vnd.databricks.v1+output": {
       "addedWidgets": {},
       "aggData": [],
       "aggError": "",
       "aggOverflow": false,
       "aggSchema": [],
       "aggSeriesLimitReached": false,
       "aggType": "",
       "arguments": {},
       "columnCustomDisplayInfos": {},
       "data": [
        [
         "Chevrolet Chevelle Malibu",
         "18.0",
         "8",
         "307.0",
         "130.0",
         "3504.",
         "12.0",
         "70",
         "US"
        ],
        [
         "Buick Skylark 320",
         "15.0",
         "8",
         "350.0",
         "165.0",
         "3693.",
         "11.5",
         "70",
         "US"
        ],
        [
         "Plymouth Satellite",
         "18.0",
         "8",
         "318.0",
         "150.0",
         "3436.",
         "11.0",
         "70",
         "US"
        ],
        [
         "AMC Rebel SST",
         "16.0",
         "8",
         "304.0",
         "150.0",
         "3433.",
         "12.0",
         "70",
         "US"
        ],
        [
         "Ford Torino",
         "17.0",
         "8",
         "302.0",
         "140.0",
         "3449.",
         "10.5",
         "70",
         "US"
        ],
        [
         "Ford Galaxie 500",
         "15.0",
         "8",
         "429.0",
         "198.0",
         "4341.",
         "10.0",
         "70",
         "US"
        ],
        [
         "Chevrolet Impala",
         "14.0",
         "8",
         "454.0",
         "220.0",
         "4354.",
         "9.0",
         "70",
         "US"
        ],
        [
         "Plymouth Fury iii",
         "14.0",
         "8",
         "440.0",
         "215.0",
         "4312.",
         "8.5",
         "70",
         "US"
        ],
        [
         "Pontiac Catalina",
         "14.0",
         "8",
         "455.0",
         "225.0",
         "4425.",
         "10.0",
         "70",
         "US"
        ],
        [
         "AMC Ambassador DPL",
         "15.0",
         "8",
         "390.0",
         "190.0",
         "3850.",
         "8.5",
         "70",
         "US"
        ],
        [
         "Citroen DS-21 Pallas",
         "0",
         "4",
         "133.0",
         "115.0",
         "3090.",
         "17.5",
         "70",
         "Europe"
        ],
        [
         "Chevrolet Chevelle Concours (sw)",
         "0",
         "8",
         "350.0",
         "165.0",
         "4142.",
         "11.5",
         "70",
         "US"
        ],
        [
         "Ford Torino (sw)",
         "0",
         "8",
         "351.0",
         "153.0",
         "4034.",
         "11.0",
         "70",
         "US"
        ],
        [
         "Plymouth Satellite (sw)",
         "0",
         "8",
         "383.0",
         "175.0",
         "4166.",
         "10.5",
         "70",
         "US"
        ],
        [
         "AMC Rebel SST (sw)",
         "0",
         "8",
         "360.0",
         "175.0",
         "3850.",
         "11.0",
         "70",
         "US"
        ],
        [
         "Dodge Challenger SE",
         "15.0",
         "8",
         "383.0",
         "170.0",
         "3563.",
         "10.0",
         "70",
         "US"
        ],
        [
         "Plymouth 'Cuda 340",
         "14.0",
         "8",
         "340.0",
         "160.0",
         "3609.",
         "8.0",
         "70",
         "US"
        ],
        [
         "Ford Mustang Boss 302",
         "0",
         "8",
         "302.0",
         "140.0",
         "3353.",
         "8.0",
         "70",
         "US"
        ],
        [
         "Chevrolet Monte Carlo",
         "15.0",
         "8",
         "400.0",
         "150.0",
         "3761.",
         "9.5",
         "70",
         "US"
        ],
        [
         "Buick Estate Wagon (sw)",
         "14.0",
         "8",
         "455.0",
         "225.0",
         "3086.",
         "10.0",
         "70",
         "US"
        ],
        [
         "Toyota Corolla Mark ii",
         "24.0",
         "4",
         "113.0",
         "95.00",
         "2372.",
         "15.0",
         "70",
         "Japan"
        ],
        [
         "Plymouth Duster",
         "22.0",
         "6",
         "198.0",
         "95.00",
         "2833.",
         "15.5",
         "70",
         "US"
        ],
        [
         "AMC Hornet",
         "18.0",
         "6",
         "199.0",
         "97.00",
         "2774.",
         "15.5",
         "70",
         "US"
        ],
        [
         "Ford Maverick",
         "21.0",
         "6",
         "200.0",
         "85.00",
         "2587.",
         "16.0",
         "70",
         "US"
        ],
        [
         "Datsun PL510",
         "27.0",
         "4",
         "97.00",
         "88.00",
         "2130.",
         "14.5",
         "70",
         "Japan"
        ],
        [
         "Volkswagen 1131 Deluxe Sedan",
         "26.0",
         "4",
         "97.00",
         "46.00",
         "1835.",
         "20.5",
         "70",
         "Europe"
        ],
        [
         "Peugeot 504",
         "25.0",
         "4",
         "110.0",
         "87.00",
         "2672.",
         "17.5",
         "70",
         "Europe"
        ],
        [
         "Audi 100 LS",
         "24.0",
         "4",
         "107.0",
         "90.00",
         "2430.",
         "14.5",
         "70",
         "Europe"
        ],
        [
         "Saab 99e",
         "25.0",
         "4",
         "104.0",
         "95.00",
         "2375.",
         "17.5",
         "70",
         "Europe"
        ],
        [
         "BMW 2002",
         "26.0",
         "4",
         "121.0",
         "113.0",
         "2234.",
         "12.5",
         "70",
         "Europe"
        ],
        [
         "AMC Gremlin",
         "21.0",
         "6",
         "199.0",
         "90.00",
         "2648.",
         "15.0",
         "70",
         "US"
        ],
        [
         "Ford F250",
         "10.0",
         "8",
         "360.0",
         "215.0",
         "4615.",
         "14.0",
         "70",
         "US"
        ],
        [
         "Chevy C20",
         "10.0",
         "8",
         "307.0",
         "200.0",
         "4376.",
         "15.0",
         "70",
         "US"
        ],
        [
         "Dodge D200",
         "11.0",
         "8",
         "318.0",
         "210.0",
         "4382.",
         "13.5",
         "70",
         "US"
        ],
        [
         "Hi 1200D",
         "9.0",
         "8",
         "304.0",
         "193.0",
         "4732.",
         "18.5",
         "70",
         "US"
        ],
        [
         "Datsun PL510",
         "27.0",
         "4",
         "97.00",
         "88.00",
         "2130.",
         "14.5",
         "71",
         "Japan"
        ],
        [
         "Chevrolet Vega 2300",
         "28.0",
         "4",
         "140.0",
         "90.00",
         "2264.",
         "15.5",
         "71",
         "US"
        ],
        [
         "Toyota Corolla",
         "25.0",
         "4",
         "113.0",
         "95.00",
         "2228.",
         "14.0",
         "71",
         "Japan"
        ],
        [
         "Ford Pinto",
         "25.0",
         "4",
         "98.00",
         "0",
         "2046.",
         "19.0",
         "71",
         "US"
        ],
        [
         "Volkswagen Super Beetle 117",
         "0",
         "4",
         "97.00",
         "48.00",
         "1978.",
         "20.0",
         "71",
         "Europe"
        ],
        [
         "AMC Gremlin",
         "19.0",
         "6",
         "232.0",
         "100.0",
         "2634.",
         "13.0",
         "71",
         "US"
        ],
        [
         "Plymouth Satellite Custom",
         "16.0",
         "6",
         "225.0",
         "105.0",
         "3439.",
         "15.5",
         "71",
         "US"
        ],
        [
         "Chevrolet Chevelle Malibu",
         "17.0",
         "6",
         "250.0",
         "100.0",
         "3329.",
         "15.5",
         "71",
         "US"
        ],
        [
         "Ford Torino 500",
         "19.0",
         "6",
         "250.0",
         "88.00",
         "3302.",
         "15.5",
         "71",
         "US"
        ],
        [
         "AMC Matador",
         "18.0",
         "6",
         "232.0",
         "100.0",
         "3288.",
         "15.5",
         "71",
         "US"
        ],
        [
         "Chevrolet Impala",
         "14.0",
         "8",
         "350.0",
         "165.0",
         "4209.",
         "12.0",
         "71",
         "US"
        ],
        [
         "Pontiac Catalina Brougham",
         "14.0",
         "8",
         "400.0",
         "175.0",
         "4464.",
         "11.5",
         "71",
         "US"
        ],
        [
         "Ford Galaxie 500",
         "14.0",
         "8",
         "351.0",
         "153.0",
         "4154.",
         "13.5",
         "71",
         "US"
        ],
        [
         "Plymouth Fury iii",
         "14.0",
         "8",
         "318.0",
         "150.0",
         "4096.",
         "13.0",
         "71",
         "US"
        ],
        [
         "Dodge Monaco (sw)",
         "12.0",
         "8",
         "383.0",
         "180.0",
         "4955.",
         "11.5",
         "71",
         "US"
        ],
        [
         "Ford Country Squire (sw)",
         "13.0",
         "8",
         "400.0",
         "170.0",
         "4746.",
         "12.0",
         "71",
         "US"
        ],
        [
         "Pontiac Safari (sw)",
         "13.0",
         "8",
         "400.0",
         "175.0",
         "5140.",
         "12.0",
         "71",
         "US"
        ],
        [
         "AMC Hornet Sportabout (sw)",
         "18.0",
         "6",
         "258.0",
         "110.0",
         "2962.",
         "13.5",
         "71",
         "US"
        ],
        [
         "Chevrolet Vega (sw)",
         "22.0",
         "4",
         "140.0",
         "72.00",
         "2408.",
         "19.0",
         "71",
         "US"
        ],
        [
         "Pontiac Firebird",
         "19.0",
         "6",
         "250.0",
         "100.0",
         "3282.",
         "15.0",
         "71",
         "US"
        ],
        [
         "Ford Mustang",
         "18.0",
         "6",
         "250.0",
         "88.00",
         "3139.",
         "14.5",
         "71",
         "US"
        ],
        [
         "Mercury Capri 2000",
         "23.0",
         "4",
         "122.0",
         "86.00",
         "2220.",
         "14.0",
         "71",
         "US"
        ],
        [
         "Opel 1900",
         "28.0",
         "4",
         "116.0",
         "90.00",
         "2123.",
         "14.0",
         "71",
         "Europe"
        ],
        [
         "Peugeot 304",
         "30.0",
         "4",
         "79.00",
         "70.00",
         "2074.",
         "19.5",
         "71",
         "Europe"
        ],
        [
         "Fiat 124B",
         "30.0",
         "4",
         "88.00",
         "76.00",
         "2065.",
         "14.5",
         "71",
         "Europe"
        ],
        [
         "Toyota Corolla 1200",
         "31.0",
         "4",
         "71.00",
         "65.00",
         "1773.",
         "19.0",
         "71",
         "Japan"
        ],
        [
         "Datsun 1200",
         "35.0",
         "4",
         "72.00",
         "69.00",
         "1613.",
         "18.0",
         "71",
         "Japan"
        ],
        [
         "Volkswagen Model 111",
         "27.0",
         "4",
         "97.00",
         "60.00",
         "1834.",
         "19.0",
         "71",
         "Europe"
        ],
        [
         "Plymouth Cricket",
         "26.0",
         "4",
         "91.00",
         "70.00",
         "1955.",
         "20.5",
         "71",
         "US"
        ],
        [
         "Toyota Corolla Hardtop",
         "24.0",
         "4",
         "113.0",
         "95.00",
         "2278.",
         "15.5",
         "72",
         "Japan"
        ],
        [
         "Dodge Colt Hardtop",
         "25.0",
         "4",
         "97.50",
         "80.00",
         "2126.",
         "17.0",
         "72",
         "US"
        ],
        [
         "Volkswagen Type 3",
         "23.0",
         "4",
         "97.00",
         "54.00",
         "2254.",
         "23.5",
         "72",
         "Europe"
        ],
        [
         "Chevrolet Vega",
         "20.0",
         "4",
         "140.0",
         "90.00",
         "2408.",
         "19.5",
         "72",
         "US"
        ],
        [
         "Ford Pinto Runabout",
         "21.0",
         "4",
         "122.0",
         "86.00",
         "2226.",
         "16.5",
         "72",
         "US"
        ],
        [
         "Chevrolet Impala",
         "13.0",
         "8",
         "350.0",
         "165.0",
         "4274.",
         "12.0",
         "72",
         "US"
        ],
        [
         "Pontiac Catalina",
         "14.0",
         "8",
         "400.0",
         "175.0",
         "4385.",
         "12.0",
         "72",
         "US"
        ],
        [
         "Plymouth Fury III",
         "15.0",
         "8",
         "318.0",
         "150.0",
         "4135.",
         "13.5",
         "72",
         "US"
        ],
        [
         "Ford Galaxie 500",
         "14.0",
         "8",
         "351.0",
         "153.0",
         "4129.",
         "13.0",
         "72",
         "US"
        ],
        [
         "AMC Ambassador SST",
         "17.0",
         "8",
         "304.0",
         "150.0",
         "3672.",
         "11.5",
         "72",
         "US"
        ],
        [
         "Mercury Marquis",
         "11.0",
         "8",
         "429.0",
         "208.0",
         "4633.",
         "11.0",
         "72",
         "US"
        ],
        [
         "Buick LeSabre Custom",
         "13.0",
         "8",
         "350.0",
         "155.0",
         "4502.",
         "13.5",
         "72",
         "US"
        ],
        [
         "Oldsmobile Delta 88 Royale",
         "12.0",
         "8",
         "350.0",
         "160.0",
         "4456.",
         "13.5",
         "72",
         "US"
        ],
        [
         "Chrysler Newport Royal",
         "13.0",
         "8",
         "400.0",
         "190.0",
         "4422.",
         "12.5",
         "72",
         "US"
        ],
        [
         "Mazda RX2 Coupe",
         "19.0",
         "3",
         "70.00",
         "97.00",
         "2330.",
         "13.5",
         "72",
         "Japan"
        ],
        [
         "AMC Matador (sw)",
         "15.0",
         "8",
         "304.0",
         "150.0",
         "3892.",
         "12.5",
         "72",
         "US"
        ],
        [
         "Chevrolet Chevelle Concours (sw)",
         "13.0",
         "8",
         "307.0",
         "130.0",
         "4098.",
         "14.0",
         "72",
         "US"
        ],
        [
         "Ford Gran Torino (sw)",
         "13.0",
         "8",
         "302.0",
         "140.0",
         "4294.",
         "16.0",
         "72",
         "US"
        ],
        [
         "Plymouth Satellite Custom (sw)",
         "14.0",
         "8",
         "318.0",
         "150.0",
         "4077.",
         "14.0",
         "72",
         "US"
        ],
        [
         "Volvo 145e (sw)",
         "18.0",
         "4",
         "121.0",
         "112.0",
         "2933.",
         "14.5",
         "72",
         "Europe"
        ],
        [
         "Volkswagen 411 (sw)",
         "22.0",
         "4",
         "121.0",
         "76.00",
         "2511.",
         "18.0",
         "72",
         "Europe"
        ],
        [
         "Peugeot 504 (sw)",
         "21.0",
         "4",
         "120.0",
         "87.00",
         "2979.",
         "19.5",
         "72",
         "Europe"
        ],
        [
         "Renault 12 (sw)",
         "26.0",
         "4",
         "96.00",
         "69.00",
         "2189.",
         "18.0",
         "72",
         "Europe"
        ],
        [
         "Ford Pinto (sw)",
         "22.0",
         "4",
         "122.0",
         "86.00",
         "2395.",
         "16.0",
         "72",
         "US"
        ],
        [
         "Datsun 510 (sw)",
         "28.0",
         "4",
         "97.00",
         "92.00",
         "2288.",
         "17.0",
         "72",
         "Japan"
        ],
        [
         "Toyota Corolla Mark II (sw)",
         "23.0",
         "4",
         "120.0",
         "97.00",
         "2506.",
         "14.5",
         "72",
         "Japan"
        ],
        [
         "Dodge Colt (sw)",
         "28.0",
         "4",
         "98.00",
         "80.00",
         "2164.",
         "15.0",
         "72",
         "US"
        ],
        [
         "Toyota Corolla 1600 (sw)",
         "27.0",
         "4",
         "97.00",
         "88.00",
         "2100.",
         "16.5",
         "72",
         "Japan"
        ],
        [
         "Buick Century 350",
         "13.0",
         "8",
         "350.0",
         "175.0",
         "4100.",
         "13.0",
         "73",
         "US"
        ],
        [
         "AMC Matador",
         "14.0",
         "8",
         "304.0",
         "150.0",
         "3672.",
         "11.5",
         "73",
         "US"
        ],
        [
         "Chevrolet Malibu",
         "13.0",
         "8",
         "350.0",
         "145.0",
         "3988.",
         "13.0",
         "73",
         "US"
        ],
        [
         "Ford Gran Torino",
         "14.0",
         "8",
         "302.0",
         "137.0",
         "4042.",
         "14.5",
         "73",
         "US"
        ],
        [
         "Dodge Coronet Custom",
         "15.0",
         "8",
         "318.0",
         "150.0",
         "3777.",
         "12.5",
         "73",
         "US"
        ],
        [
         "Mercury Marquis Brougham",
         "12.0",
         "8",
         "429.0",
         "198.0",
         "4952.",
         "11.5",
         "73",
         "US"
        ],
        [
         "Chevrolet Caprice Classic",
         "13.0",
         "8",
         "400.0",
         "150.0",
         "4464.",
         "12.0",
         "73",
         "US"
        ],
        [
         "Ford LTD",
         "13.0",
         "8",
         "351.0",
         "158.0",
         "4363.",
         "13.0",
         "73",
         "US"
        ],
        [
         "Plymouth Fury Gran Sedan",
         "14.0",
         "8",
         "318.0",
         "150.0",
         "4237.",
         "14.5",
         "73",
         "US"
        ],
        [
         "Chrysler New Yorker Brougham",
         "13.0",
         "8",
         "440.0",
         "215.0",
         "4735.",
         "11.0",
         "73",
         "US"
        ],
        [
         "Buick Electra 225 Custom",
         "12.0",
         "8",
         "455.0",
         "225.0",
         "4951.",
         "11.0",
         "73",
         "US"
        ],
        [
         "AMC Ambassador Brougham",
         "13.0",
         "8",
         "360.0",
         "175.0",
         "3821.",
         "11.0",
         "73",
         "US"
        ],
        [
         "Plymouth Valiant",
         "18.0",
         "6",
         "225.0",
         "105.0",
         "3121.",
         "16.5",
         "73",
         "US"
        ],
        [
         "Chevrolet Nova Custom",
         "16.0",
         "6",
         "250.0",
         "100.0",
         "3278.",
         "18.0",
         "73",
         "US"
        ],
        [
         "AMC Hornet",
         "18.0",
         "6",
         "232.0",
         "100.0",
         "2945.",
         "16.0",
         "73",
         "US"
        ],
        [
         "Ford Maverick",
         "18.0",
         "6",
         "250.0",
         "88.00",
         "3021.",
         "16.5",
         "73",
         "US"
        ],
        [
         "Plymouth Duster",
         "23.0",
         "6",
         "198.0",
         "95.00",
         "2904.",
         "16.0",
         "73",
         "US"
        ],
        [
         "Volkswagen Super Beetle",
         "26.0",
         "4",
         "97.00",
         "46.00",
         "1950.",
         "21.0",
         "73",
         "Europe"
        ],
        [
         "Chevrolet Impala",
         "11.0",
         "8",
         "400.0",
         "150.0",
         "4997.",
         "14.0",
         "73",
         "US"
        ],
        [
         "Ford Country",
         "12.0",
         "8",
         "400.0",
         "167.0",
         "4906.",
         "12.5",
         "73",
         "US"
        ],
        [
         "Plymouth Custom Suburb",
         "13.0",
         "8",
         "360.0",
         "170.0",
         "4654.",
         "13.0",
         "73",
         "US"
        ],
        [
         "Oldsmobile Vista Cruiser",
         "12.0",
         "8",
         "350.0",
         "180.0",
         "4499.",
         "12.5",
         "73",
         "US"
        ],
        [
         "AMC Gremlin",
         "18.0",
         "6",
         "232.0",
         "100.0",
         "2789.",
         "15.0",
         "73",
         "US"
        ],
        [
         "Toyota Camry",
         "20.0",
         "4",
         "97.00",
         "88.00",
         "2279.",
         "19.0",
         "73",
         "Japan"
        ],
        [
         "Chevrolet Vega",
         "21.0",
         "4",
         "140.0",
         "72.00",
         "2401.",
         "19.5",
         "73",
         "US"
        ],
        [
         "Datsun 610",
         "22.0",
         "4",
         "108.0",
         "94.00",
         "2379.",
         "16.5",
         "73",
         "Japan"
        ],
        [
         "Mazda RX3",
         "18.0",
         "3",
         "70.00",
         "90.00",
         "2124.",
         "13.5",
         "73",
         "Japan"
        ],
        [
         "Ford Pinto",
         "19.0",
         "4",
         "122.0",
         "85.00",
         "2310.",
         "18.5",
         "73",
         "US"
        ],
        [
         "Mercury Capri v6",
         "21.0",
         "6",
         "155.0",
         "107.0",
         "2472.",
         "14.0",
         "73",
         "US"
        ],
        [
         "Fiat 124 Sport Coupe",
         "26.0",
         "4",
         "98.00",
         "90.00",
         "2265.",
         "15.5",
         "73",
         "Europe"
        ],
        [
         "Chevrolet Monte Carlo S",
         "15.0",
         "8",
         "350.0",
         "145.0",
         "4082.",
         "13.0",
         "73",
         "US"
        ],
        [
         "Pontiac Grand Prix",
         "16.0",
         "8",
         "400.0",
         "230.0",
         "4278.",
         "9.50",
         "73",
         "US"
        ],
        [
         "Fiat 128",
         "29.0",
         "4",
         "68.00",
         "49.00",
         "1867.",
         "19.5",
         "73",
         "Europe"
        ],
        [
         "Opel Manta",
         "24.0",
         "4",
         "116.0",
         "75.00",
         "2158.",
         "15.5",
         "73",
         "Europe"
        ],
        [
         "Audi 100LS",
         "20.0",
         "4",
         "114.0",
         "91.00",
         "2582.",
         "14.0",
         "73",
         "Europe"
        ],
        [
         "Volvo 144ea",
         "19.0",
         "4",
         "121.0",
         "112.0",
         "2868.",
         "15.5",
         "73",
         "Europe"
        ],
        [
         "Dodge Dart Custom",
         "15.0",
         "8",
         "318.0",
         "150.0",
         "3399.",
         "11.0",
         "73",
         "US"
        ],
        [
         "Saab 99le",
         "24.0",
         "4",
         "121.0",
         "110.0",
         "2660.",
         "14.0",
         "73",
         "Europe"
        ],
        [
         "Toyota Mark II",
         "20.0",
         "6",
         "156.0",
         "122.0",
         "2807.",
         "13.5",
         "73",
         "Japan"
        ],
        [
         "Oldsmobile Omega",
         "11.0",
         "8",
         "350.0",
         "180.0",
         "3664.",
         "11.0",
         "73",
         "US"
        ],
        [
         "Plymouth Duster",
         "20.0",
         "6",
         "198.0",
         "95.00",
         "3102.",
         "16.5",
         "74",
         "US"
        ],
        [
         "Ford Maverick",
         "21.0",
         "6",
         "200.0",
         "0",
         "2875.",
         "17.0",
         "74",
         "US"
        ],
        [
         "AMC Hornet",
         "19.0",
         "6",
         "232.0",
         "100.0",
         "2901.",
         "16.0",
         "74",
         "US"
        ],
        [
         "Chevrolet Nova",
         "15.0",
         "6",
         "250.0",
         "100.0",
         "3336.",
         "17.0",
         "74",
         "US"
        ],
        [
         "Datsun B210",
         "31.0",
         "4",
         "79.00",
         "67.00",
         "1950.",
         "19.0",
         "74",
         "Japan"
        ],
        [
         "Ford Pinto",
         "26.0",
         "4",
         "122.0",
         "80.00",
         "2451.",
         "16.5",
         "74",
         "US"
        ],
        [
         "Toyota Corolla 1200",
         "32.0",
         "4",
         "71.00",
         "65.00",
         "1836.",
         "21.0",
         "74",
         "Japan"
        ],
        [
         "Chevrolet Vega",
         "25.0",
         "4",
         "140.0",
         "75.00",
         "2542.",
         "17.0",
         "74",
         "US"
        ],
        [
         "Chevrolet Chevelle Malibu Classic",
         "16.0",
         "6",
         "250.0",
         "100.0",
         "3781.",
         "17.0",
         "74",
         "US"
        ],
        [
         "AMC Matador",
         "16.0",
         "6",
         "258.0",
         "110.0",
         "3632.",
         "18.0",
         "74",
         "US"
        ],
        [
         "Plymouth Satellite Sebring",
         "18.0",
         "6",
         "225.0",
         "105.0",
         "3613.",
         "16.5",
         "74",
         "US"
        ],
        [
         "Ford Gran Torino",
         "16.0",
         "8",
         "302.0",
         "140.0",
         "4141.",
         "14.0",
         "74",
         "US"
        ],
        [
         "Buick Century Luxus (sw)",
         "13.0",
         "8",
         "350.0",
         "150.0",
         "4699.",
         "14.5",
         "74",
         "US"
        ],
        [
         "Dodge Coronet Custom (sw)",
         "14.0",
         "8",
         "318.0",
         "150.0",
         "4457.",
         "13.5",
         "74",
         "US"
        ],
        [
         "Ford Gran Torino (sw)",
         "14.0",
         "8",
         "302.0",
         "140.0",
         "4638.",
         "16.0",
         "74",
         "US"
        ],
        [
         "AMC Matador (sw)",
         "14.0",
         "8",
         "304.0",
         "150.0",
         "4257.",
         "15.5",
         "74",
         "US"
        ],
        [
         "Audi Fox",
         "29.0",
         "4",
         "98.00",
         "83.00",
         "2219.",
         "16.5",
         "74",
         "Europe"
        ],
        [
         "Volkswagen Dasher",
         "26.0",
         "4",
         "79.00",
         "67.00",
         "1963.",
         "15.5",
         "74",
         "Europe"
        ],
        [
         "Opel Manta",
         "26.0",
         "4",
         "97.00",
         "78.00",
         "2300.",
         "14.5",
         "74",
         "Europe"
        ],
        [
         "Toyota Corolla",
         "31.0",
         "4",
         "76.00",
         "52.00",
         "1649.",
         "16.5",
         "74",
         "Japan"
        ],
        [
         "Datsun 710",
         "32.0",
         "4",
         "83.00",
         "61.00",
         "2003.",
         "19.0",
         "74",
         "Japan"
        ],
        [
         "Dodge Colt",
         "28.0",
         "4",
         "90.00",
         "75.00",
         "2125.",
         "14.5",
         "74",
         "US"
        ],
        [
         "Fiat 128",
         "24.0",
         "4",
         "90.00",
         "75.00",
         "2108.",
         "15.5",
         "74",
         "Europe"
        ],
        [
         "Fiat 124 TC",
         "26.0",
         "4",
         "116.0",
         "75.00",
         "2246.",
         "14.0",
         "74",
         "Europe"
        ],
        [
         "Honda Civic",
         "24.0",
         "4",
         "120.0",
         "97.00",
         "2489.",
         "15.0",
         "74",
         "Japan"
        ],
        [
         "Subaru",
         "26.0",
         "4",
         "108.0",
         "93.00",
         "2391.",
         "15.5",
         "74",
         "Japan"
        ],
        [
         "Fiat x1.9",
         "31.0",
         "4",
         "79.00",
         "67.00",
         "2000.",
         "16.0",
         "74",
         "Europe"
        ],
        [
         "Plymouth Valiant Custom",
         "19.0",
         "6",
         "225.0",
         "95.00",
         "3264.",
         "16.0",
         "75",
         "US"
        ],
        [
         "Chevrolet Nova",
         "18.0",
         "6",
         "250.0",
         "105.0",
         "3459.",
         "16.0",
         "75",
         "US"
        ],
        [
         "Mercury Monarch",
         "15.0",
         "6",
         "250.0",
         "72.00",
         "3432.",
         "21.0",
         "75",
         "US"
        ],
        [
         "Ford Maverick",
         "15.0",
         "6",
         "250.0",
         "72.00",
         "3158.",
         "19.5",
         "75",
         "US"
        ],
        [
         "Pontiac Catalina",
         "16.0",
         "8",
         "400.0",
         "170.0",
         "4668.",
         "11.5",
         "75",
         "US"
        ],
        [
         "Chevrolet Bel Air",
         "15.0",
         "8",
         "350.0",
         "145.0",
         "4440.",
         "14.0",
         "75",
         "US"
        ],
        [
         "Plymouth Grand Fury",
         "16.0",
         "8",
         "318.0",
         "150.0",
         "4498.",
         "14.5",
         "75",
         "US"
        ],
        [
         "Ford LTD",
         "14.0",
         "8",
         "351.0",
         "148.0",
         "4657.",
         "13.5",
         "75",
         "US"
        ],
        [
         "Buick Century",
         "17.0",
         "6",
         "231.0",
         "110.0",
         "3907.",
         "21.0",
         "75",
         "US"
        ],
        [
         "Chevrolete Chevelle Malibu",
         "16.0",
         "6",
         "250.0",
         "105.0",
         "3897.",
         "18.5",
         "75",
         "US"
        ],
        [
         "AMC Matador",
         "15.0",
         "6",
         "258.0",
         "110.0",
         "3730.",
         "19.0",
         "75",
         "US"
        ],
        [
         "Plymouth Fury",
         "18.0",
         "6",
         "225.0",
         "95.00",
         "3785.",
         "19.0",
         "75",
         "US"
        ],
        [
         "Buick Skyhawk",
         "21.0",
         "6",
         "231.0",
         "110.0",
         "3039.",
         "15.0",
         "75",
         "US"
        ],
        [
         "Chevrolet Monza 2+2",
         "20.0",
         "8",
         "262.0",
         "110.0",
         "3221.",
         "13.5",
         "75",
         "US"
        ],
        [
         "Ford Mustang II",
         "13.0",
         "8",
         "302.0",
         "129.0",
         "3169.",
         "12.0",
         "75",
         "US"
        ],
        [
         "Toyota Corolla",
         "29.0",
         "4",
         "97.00",
         "75.00",
         "2171.",
         "16.0",
         "75",
         "Japan"
        ],
        [
         "Ford Pinto",
         "23.0",
         "4",
         "140.0",
         "83.00",
         "2639.",
         "17.0",
         "75",
         "US"
        ],
        [
         "AMC Gremlin",
         "20.0",
         "6",
         "232.0",
         "100.0",
         "2914.",
         "16.0",
         "75",
         "US"
        ],
        [
         "Pontiac Astro",
         "23.0",
         "4",
         "140.0",
         "78.00",
         "2592.",
         "18.5",
         "75",
         "US"
        ],
        [
         "Toyota Corolla",
         "24.0",
         "4",
         "134.0",
         "96.00",
         "2702.",
         "13.5",
         "75",
         "Japan"
        ],
        [
         "Volkswagen Dasher",
         "25.0",
         "4",
         "90.00",
         "71.00",
         "2223.",
         "16.5",
         "75",
         "Europe"
        ],
        [
         "Datsun 710",
         "24.0",
         "4",
         "119.0",
         "97.00",
         "2545.",
         "17.0",
         "75",
         "Japan"
        ],
        [
         "Ford Pinto",
         "18.0",
         "6",
         "171.0",
         "97.00",
         "2984.",
         "14.5",
         "75",
         "US"
        ],
        [
         "Volkswagen Rabbit",
         "29.0",
         "4",
         "90.00",
         "70.00",
         "1937.",
         "14.0",
         "75",
         "Europe"
        ],
        [
         "AMC Pacer",
         "19.0",
         "6",
         "232.0",
         "90.00",
         "3211.",
         "17.0",
         "75",
         "US"
        ],
        [
         "Audi 100LS",
         "23.0",
         "4",
         "115.0",
         "95.00",
         "2694.",
         "15.0",
         "75",
         "Europe"
        ],
        [
         "Peugeot 504",
         "23.0",
         "4",
         "120.0",
         "88.00",
         "2957.",
         "17.0",
         "75",
         "Europe"
        ],
        [
         "Volvo 244DL",
         "22.0",
         "4",
         "121.0",
         "98.00",
         "2945.",
         "14.5",
         "75",
         "Europe"
        ],
        [
         "Saab 99LE",
         "25.0",
         "4",
         "121.0",
         "115.0",
         "2671.",
         "13.5",
         "75",
         "Europe"
        ],
        [
         "Honda Civic CVCC",
         "33.0",
         "4",
         "91.00",
         "53.00",
         "1795.",
         "17.5",
         "75",
         "Japan"
        ],
        [
         "Fiat 131",
         "28.0",
         "4",
         "107.0",
         "86.00",
         "2464.",
         "15.5",
         "76",
         "Europe"
        ],
        [
         "Opel 1900",
         "25.0",
         "4",
         "116.0",
         "81.00",
         "2220.",
         "16.9",
         "76",
         "Europe"
        ],
        [
         "Capri ii",
         "25.0",
         "4",
         "140.0",
         "92.00",
         "2572.",
         "14.9",
         "76",
         "US"
        ],
        [
         "Dodge Colt",
         "26.0",
         "4",
         "98.00",
         "79.00",
         "2255.",
         "17.7",
         "76",
         "US"
        ],
        [
         "Renault 12tl",
         "27.0",
         "4",
         "101.0",
         "83.00",
         "2202.",
         "15.3",
         "76",
         "Europe"
        ],
        [
         "Chevrolet Chevelle Malibu Classic",
         "17.5",
         "8",
         "305.0",
         "140.0",
         "4215.",
         "13.0",
         "76",
         "US"
        ],
        [
         "Dodge Coronet Brougham",
         "16.0",
         "8",
         "318.0",
         "150.0",
         "4190.",
         "13.0",
         "76",
         "US"
        ],
        [
         "AMC Matador",
         "15.5",
         "8",
         "304.0",
         "120.0",
         "3962.",
         "13.9",
         "76",
         "US"
        ],
        [
         "Ford Gran Torino",
         "14.5",
         "8",
         "351.0",
         "152.0",
         "4215.",
         "12.8",
         "76",
         "US"
        ],
        [
         "Plymouth Valiant",
         "22.0",
         "6",
         "225.0",
         "100.0",
         "3233.",
         "15.4",
         "76",
         "US"
        ],
        [
         "Chevrolet Nova",
         "22.0",
         "6",
         "250.0",
         "105.0",
         "3353.",
         "14.5",
         "76",
         "US"
        ],
        [
         "Ford Maverick",
         "24.0",
         "6",
         "200.0",
         "81.00",
         "3012.",
         "17.6",
         "76",
         "US"
        ],
        [
         "AMC Hornet",
         "22.5",
         "6",
         "232.0",
         "90.00",
         "3085.",
         "17.6",
         "76",
         "US"
        ],
        [
         "Chevrolet Chevette",
         "29.0",
         "4",
         "85.00",
         "52.00",
         "2035.",
         "22.2",
         "76",
         "US"
        ],
        [
         "Chevrolet Woody",
         "24.5",
         "4",
         "98.00",
         "60.00",
         "2164.",
         "22.1",
         "76",
         "US"
        ],
        [
         "Volkswagen Rabbit",
         "29.0",
         "4",
         "90.00",
         "70.00",
         "1937.",
         "14.2",
         "76",
         "Europe"
        ],
        [
         "Honda Civic",
         "33.0",
         "4",
         "91.00",
         "53.00",
         "1795.",
         "17.4",
         "76",
         "Japan"
        ],
        [
         "Dodge Aspen SE",
         "20.0",
         "6",
         "225.0",
         "100.0",
         "3651.",
         "17.7",
         "76",
         "US"
        ],
        [
         "Ford Grenada ghia",
         "18.0",
         "6",
         "250.0",
         "78.00",
         "3574.",
         "21.0",
         "76",
         "US"
        ],
        [
         "Pontiac Ventura SJ",
         "18.5",
         "6",
         "250.0",
         "110.0",
         "3645.",
         "16.2",
         "76",
         "US"
        ],
        [
         "AMC Pacer d/l",
         "17.5",
         "6",
         "258.0",
         "95.00",
         "3193.",
         "17.8",
         "76",
         "US"
        ],
        [
         "Volkswagen Rabbit",
         "29.5",
         "4",
         "97.00",
         "71.00",
         "1825.",
         "12.2",
         "76",
         "Europe"
        ],
        [
         "Datsun B-210",
         "32.0",
         "4",
         "85.00",
         "70.00",
         "1990.",
         "17.0",
         "76",
         "Japan"
        ],
        [
         "Toyota Corolla",
         "28.0",
         "4",
         "97.00",
         "75.00",
         "2155.",
         "16.4",
         "76",
         "Japan"
        ],
        [
         "Ford Pinto",
         "26.5",
         "4",
         "140.0",
         "72.00",
         "2565.",
         "13.6",
         "76",
         "US"
        ],
        [
         "Volvo 245",
         "20.0",
         "4",
         "130.0",
         "102.0",
         "3150.",
         "15.7",
         "76",
         "Europe"
        ],
        [
         "Plymouth Volare Premier v8",
         "13.0",
         "8",
         "318.0",
         "150.0",
         "3940.",
         "13.2",
         "76",
         "US"
        ],
        [
         "Peugeot 504",
         "19.0",
         "4",
         "120.0",
         "88.00",
         "3270.",
         "21.9",
         "76",
         "Europe"
        ],
        [
         "Toyota Mark II",
         "19.0",
         "6",
         "156.0",
         "108.0",
         "2930.",
         "15.5",
         "76",
         "Japan"
        ],
        [
         "Mercedes-Benz 280s",
         "16.5",
         "6",
         "168.0",
         "120.0",
         "3820.",
         "16.7",
         "76",
         "Europe"
        ],
        [
         "Cadillac Seville",
         "16.5",
         "8",
         "350.0",
         "180.0",
         "4380.",
         "12.1",
         "76",
         "US"
        ],
        [
         "Chevrolet C10",
         "13.0",
         "8",
         "350.0",
         "145.0",
         "4055.",
         "12.0",
         "76",
         "US"
        ],
        [
         "Ford F108",
         "13.0",
         "8",
         "302.0",
         "130.0",
         "3870.",
         "15.0",
         "76",
         "US"
        ],
        [
         "Dodge D100",
         "13.0",
         "8",
         "318.0",
         "150.0",
         "3755.",
         "14.0",
         "76",
         "US"
        ],
        [
         "Honda Accord CVCC",
         "31.5",
         "4",
         "98.00",
         "68.00",
         "2045.",
         "18.5",
         "77",
         "Japan"
        ],
        [
         "Buick Opel Isuzu Deluxe",
         "30.0",
         "4",
         "111.0",
         "80.00",
         "2155.",
         "14.8",
         "77",
         "US"
        ],
        [
         "Renault 5 GTL",
         "36.0",
         "4",
         "79.00",
         "58.00",
         "1825.",
         "18.6",
         "77",
         "Europe"
        ],
        [
         "Plymouth Arrow GS",
         "25.5",
         "4",
         "122.0",
         "96.00",
         "2300.",
         "15.5",
         "77",
         "US"
        ],
        [
         "Datsun F-10 Hatchback",
         "33.5",
         "4",
         "85.00",
         "70.00",
         "1945.",
         "16.8",
         "77",
         "Japan"
        ],
        [
         "Chevrolet Caprice Classic",
         "17.5",
         "8",
         "305.0",
         "145.0",
         "3880.",
         "12.5",
         "77",
         "US"
        ],
        [
         "Oldsmobile Cutlass Supreme",
         "17.0",
         "8",
         "260.0",
         "110.0",
         "4060.",
         "19.0",
         "77",
         "US"
        ],
        [
         "Dodge Monaco Brougham",
         "15.5",
         "8",
         "318.0",
         "145.0",
         "4140.",
         "13.7",
         "77",
         "US"
        ],
        [
         "Mercury Cougar Brougham",
         "15.0",
         "8",
         "302.0",
         "130.0",
         "4295.",
         "14.9",
         "77",
         "US"
        ],
        [
         "Chevrolet Concours",
         "17.5",
         "6",
         "250.0",
         "110.0",
         "3520.",
         "16.4",
         "77",
         "US"
        ],
        [
         "Buick Skylark",
         "20.5",
         "6",
         "231.0",
         "105.0",
         "3425.",
         "16.9",
         "77",
         "US"
        ],
        [
         "Plymouth Volare Custom",
         "19.0",
         "6",
         "225.0",
         "100.0",
         "3630.",
         "17.7",
         "77",
         "US"
        ],
        [
         "Ford Grenada",
         "18.5",
         "6",
         "250.0",
         "98.00",
         "3525.",
         "19.0",
         "77",
         "US"
        ],
        [
         "Pontiac Grand Prix LJ",
         "16.0",
         "8",
         "400.0",
         "180.0",
         "4220.",
         "11.1",
         "77",
         "US"
        ],
        [
         "Chevrolet Monte Carlo Landau",
         "15.5",
         "8",
         "350.0",
         "170.0",
         "4165.",
         "11.4",
         "77",
         "US"
        ],
        [
         "Chrysler Cordoba",
         "15.5",
         "8",
         "400.0",
         "190.0",
         "4325.",
         "12.2",
         "77",
         "US"
        ],
        [
         "Ford Thunderbird",
         "16.0",
         "8",
         "351.0",
         "149.0",
         "4335.",
         "14.5",
         "77",
         "US"
        ],
        [
         "Volkswagen Rabbit Custom",
         "29.0",
         "4",
         "97.00",
         "78.00",
         "1940.",
         "14.5",
         "77",
         "Europe"
        ],
        [
         "Pontiac Sunbird Coupe",
         "24.5",
         "4",
         "151.0",
         "88.00",
         "2740.",
         "16.0",
         "77",
         "US"
        ],
        [
         "Toyota Corolla Liftback",
         "26.0",
         "4",
         "97.00",
         "75.00",
         "2265.",
         "18.2",
         "77",
         "Japan"
        ],
        [
         "Ford Mustang II 2+2",
         "25.5",
         "4",
         "140.0",
         "89.00",
         "2755.",
         "15.8",
         "77",
         "US"
        ],
        [
         "Chevrolet Chevette",
         "30.5",
         "4",
         "98.00",
         "63.00",
         "2051.",
         "17.0",
         "77",
         "US"
        ],
        [
         "Dodge Colt m/m",
         "33.5",
         "4",
         "98.00",
         "83.00",
         "2075.",
         "15.9",
         "77",
         "US"
        ],
        [
         "Subaru DL",
         "30.0",
         "4",
         "97.00",
         "67.00",
         "1985.",
         "16.4",
         "77",
         "Japan"
        ],
        [
         "Volkswagen Dasher",
         "30.5",
         "4",
         "97.00",
         "78.00",
         "2190.",
         "14.1",
         "77",
         "Europe"
        ],
        [
         "Datsun 810",
         "22.0",
         "6",
         "146.0",
         "97.00",
         "2815.",
         "14.5",
         "77",
         "Japan"
        ],
        [
         "BMW 320i",
         "21.5",
         "4",
         "121.0",
         "110.0",
         "2600.",
         "12.8",
         "77",
         "Europe"
        ],
        [
         "Mazda RX-4",
         "21.5",
         "3",
         "80.00",
         "110.0",
         "2720.",
         "13.5",
         "77",
         "Japan"
        ],
        [
         "Volkswagen Rabbit Custom Diesel",
         "43.1",
         "4",
         "90.00",
         "48.00",
         "1985.",
         "21.5",
         "78",
         "Europe"
        ],
        [
         "Ford Fiesta",
         "36.1",
         "4",
         "98.00",
         "66.00",
         "1800.",
         "14.4",
         "78",
         "US"
        ],
        [
         "Mazda GLC Deluxe",
         "32.8",
         "4",
         "78.00",
         "52.00",
         "1985.",
         "19.4",
         "78",
         "Japan"
        ],
        [
         "Datsun B210 GX",
         "39.4",
         "4",
         "85.00",
         "70.00",
         "2070.",
         "18.6",
         "78",
         "Japan"
        ],
        [
         "Honda Civic CVCC",
         "36.1",
         "4",
         "91.00",
         "60.00",
         "1800.",
         "16.4",
         "78",
         "Japan"
        ],
        [
         "Oldsmobile Cutlass Salon Brougham",
         "19.9",
         "8",
         "260.0",
         "110.0",
         "3365.",
         "15.5",
         "78",
         "US"
        ],
        [
         "Dodge Diplomat",
         "19.4",
         "8",
         "318.0",
         "140.0",
         "3735.",
         "13.2",
         "78",
         "US"
        ],
        [
         "Mercury Monarch ghia",
         "20.2",
         "8",
         "302.0",
         "139.0",
         "3570.",
         "12.8",
         "78",
         "US"
        ],
        [
         "Pontiac Phoenix LJ",
         "19.2",
         "6",
         "231.0",
         "105.0",
         "3535.",
         "19.2",
         "78",
         "US"
        ],
        [
         "Chevrolet Malibu",
         "20.5",
         "6",
         "200.0",
         "95.00",
         "3155.",
         "18.2",
         "78",
         "US"
        ],
        [
         "Ford Fairmont (auto)",
         "20.2",
         "6",
         "200.0",
         "85.00",
         "2965.",
         "15.8",
         "78",
         "US"
        ],
        [
         "Ford Fairmont (man)",
         "25.1",
         "4",
         "140.0",
         "88.00",
         "2720.",
         "15.4",
         "78",
         "US"
        ],
        [
         "Plymouth Volare",
         "20.5",
         "6",
         "225.0",
         "100.0",
         "3430.",
         "17.2",
         "78",
         "US"
        ],
        [
         "AMC Concord",
         "19.4",
         "6",
         "232.0",
         "90.00",
         "3210.",
         "17.2",
         "78",
         "US"
        ],
        [
         "Buick Century Special",
         "20.6",
         "6",
         "231.0",
         "105.0",
         "3380.",
         "15.8",
         "78",
         "US"
        ],
        [
         "Mercury Zephyr",
         "20.8",
         "6",
         "200.0",
         "85.00",
         "3070.",
         "16.7",
         "78",
         "US"
        ],
        [
         "Dodge Aspen",
         "18.6",
         "6",
         "225.0",
         "110.0",
         "3620.",
         "18.7",
         "78",
         "US"
        ],
        [
         "AMC Concord d/l",
         "18.1",
         "6",
         "258.0",
         "120.0",
         "3410.",
         "15.1",
         "78",
         "US"
        ],
        [
         "Chevrolet Monte Carlo Landau",
         "19.2",
         "8",
         "305.0",
         "145.0",
         "3425.",
         "13.2",
         "78",
         "US"
        ],
        [
         "Buick Regal Sport Coupe (turbo)",
         "17.7",
         "6",
         "231.0",
         "165.0",
         "3445.",
         "13.4",
         "78",
         "US"
        ],
        [
         "Ford Futura",
         "18.1",
         "8",
         "302.0",
         "139.0",
         "3205.",
         "11.2",
         "78",
         "US"
        ],
        [
         "Dodge Magnum XE",
         "17.5",
         "8",
         "318.0",
         "140.0",
         "4080.",
         "13.7",
         "78",
         "US"
        ],
        [
         "Chevrolet Chevette",
         "30.0",
         "4",
         "98.00",
         "68.00",
         "2155.",
         "16.5",
         "78",
         "US"
        ],
        [
         "Toyota Corolla",
         "27.5",
         "4",
         "134.0",
         "95.00",
         "2560.",
         "14.2",
         "78",
         "Japan"
        ],
        [
         "Datsun 510",
         "27.2",
         "4",
         "119.0",
         "97.00",
         "2300.",
         "14.7",
         "78",
         "Japan"
        ],
        [
         "Dodge Omni",
         "30.9",
         "4",
         "105.0",
         "75.00",
         "2230.",
         "14.5",
         "78",
         "US"
        ],
        [
         "Toyota Celica GT Liftback",
         "21.1",
         "4",
         "134.0",
         "95.00",
         "2515.",
         "14.8",
         "78",
         "Japan"
        ],
        [
         "Plymouth Sapporo",
         "23.2",
         "4",
         "156.0",
         "105.0",
         "2745.",
         "16.7",
         "78",
         "US"
        ],
        [
         "Oldsmobile Starfire SX",
         "23.8",
         "4",
         "151.0",
         "85.00",
         "2855.",
         "17.6",
         "78",
         "US"
        ],
        [
         "Datsun 200-SX",
         "23.9",
         "4",
         "119.0",
         "97.00",
         "2405.",
         "14.9",
         "78",
         "Japan"
        ],
        [
         "Audi 5000",
         "20.3",
         "5",
         "131.0",
         "103.0",
         "2830.",
         "15.9",
         "78",
         "Europe"
        ],
        [
         "Volvo 264gl",
         "17.0",
         "6",
         "163.0",
         "125.0",
         "3140.",
         "13.6",
         "78",
         "Europe"
        ],
        [
         "Saab 99gle",
         "21.6",
         "4",
         "121.0",
         "115.0",
         "2795.",
         "15.7",
         "78",
         "Europe"
        ],
        [
         "Peugeot 604sl",
         "16.2",
         "6",
         "163.0",
         "133.0",
         "3410.",
         "15.8",
         "78",
         "Europe"
        ],
        [
         "Volkswagen Scirocco",
         "31.5",
         "4",
         "89.00",
         "71.00",
         "1990.",
         "14.9",
         "78",
         "Europe"
        ],
        [
         "Honda Accord LX",
         "29.5",
         "4",
         "98.00",
         "68.00",
         "2135.",
         "16.6",
         "78",
         "Japan"
        ],
        [
         "Pontiac Lemans V6",
         "21.5",
         "6",
         "231.0",
         "115.0",
         "3245.",
         "15.4",
         "79",
         "US"
        ],
        [
         "Mercury Zephyr 6",
         "19.8",
         "6",
         "200.0",
         "85.00",
         "2990.",
         "18.2",
         "79",
         "US"
        ],
        [
         "Ford Fairmont 4",
         "22.3",
         "4",
         "140.0",
         "88.00",
         "2890.",
         "17.3",
         "79",
         "US"
        ],
        [
         "AMC Concord DL 6",
         "20.2",
         "6",
         "232.0",
         "90.00",
         "3265.",
         "18.2",
         "79",
         "US"
        ],
        [
         "Dodge Aspen 6",
         "20.6",
         "6",
         "225.0",
         "110.0",
         "3360.",
         "16.6",
         "79",
         "US"
        ],
        [
         "Chevrolet Caprice Classic",
         "17.0",
         "8",
         "305.0",
         "130.0",
         "3840.",
         "15.4",
         "79",
         "US"
        ],
        [
         "Ford LTD Landau",
         "17.6",
         "8",
         "302.0",
         "129.0",
         "3725.",
         "13.4",
         "79",
         "US"
        ],
        [
         "Mercury Grand Marquis",
         "16.5",
         "8",
         "351.0",
         "138.0",
         "3955.",
         "13.2",
         "79",
         "US"
        ],
        [
         "Dodge St. Regis",
         "18.2",
         "8",
         "318.0",
         "135.0",
         "3830.",
         "15.2",
         "79",
         "US"
        ],
        [
         "Buick Estate Wagon (sw)",
         "16.9",
         "8",
         "350.0",
         "155.0",
         "4360.",
         "14.9",
         "79",
         "US"
        ],
        [
         "Ford Country Squire (sw)",
         "15.5",
         "8",
         "351.0",
         "142.0",
         "4054.",
         "14.3",
         "79",
         "US"
        ],
        [
         "Chevrolet Malibu Classic (sw)",
         "19.2",
         "8",
         "267.0",
         "125.0",
         "3605.",
         "15.0",
         "79",
         "US"
        ],
        [
         "Chrysler Lebaron Town @ Country (sw)",
         "18.5",
         "8",
         "360.0",
         "150.0",
         "3940.",
         "13.0",
         "79",
         "US"
        ],
        [
         "Volkswagen Rabbit Custom",
         "31.9",
         "4",
         "89.00",
         "71.00",
         "1925.",
         "14.0",
         "79",
         "Europe"
        ],
        [
         "Mazda GLC Deluxe",
         "34.1",
         "4",
         "86.00",
         "65.00",
         "1975.",
         "15.2",
         "79",
         "Japan"
        ],
        [
         "Dodge Colt Hatchback Custom",
         "35.7",
         "4",
         "98.00",
         "80.00",
         "1915.",
         "14.4",
         "79",
         "US"
        ],
        [
         "AMC Spirit DL",
         "27.4",
         "4",
         "121.0",
         "80.00",
         "2670.",
         "15.0",
         "79",
         "US"
        ],
        [
         "Mercedes Benz 300d",
         "25.4",
         "5",
         "183.0",
         "77.00",
         "3530.",
         "20.1",
         "79",
         "Europe"
        ],
        [
         "Cadillac Eldorado",
         "23.0",
         "8",
         "350.0",
         "125.0",
         "3900.",
         "17.4",
         "79",
         "US"
        ],
        [
         "Peugeot 504",
         "27.2",
         "4",
         "141.0",
         "71.00",
         "3190.",
         "24.8",
         "79",
         "Europe"
        ],
        [
         "Oldsmobile Cutlass Salon Brougham",
         "23.9",
         "8",
         "260.0",
         "90.00",
         "3420.",
         "22.2",
         "79",
         "US"
        ],
        [
         "Plymouth Horizon",
         "34.2",
         "4",
         "105.0",
         "70.00",
         "2200.",
         "13.2",
         "79",
         "US"
        ],
        [
         "Plymouth Horizon TC3",
         "34.5",
         "4",
         "105.0",
         "70.00",
         "2150.",
         "14.9",
         "79",
         "US"
        ],
        [
         "Datsun 210",
         "31.8",
         "4",
         "85.00",
         "65.00",
         "2020.",
         "19.2",
         "79",
         "Japan"
        ],
        [
         "Fiat Strada Custom",
         "37.3",
         "4",
         "91.00",
         "69.00",
         "2130.",
         "14.7",
         "79",
         "Europe"
        ],
        [
         "Buick Skylark Limited",
         "28.4",
         "4",
         "151.0",
         "90.00",
         "2670.",
         "16.0",
         "79",
         "US"
        ],
        [
         "Chevrolet Citation",
         "28.8",
         "6",
         "173.0",
         "115.0",
         "2595.",
         "11.3",
         "79",
         "US"
        ],
        [
         "Oldsmobile Omega Brougham",
         "26.8",
         "6",
         "173.0",
         "115.0",
         "2700.",
         "12.9",
         "79",
         "US"
        ],
        [
         "Pontiac Phoenix",
         "33.5",
         "4",
         "151.0",
         "90.00",
         "2556.",
         "13.2",
         "79",
         "US"
        ],
        [
         "Volkswagen Rabbit",
         "41.5",
         "4",
         "98.00",
         "76.00",
         "2144.",
         "14.7",
         "80",
         "Europe"
        ],
        [
         "Toyota Corolla Tercel",
         "38.1",
         "4",
         "89.00",
         "60.00",
         "1968.",
         "18.8",
         "80",
         "Japan"
        ],
        [
         "Chevrolet Chevette",
         "32.1",
         "4",
         "98.00",
         "70.00",
         "2120.",
         "15.5",
         "80",
         "US"
        ],
        [
         "Datsun 310",
         "37.2",
         "4",
         "86.00",
         "65.00",
         "2019.",
         "16.4",
         "80",
         "Japan"
        ],
        [
         "Chevrolet Citation",
         "28.0",
         "4",
         "151.0",
         "90.00",
         "2678.",
         "16.5",
         "80",
         "US"
        ],
        [
         "Ford Fairmont",
         "26.4",
         "4",
         "140.0",
         "88.00",
         "2870.",
         "18.1",
         "80",
         "US"
        ],
        [
         "AMC Concord",
         "24.3",
         "4",
         "151.0",
         "90.00",
         "3003.",
         "20.1",
         "80",
         "US"
        ],
        [
         "Dodge Aspen",
         "19.1",
         "6",
         "225.0",
         "90.00",
         "3381.",
         "18.7",
         "80",
         "US"
        ],
        [
         "Audi 4000",
         "34.3",
         "4",
         "97.00",
         "78.00",
         "2188.",
         "15.8",
         "80",
         "Europe"
        ],
        [
         "Toyota Corolla Liftback",
         "29.8",
         "4",
         "134.0",
         "90.00",
         "2711.",
         "15.5",
         "80",
         "Japan"
        ],
        [
         "Mazda 626",
         "31.3",
         "4",
         "120.0",
         "75.00",
         "2542.",
         "17.5",
         "80",
         "Japan"
        ],
        [
         "Datsun 510 Hatchback",
         "37.0",
         "4",
         "119.0",
         "92.00",
         "2434.",
         "15.0",
         "80",
         "Japan"
        ],
        [
         "Toyota Corolla",
         "32.2",
         "4",
         "108.0",
         "75.00",
         "2265.",
         "15.2",
         "80",
         "Japan"
        ],
        [
         "Mazda GLC",
         "46.6",
         "4",
         "86.00",
         "65.00",
         "2110.",
         "17.9",
         "80",
         "Japan"
        ],
        [
         "Dodge Colt",
         "27.9",
         "4",
         "156.0",
         "105.0",
         "2800.",
         "14.4",
         "80",
         "US"
        ],
        [
         "Datsun 210",
         "40.8",
         "4",
         "85.00",
         "65.00",
         "2110.",
         "19.2",
         "80",
         "Japan"
        ],
        [
         "Volkswagen Rabbit C (Diesel)",
         "44.3",
         "4",
         "90.00",
         "48.00",
         "2085.",
         "21.7",
         "80",
         "Europe"
        ],
        [
         "Volkswagen Dasher (diesel)",
         "43.4",
         "4",
         "90.00",
         "48.00",
         "2335.",
         "23.7",
         "80",
         "Europe"
        ],
        [
         "Audi 5000s (diesel)",
         "36.4",
         "5",
         "121.0",
         "67.00",
         "2950.",
         "19.9",
         "80",
         "Europe"
        ],
        [
         "Mercedes-Benz 240d",
         "30.0",
         "4",
         "146.0",
         "67.00",
         "3250.",
         "21.8",
         "80",
         "Europe"
        ],
        [
         "Honda Civic 1500 gl",
         "44.6",
         "4",
         "91.00",
         "67.00",
         "1850.",
         "13.8",
         "80",
         "Japan"
        ],
        [
         "Renault Lecar Deluxe",
         "40.9",
         "4",
         "85.00",
         "0",
         "1835.",
         "17.3",
         "80",
         "Europe"
        ],
        [
         "Subaru DL",
         "33.8",
         "4",
         "97.00",
         "67.00",
         "2145.",
         "18.0",
         "80",
         "Japan"
        ],
        [
         "Volkswagen Rabbit",
         "29.8",
         "4",
         "89.00",
         "62.00",
         "1845.",
         "15.3",
         "80",
         "Europe"
        ],
        [
         "Datsun 280-ZX",
         "32.7",
         "6",
         "168.0",
         "132.0",
         "2910.",
         "11.4",
         "80",
         "Japan"
        ],
        [
         "Mazda RX-7 GS",
         "23.7",
         "3",
         "70.00",
         "100.0",
         "2420.",
         "12.5",
         "80",
         "Japan"
        ],
        [
         "Triumph TR7 Coupe",
         "35.0",
         "4",
         "122.0",
         "88.00",
         "2500.",
         "15.1",
         "80",
         "Europe"
        ],
        [
         "Ford Mustang Cobra",
         "23.6",
         "4",
         "140.0",
         "0",
         "2905.",
         "14.3",
         "80",
         "US"
        ],
        [
         "Honda Accord",
         "32.4",
         "4",
         "107.0",
         "72.00",
         "2290.",
         "17.0",
         "80",
         "Japan"
        ],
        [
         "Plymouth Reliant",
         "27.2",
         "4",
         "135.0",
         "84.00",
         "2490.",
         "15.7",
         "81",
         "US"
        ],
        [
         "Buick Skylark",
         "26.6",
         "4",
         "151.0",
         "84.00",
         "2635.",
         "16.4",
         "81",
         "US"
        ],
        [
         "Dodge Aries Wagon (sw)",
         "25.8",
         "4",
         "156.0",
         "92.00",
         "2620.",
         "14.4",
         "81",
         "US"
        ],
        [
         "Chevrolet Citation",
         "23.5",
         "6",
         "173.0",
         "110.0",
         "2725.",
         "12.6",
         "81",
         "US"
        ],
        [
         "Plymouth Reliant",
         "30.0",
         "4",
         "135.0",
         "84.00",
         "2385.",
         "12.9",
         "81",
         "US"
        ],
        [
         "Toyota Starlet",
         "39.1",
         "4",
         "79.00",
         "58.00",
         "1755.",
         "16.9",
         "81",
         "Japan"
        ],
        [
         "Plymouth Champ",
         "39.0",
         "4",
         "86.00",
         "64.00",
         "1875.",
         "16.4",
         "81",
         "US"
        ],
        [
         "Honda Civic 1300",
         "35.1",
         "4",
         "81.00",
         "60.00",
         "1760.",
         "16.1",
         "81",
         "Japan"
        ],
        [
         "Subaru",
         "32.3",
         "4",
         "97.00",
         "67.00",
         "2065.",
         "17.8",
         "81",
         "Japan"
        ],
        [
         "Datsun 210 MPG",
         "37.0",
         "4",
         "85.00",
         "65.00",
         "1975.",
         "19.4",
         "81",
         "Japan"
        ],
        [
         "Toyota Tercel",
         "37.7",
         "4",
         "89.00",
         "62.00",
         "2050.",
         "17.3",
         "81",
         "Japan"
        ],
        [
         "Mazda GLC 4",
         "34.1",
         "4",
         "91.00",
         "68.00",
         "1985.",
         "16.0",
         "81",
         "Japan"
        ],
        [
         "Plymouth Horizon 4",
         "34.7",
         "4",
         "105.0",
         "63.00",
         "2215.",
         "14.9",
         "81",
         "US"
        ],
        [
         "Ford Escort 4W",
         "34.4",
         "4",
         "98.00",
         "65.00",
         "2045.",
         "16.2",
         "81",
         "US"
        ],
        [
         "Ford Escort 2H",
         "29.9",
         "4",
         "98.00",
         "65.00",
         "2380.",
         "20.7",
         "81",
         "US"
        ],
        [
         "Volkswagen Jetta",
         "33.0",
         "4",
         "105.0",
         "74.00",
         "2190.",
         "14.2",
         "81",
         "Europe"
        ],
        [
         "Renault 18i",
         "34.5",
         "4",
         "100.0",
         "0",
         "2320.",
         "15.8",
         "81",
         "Europe"
        ],
        [
         "Honda Prelude",
         "33.7",
         "4",
         "107.0",
         "75.00",
         "2210.",
         "14.4",
         "81",
         "Japan"
        ],
        [
         "Toyota Corolla",
         "32.4",
         "4",
         "108.0",
         "75.00",
         "2350.",
         "16.8",
         "81",
         "Japan"
        ],
        [
         "Datsun 200SX",
         "32.9",
         "4",
         "119.0",
         "100.0",
         "2615.",
         "14.8",
         "81",
         "Japan"
        ],
        [
         "Mazda 626",
         "31.6",
         "4",
         "120.0",
         "74.00",
         "2635.",
         "18.3",
         "81",
         "Japan"
        ],
        [
         "Peugeot 505s Turbo Diesel",
         "28.1",
         "4",
         "141.0",
         "80.00",
         "3230.",
         "20.4",
         "81",
         "Europe"
        ],
        [
         "Saab 900s",
         "0",
         "4",
         "121.0",
         "110.0",
         "2800.",
         "15.4",
         "81",
         "Europe"
        ],
        [
         "Volvo Diesel",
         "30.7",
         "6",
         "145.0",
         "76.00",
         "3160.",
         "19.6",
         "81",
         "Europe"
        ],
        [
         "Toyota Cressida",
         "25.4",
         "6",
         "168.0",
         "116.0",
         "2900.",
         "12.6",
         "81",
         "Japan"
        ],
        [
         "Datsun 810 Maxima",
         "24.2",
         "6",
         "146.0",
         "120.0",
         "2930.",
         "13.8",
         "81",
         "Japan"
        ],
        [
         "Buick Century",
         "22.4",
         "6",
         "231.0",
         "110.0",
         "3415.",
         "15.8",
         "81",
         "US"
        ],
        [
         "Oldsmobile Cutlass LS",
         "26.6",
         "8",
         "350.0",
         "105.0",
         "3725.",
         "19.0",
         "81",
         "US"
        ],
        [
         "Ford Grenada gl",
         "20.2",
         "6",
         "200.0",
         "88.00",
         "3060.",
         "17.1",
         "81",
         "US"
        ],
        [
         "Chrysler Lebaron Salon",
         "17.6",
         "6",
         "225.0",
         "85.00",
         "3465.",
         "16.6",
         "81",
         "US"
        ],
        [
         "Chevrolet Cavalier",
         "28.0",
         "4",
         "112.0",
         "88.00",
         "2605.",
         "19.6",
         "82",
         "US"
        ],
        [
         "Chevrolet Cavalier Wagon",
         "27.0",
         "4",
         "112.0",
         "88.00",
         "2640.",
         "18.6",
         "82",
         "US"
        ],
        [
         "Chevrolet Cavalier 2-door",
         "34.0",
         "4",
         "112.0",
         "88.00",
         "2395.",
         "18.0",
         "82",
         "US"
        ],
        [
         "Pontiac J2000 SE Hatchback",
         "31.0",
         "4",
         "112.0",
         "85.00",
         "2575.",
         "16.2",
         "82",
         "US"
        ],
        [
         "Dodge Aries SE",
         "29.0",
         "4",
         "135.0",
         "84.00",
         "2525.",
         "16.0",
         "82",
         "US"
        ],
        [
         "Pontiac Phoenix",
         "27.0",
         "4",
         "151.0",
         "90.00",
         "2735.",
         "18.0",
         "82",
         "US"
        ],
        [
         "Ford Fairmont Futura",
         "24.0",
         "4",
         "140.0",
         "92.00",
         "2865.",
         "16.4",
         "82",
         "US"
        ],
        [
         "AMC Concord DL",
         "23.0",
         "4",
         "151.0",
         "0",
         "3035.",
         "20.5",
         "82",
         "US"
        ],
        [
         "Volkswagen Rabbit l",
         "36.0",
         "4",
         "105.0",
         "74.00",
         "1980.",
         "15.3",
         "82",
         "Europe"
        ],
        [
         "Mazda GLC Custom l",
         "37.0",
         "4",
         "91.00",
         "68.00",
         "2025.",
         "18.2",
         "82",
         "Japan"
        ],
        [
         "Mazda GLC Custom",
         "31.0",
         "4",
         "91.00",
         "68.00",
         "1970.",
         "17.6",
         "82",
         "Japan"
        ],
        [
         "Plymouth Horizon Miser",
         "38.0",
         "4",
         "105.0",
         "63.00",
         "2125.",
         "14.7",
         "82",
         "US"
        ],
        [
         "Mercury Lynx l",
         "36.0",
         "4",
         "98.00",
         "70.00",
         "2125.",
         "17.3",
         "82",
         "US"
        ],
        [
         "Nissan Stanza XE",
         "36.0",
         "4",
         "120.0",
         "88.00",
         "2160.",
         "14.5",
         "82",
         "Japan"
        ],
        [
         "Honda Accord",
         "36.0",
         "4",
         "107.0",
         "75.00",
         "2205.",
         "14.5",
         "82",
         "Japan"
        ],
        [
         "Toyota Corolla",
         "34.0",
         "4",
         "108.0",
         "70.00",
         "2245",
         "16.9",
         "82",
         "Japan"
        ],
        [
         "Honda Civic",
         "38.0",
         "4",
         "91.00",
         "67.00",
         "1965.",
         "15.0",
         "82",
         "Japan"
        ],
        [
         "Honda Civic (auto)",
         "32.0",
         "4",
         "91.00",
         "67.00",
         "1965.",
         "15.7",
         "82",
         "Japan"
        ],
        [
         "Datsun 310 GX",
         "38.0",
         "4",
         "91.00",
         "67.00",
         "1995.",
         "16.2",
         "82",
         "Japan"
        ],
        [
         "Buick Century Limited",
         "25.0",
         "6",
         "181.0",
         "110.0",
         "2945.",
         "16.4",
         "82",
         "US"
        ],
        [
         "Oldsmobile Cutlass Ciera (diesel)",
         "38.0",
         "6",
         "262.0",
         "85.00",
         "3015.",
         "17.0",
         "82",
         "US"
        ],
        [
         "Chrysler Lebaron Medallion",
         "26.0",
         "4",
         "156.0",
         "92.00",
         "2585.",
         "14.5",
         "82",
         "US"
        ],
        [
         "Ford Grenada l",
         "22.0",
         "6",
         "232.0",
         "112.0",
         "2835",
         "14.7",
         "82",
         "US"
        ],
        [
         "Toyota Celica GT",
         "32.0",
         "4",
         "144.0",
         "96.00",
         "2665.",
         "13.9",
         "82",
         "Japan"
        ],
        [
         "Dodge Charger 2.2",
         "36.0",
         "4",
         "135.0",
         "84.00",
         "2370.",
         "13.0",
         "82",
         "US"
        ],
        [
         "Chevrolet Camaro",
         "27.0",
         "4",
         "151.0",
         "90.00",
         "2950.",
         "17.3",
         "82",
         "US"
        ],
        [
         "Ford Mustang GL",
         "27.0",
         "4",
         "140.0",
         "86.00",
         "2790.",
         "15.6",
         "82",
         "US"
        ],
        [
         "Volkswagen Pickup",
         "44.0",
         "4",
         "97.00",
         "52.00",
         "2130.",
         "24.6",
         "82",
         "Europe"
        ],
        [
         "Dodge Rampage",
         "32.0",
         "4",
         "135.0",
         "84.00",
         "2295.",
         "11.6",
         "82",
         "US"
        ],
        [
         "Ford Ranger",
         "28.0",
         "4",
         "120.0",
         "79.00",
         "2625.",
         "18.6",
         "82",
         "US"
        ],
        [
         "Chevy S-10",
         "31.0",
         "4",
         "119.0",
         "82.00",
         "2720.",
         "19.4",
         "82",
         "US"
        ]
       ],
       "datasetInfos": [],
       "dbfsResultPath": null,
       "isJsonSchema": true,
       "metadata": {},
       "overflow": false,
       "plotOptions": {
        "customPlotOptions": {},
        "displayType": "table",
        "pivotAggregation": null,
        "pivotColumns": null,
        "xColumns": null,
        "yColumns": null
       },
       "removedWidgets": [],
       "schema": [
        {
         "metadata": "{}",
         "name": "Car",
         "type": "\"string\""
        },
        {
         "metadata": "{}",
         "name": "MPG",
         "type": "\"string\""
        },
        {
         "metadata": "{}",
         "name": "Cylinders",
         "type": "\"string\""
        },
        {
         "metadata": "{}",
         "name": "Displacement",
         "type": "\"string\""
        },
        {
         "metadata": "{}",
         "name": "Horsepower",
         "type": "\"string\""
        },
        {
         "metadata": "{}",
         "name": "Weight",
         "type": "\"string\""
        },
        {
         "metadata": "{}",
         "name": "Acceleration",
         "type": "\"string\""
        },
        {
         "metadata": "{}",
         "name": "Model",
         "type": "\"string\""
        },
        {
         "metadata": "{}",
         "name": "Origin",
         "type": "\"string\""
        }
       ],
       "type": "table"
      }
     },
     "output_type": "display_data"
    }
   ],
   "source": [
    "df.display()"
   ]
  },
  {
   "cell_type": "markdown",
   "metadata": {
    "application/vnd.databricks.v1+cell": {
     "cellMetadata": {
      "byteLimit": 2048000,
      "rowLimit": 10000
     },
     "inputWidgets": {},
     "nuid": "454bbaa7-6aa7-4620-8d6e-b5582ff276e0",
     "showTitle": false,
     "tableResultSettingsMap": {},
     "title": ""
    },
    "id": "N0lCS2LNwnoy"
   },
   "source": [
    "The above command loads our data from into a dataframe (DF). A dataframe is a 2-dimensional labeled data structure with columns of potentially different types."
   ]
  },
  {
   "cell_type": "markdown",
   "metadata": {
    "application/vnd.databricks.v1+cell": {
     "cellMetadata": {
      "byteLimit": 2048000,
      "rowLimit": 10000
     },
     "inputWidgets": {},
     "nuid": "c3e2c9c9-e07d-4c1a-8e05-251a2d797c09",
     "showTitle": false,
     "tableResultSettingsMap": {},
     "title": ""
    },
    "id": "_QwZtWxZRCBn"
   },
   "source": [
    "<a id='viewing-the-dataframe'></a>\n",
    "### Viewing the Dataframe"
   ]
  },
  {
   "cell_type": "markdown",
   "metadata": {
    "application/vnd.databricks.v1+cell": {
     "cellMetadata": {
      "byteLimit": 2048000,
      "rowLimit": 10000
     },
     "inputWidgets": {},
     "nuid": "38f0d4f9-17b5-4a60-9e48-918299488303",
     "showTitle": false,
     "tableResultSettingsMap": {},
     "title": ""
    },
    "id": "50LZ3S8_PMg_"
   },
   "source": [
    "There are a couple of ways to view your dataframe(DF) in PySpark:\n",
    "\n",
    "1.   `df.take(5)` will return a list of five Row objects.\n",
    "2.   `df.collect()` will get all of the data from the entire DataFrame. Be really careful when using it, because if you have a large data set, you can easily crash the driver node.\n",
    "3.   `df.show()` is the most commonly used method to view a dataframe. There are a few parameters we can pass to this method, like the number of rows and truncaiton. For example, `df.show(5, False)` or ` df.show(5, truncate=False)` will show the entire data wihtout any truncation.\n",
    "4.   `df.limit(5)` will **return a new DataFrame** by taking the first n rows. As spark is distributed in nature, there is no guarantee that `df.limit()` will give you the same results each time.\n",
    "\n",
    "Let us see some of them in action below:"
   ]
  },
  {
   "cell_type": "code",
   "execution_count": 0,
   "metadata": {
    "application/vnd.databricks.v1+cell": {
     "cellMetadata": {
      "byteLimit": 2048000,
      "rowLimit": 10000
     },
     "inputWidgets": {},
     "nuid": "1af0c7b1-9c3b-49c9-bf75-7f7f49a43460",
     "showTitle": false,
     "tableResultSettingsMap": {},
     "title": ""
    },
    "colab": {
     "base_uri": "https://localhost:8080/"
    },
    "id": "I1qqkqcfxM0v",
    "outputId": "9b8bcb2e-9daa-435b-e804-d9c7f64df202"
   },
   "outputs": [
    {
     "output_type": "display_data",
     "data": {
      "text/plain": [
       ""
      ]
     },
     "metadata": {
      "application/vnd.databricks.v1+output": {
       "addedWidgets": {},
       "arguments": {},
       "datasetInfos": [],
       "jupyterProps": null,
       "metadata": {
        "errorSummary": "Command skipped"
       },
       "removedWidgets": [],
       "sqlProps": null,
       "stackFrames": [],
       "type": "baseError"
      }
     },
     "output_type": "display_data"
    }
   ],
   "source": [
    "df.show(5, truncate=False)"
   ]
  },
  {
   "cell_type": "code",
   "execution_count": 0,
   "metadata": {
    "application/vnd.databricks.v1+cell": {
     "cellMetadata": {
      "byteLimit": 2048000,
      "rowLimit": 10000
     },
     "inputWidgets": {},
     "nuid": "58605a58-0d1a-4d33-a774-25b3ad638445",
     "showTitle": false,
     "tableResultSettingsMap": {},
     "title": ""
    },
    "colab": {
     "base_uri": "https://localhost:8080/",
     "height": 161
    },
    "id": "R9zwzswIxXF9",
    "outputId": "5324cd5b-db94-4bf2-fd8f-a0373aa613f8"
   },
   "outputs": [
    {
     "output_type": "display_data",
     "data": {
      "text/plain": [
       ""
      ]
     },
     "metadata": {
      "application/vnd.databricks.v1+output": {
       "addedWidgets": {},
       "arguments": {},
       "datasetInfos": [],
       "jupyterProps": null,
       "metadata": {
        "errorSummary": "Command skipped"
       },
       "removedWidgets": [],
       "sqlProps": null,
       "stackFrames": [],
       "type": "baseError"
      }
     },
     "output_type": "display_data"
    }
   ],
   "source": [
    "df.limit(5).display()"
   ]
  },
  {
   "cell_type": "markdown",
   "metadata": {
    "application/vnd.databricks.v1+cell": {
     "cellMetadata": {
      "byteLimit": 2048000,
      "rowLimit": 10000
     },
     "inputWidgets": {},
     "nuid": "809b084b-cd6c-495e-b982-f4ef021b7b8a",
     "showTitle": false,
     "tableResultSettingsMap": {},
     "title": ""
    },
    "id": "eUazdCEmu_sp"
   },
   "source": [
    "<a id='viewing-dataframe-columns'></a>\n",
    "### Viewing Dataframe Columns"
   ]
  },
  {
   "cell_type": "code",
   "execution_count": 0,
   "metadata": {
    "application/vnd.databricks.v1+cell": {
     "cellMetadata": {
      "byteLimit": 2048000,
      "rowLimit": 10000
     },
     "inputWidgets": {},
     "nuid": "dffab8b7-6f4e-4c69-9046-d51f2f8fe253",
     "showTitle": false,
     "tableResultSettingsMap": {},
     "title": ""
    },
    "colab": {
     "base_uri": "https://localhost:8080/"
    },
    "id": "9o7jsazcu-13",
    "outputId": "b721350e-a032-441f-c4e8-f35fc32b2764"
   },
   "outputs": [
    {
     "output_type": "display_data",
     "data": {
      "text/plain": [
       ""
      ]
     },
     "metadata": {
      "application/vnd.databricks.v1+output": {
       "addedWidgets": {},
       "arguments": {},
       "datasetInfos": [],
       "jupyterProps": null,
       "metadata": {
        "errorSummary": "Command skipped"
       },
       "removedWidgets": [],
       "sqlProps": null,
       "stackFrames": [],
       "type": "baseError"
      }
     },
     "output_type": "display_data"
    }
   ],
   "source": [
    "df.columns"
   ]
  },
  {
   "cell_type": "markdown",
   "metadata": {
    "application/vnd.databricks.v1+cell": {
     "cellMetadata": {
      "byteLimit": 2048000,
      "rowLimit": 10000
     },
     "inputWidgets": {},
     "nuid": "e2180763-ae4c-427c-804e-1dc62a15cfb5",
     "showTitle": false,
     "tableResultSettingsMap": {},
     "title": ""
    },
    "id": "3lfS2DhHuhPl"
   },
   "source": [
    "<a id='dataframe-schema'></a>\n",
    "### Dataframe Schema"
   ]
  },
  {
   "cell_type": "markdown",
   "metadata": {
    "application/vnd.databricks.v1+cell": {
     "cellMetadata": {
      "byteLimit": 2048000,
      "rowLimit": 10000
     },
     "inputWidgets": {},
     "nuid": "215727bf-cc54-4b07-a82d-8c8869d530ba",
     "showTitle": false,
     "tableResultSettingsMap": {},
     "title": ""
    },
    "id": "-xX7hRoW_cXY"
   },
   "source": [
    "There are two methods commonly used to view the data types of a dataframe:"
   ]
  },
  {
   "cell_type": "code",
   "execution_count": 0,
   "metadata": {
    "application/vnd.databricks.v1+cell": {
     "cellMetadata": {
      "byteLimit": 2048000,
      "rowLimit": 10000
     },
     "inputWidgets": {},
     "nuid": "d83452b3-2e17-47cd-b9ee-4d483a09585d",
     "showTitle": false,
     "tableResultSettingsMap": {},
     "title": ""
    },
    "colab": {
     "base_uri": "https://localhost:8080/"
    },
    "id": "w6qwTjGsNxrw",
    "outputId": "b5481c0e-49ca-4fe6-ef51-1004fbe0fb55"
   },
   "outputs": [
    {
     "output_type": "display_data",
     "data": {
      "text/plain": [
       ""
      ]
     },
     "metadata": {
      "application/vnd.databricks.v1+output": {
       "addedWidgets": {},
       "arguments": {},
       "datasetInfos": [],
       "jupyterProps": null,
       "metadata": {
        "errorSummary": "Command skipped"
       },
       "removedWidgets": [],
       "sqlProps": null,
       "stackFrames": [],
       "type": "baseError"
      }
     },
     "output_type": "display_data"
    }
   ],
   "source": [
    "df.dtypes"
   ]
  },
  {
   "cell_type": "code",
   "execution_count": 0,
   "metadata": {
    "application/vnd.databricks.v1+cell": {
     "cellMetadata": {
      "byteLimit": 2048000,
      "rowLimit": 10000
     },
     "inputWidgets": {},
     "nuid": "b2970f54-ec6a-44c0-89cc-7817e1876db3",
     "showTitle": false,
     "tableResultSettingsMap": {},
     "title": ""
    },
    "colab": {
     "base_uri": "https://localhost:8080/"
    },
    "id": "CCGTFlCWRPw4",
    "outputId": "24efcf8a-4346-48d4-92bd-efb92fea8667"
   },
   "outputs": [
    {
     "output_type": "display_data",
     "data": {
      "text/plain": [
       ""
      ]
     },
     "metadata": {
      "application/vnd.databricks.v1+output": {
       "addedWidgets": {},
       "arguments": {},
       "datasetInfos": [],
       "jupyterProps": null,
       "metadata": {
        "errorSummary": "Command skipped"
       },
       "removedWidgets": [],
       "sqlProps": null,
       "stackFrames": [],
       "type": "baseError"
      }
     },
     "output_type": "display_data"
    }
   ],
   "source": [
    "df.printSchema()"
   ]
  },
  {
   "cell_type": "markdown",
   "metadata": {
    "application/vnd.databricks.v1+cell": {
     "cellMetadata": {
      "byteLimit": 2048000,
      "rowLimit": 10000
     },
     "inputWidgets": {},
     "nuid": "8b9b6722-55ac-4d2e-bfee-3b1f8750a3b3",
     "showTitle": false,
     "tableResultSettingsMap": {},
     "title": ""
    },
    "id": "RXx5ATpZ9oor"
   },
   "source": [
    "<a id='implicit-schema-inference'></a>\n",
    "#### Inferring Schema Implicitly"
   ]
  },
  {
   "cell_type": "markdown",
   "metadata": {
    "application/vnd.databricks.v1+cell": {
     "cellMetadata": {
      "byteLimit": 2048000,
      "rowLimit": 10000
     },
     "inputWidgets": {},
     "nuid": "e21c19b2-efa1-4a98-8359-8ae3d9f69a29",
     "showTitle": false,
     "tableResultSettingsMap": {},
     "title": ""
    },
    "id": "7TeflTUp8l29"
   },
   "source": [
    "We can use the parameter `inferschema=true` to infer the input schema automatically while loading the data. An example is shown below:"
   ]
  },
  {
   "cell_type": "code",
   "execution_count": 0,
   "metadata": {
    "application/vnd.databricks.v1+cell": {
     "cellMetadata": {
      "byteLimit": 2048000,
      "rowLimit": 10000
     },
     "inputWidgets": {},
     "nuid": "071bc275-8ca4-4384-bd79-e2df4f4f8c63",
     "showTitle": false,
     "tableResultSettingsMap": {},
     "title": ""
    },
    "colab": {
     "base_uri": "https://localhost:8080/"
    },
    "id": "Qym5MjCi894N",
    "outputId": "7cac8508-7c0c-4781-f9b8-59fd7ea669e3"
   },
   "outputs": [
    {
     "output_type": "display_data",
     "data": {
      "text/plain": [
       ""
      ]
     },
     "metadata": {
      "application/vnd.databricks.v1+output": {
       "addedWidgets": {},
       "arguments": {},
       "datasetInfos": [],
       "jupyterProps": null,
       "metadata": {
        "errorSummary": "Command skipped"
       },
       "removedWidgets": [],
       "sqlProps": null,
       "stackFrames": [],
       "type": "baseError"
      }
     },
     "output_type": "display_data"
    }
   ],
   "source": [
    "df = spark.read.csv('abfss://training@trainingspark.dfs.core.windows.net/cars', header=True, sep=\";\", inferSchema=True)\n",
    "df.printSchema()"
   ]
  },
  {
   "cell_type": "markdown",
   "metadata": {
    "application/vnd.databricks.v1+cell": {
     "cellMetadata": {
      "byteLimit": 2048000,
      "rowLimit": 10000
     },
     "inputWidgets": {},
     "nuid": "fa2b0f1d-7525-4917-b00f-8545cb8823b3",
     "showTitle": false,
     "tableResultSettingsMap": {},
     "title": ""
    },
    "id": "G6jTedYd-Dhb"
   },
   "source": [
    "As you can see, the datatype has been infered automatically spark with even the correct precison for decimal type. A problem that might arise here is that sometimes, when you have to read multiple files with different schemas in different files, there might be an issue with implicit inferring leading to null values in some columns. Therefore, let us also see how to define schemas explicitly."
   ]
  },
  {
   "cell_type": "markdown",
   "metadata": {
    "application/vnd.databricks.v1+cell": {
     "cellMetadata": {
      "byteLimit": 2048000,
      "rowLimit": 10000
     },
     "inputWidgets": {},
     "nuid": "568052ff-40dc-427a-9cc9-0ba56605c4bc",
     "showTitle": false,
     "tableResultSettingsMap": {},
     "title": ""
    },
    "id": "yTVjYqeRuxWn"
   },
   "source": [
    "<a id='explicit-schema-inference'></a>\n",
    "#### Defining Schema Explicitly"
   ]
  },
  {
   "cell_type": "code",
   "execution_count": 0,
   "metadata": {
    "application/vnd.databricks.v1+cell": {
     "cellMetadata": {
      "byteLimit": 2048000,
      "rowLimit": 10000
     },
     "inputWidgets": {},
     "nuid": "02a86097-b9f7-494c-9417-f65110b43c60",
     "showTitle": false,
     "tableResultSettingsMap": {},
     "title": ""
    },
    "colab": {
     "base_uri": "https://localhost:8080/"
    },
    "id": "xpsaQ4JMRUiS",
    "outputId": "611d3e8a-78b5-4e9d-82f8-c2e56783f4cf"
   },
   "outputs": [
    {
     "output_type": "display_data",
     "data": {
      "text/plain": [
       ""
      ]
     },
     "metadata": {
      "application/vnd.databricks.v1+output": {
       "addedWidgets": {},
       "arguments": {},
       "datasetInfos": [],
       "jupyterProps": null,
       "metadata": {
        "errorSummary": "Command skipped"
       },
       "removedWidgets": [],
       "sqlProps": null,
       "stackFrames": [],
       "type": "baseError"
      }
     },
     "output_type": "display_data"
    }
   ],
   "source": [
    "from pyspark.sql.types import *\n",
    "df.columns"
   ]
  },
  {
   "cell_type": "code",
   "execution_count": 0,
   "metadata": {
    "application/vnd.databricks.v1+cell": {
     "cellMetadata": {
      "byteLimit": 2048000,
      "rowLimit": 10000
     },
     "inputWidgets": {},
     "nuid": "04aaa9aa-6b04-4fa0-aad3-559428b0094f",
     "showTitle": false,
     "tableResultSettingsMap": {},
     "title": ""
    },
    "id": "ik62VX34SlFh"
   },
   "outputs": [
    {
     "output_type": "display_data",
     "data": {
      "text/plain": [
       ""
      ]
     },
     "metadata": {
      "application/vnd.databricks.v1+output": {
       "addedWidgets": {},
       "arguments": {},
       "datasetInfos": [],
       "jupyterProps": null,
       "metadata": {
        "errorSummary": "Command skipped"
       },
       "removedWidgets": [],
       "sqlProps": null,
       "stackFrames": [],
       "type": "baseError"
      }
     },
     "output_type": "display_data"
    }
   ],
   "source": [
    "# Creating a list of the schema in the format column_name, data_type\n",
    "labels = [\n",
    "     ('Car',StringType()),\n",
    "     ('MPG',DoubleType()),\n",
    "     ('Cylinders',IntegerType()),\n",
    "     ('Displacement',DoubleType()),\n",
    "     ('Horsepower',DoubleType()),\n",
    "     ('Weight',DoubleType()),\n",
    "     ('Acceleration',DoubleType()),\n",
    "     ('Model',IntegerType()),\n",
    "     ('Origin',StringType())\n",
    "]"
   ]
  },
  {
   "cell_type": "code",
   "execution_count": 0,
   "metadata": {
    "application/vnd.databricks.v1+cell": {
     "cellMetadata": {
      "byteLimit": 2048000,
      "rowLimit": 10000
     },
     "inputWidgets": {},
     "nuid": "88f6fbfa-2bbd-42e3-921a-9751f64fb18d",
     "showTitle": false,
     "tableResultSettingsMap": {},
     "title": ""
    },
    "colab": {
     "base_uri": "https://localhost:8080/"
    },
    "id": "T-Fp5y_oU9SF",
    "outputId": "4e9ba6e6-c895-4957-84bf-c89fad455b1e"
   },
   "outputs": [
    {
     "output_type": "display_data",
     "data": {
      "text/plain": [
       ""
      ]
     },
     "metadata": {
      "application/vnd.databricks.v1+output": {
       "addedWidgets": {},
       "arguments": {},
       "datasetInfos": [],
       "jupyterProps": null,
       "metadata": {
        "errorSummary": "Command skipped"
       },
       "removedWidgets": [],
       "sqlProps": null,
       "stackFrames": [],
       "type": "baseError"
      }
     },
     "output_type": "display_data"
    }
   ],
   "source": [
    "# Creating the schema that will be passed when reading the csv\n",
    "schema = StructType([StructField (x[0], x[1], True) for x in labels])\n",
    "schema"
   ]
  },
  {
   "cell_type": "code",
   "execution_count": 0,
   "metadata": {
    "application/vnd.databricks.v1+cell": {
     "cellMetadata": {
      "byteLimit": 2048000,
      "rowLimit": 10000
     },
     "inputWidgets": {},
     "nuid": "4b623342-2903-4e5b-9bf5-01a4f07257fa",
     "showTitle": false,
     "tableResultSettingsMap": {},
     "title": ""
    },
    "colab": {
     "base_uri": "https://localhost:8080/"
    },
    "id": "sgC7gtL5VTls",
    "outputId": "3d0d2e1d-5c15-458c-8a5b-710409cc0dc7"
   },
   "outputs": [
    {
     "output_type": "display_data",
     "data": {
      "text/plain": [
       ""
      ]
     },
     "metadata": {
      "application/vnd.databricks.v1+output": {
       "addedWidgets": {},
       "arguments": {},
       "datasetInfos": [],
       "jupyterProps": null,
       "metadata": {
        "errorSummary": "Command skipped"
       },
       "removedWidgets": [],
       "sqlProps": null,
       "stackFrames": [],
       "type": "baseError"
      }
     },
     "output_type": "display_data"
    }
   ],
   "source": [
    "df = spark.read.csv('abfss://training@trainingspark.dfs.core.windows.net/cars', header=True, sep=\";\", schema=schema)\n",
    "df.printSchema()\n",
    "# The schema comes as we gave!"
   ]
  },
  {
   "cell_type": "code",
   "execution_count": 0,
   "metadata": {
    "application/vnd.databricks.v1+cell": {
     "cellMetadata": {
      "byteLimit": 2048000,
      "rowLimit": 10000
     },
     "inputWidgets": {},
     "nuid": "82770290-e193-4a2b-8e4a-2e54e37a8d10",
     "showTitle": false,
     "tableResultSettingsMap": {},
     "title": ""
    },
    "colab": {
     "base_uri": "https://localhost:8080/"
    },
    "id": "Dn2EAhesVmx0",
    "outputId": "6ffa0116-2105-4a7e-cccf-c4545ddba6d0"
   },
   "outputs": [
    {
     "output_type": "display_data",
     "data": {
      "text/plain": [
       ""
      ]
     },
     "metadata": {
      "application/vnd.databricks.v1+output": {
       "addedWidgets": {},
       "arguments": {},
       "datasetInfos": [],
       "jupyterProps": null,
       "metadata": {
        "errorSummary": "Command skipped"
       },
       "removedWidgets": [],
       "sqlProps": null,
       "stackFrames": [],
       "type": "baseError"
      }
     },
     "output_type": "display_data"
    }
   ],
   "source": [
    "df.show(truncate=False)"
   ]
  },
  {
   "cell_type": "markdown",
   "metadata": {
    "application/vnd.databricks.v1+cell": {
     "cellMetadata": {
      "byteLimit": 2048000,
      "rowLimit": 10000
     },
     "inputWidgets": {},
     "nuid": "b2486728-53fa-466e-96ea-2c7c4b9f4daf",
     "showTitle": false,
     "tableResultSettingsMap": {},
     "title": ""
    },
    "id": "MDCO3TEe95OY"
   },
   "source": [
    "As we can see here, the data has been successully loaded with the specified datatypes."
   ]
  },
  {
   "cell_type": "markdown",
   "metadata": {
    "application/vnd.databricks.v1+cell": {
     "cellMetadata": {
      "byteLimit": 2048000,
      "rowLimit": 10000
     },
     "inputWidgets": {},
     "nuid": "8abe48cf-edbd-4532-9ff4-858e34f72248",
     "showTitle": false,
     "tableResultSettingsMap": {},
     "title": ""
    },
    "id": "rsD48rckdHPe"
   },
   "source": [
    "<a id='dataframe-operations-on-columns'></a>\n",
    "## DataFrame Operations on Columns"
   ]
  },
  {
   "cell_type": "markdown",
   "metadata": {
    "application/vnd.databricks.v1+cell": {
     "cellMetadata": {
      "byteLimit": 2048000,
      "rowLimit": 10000
     },
     "inputWidgets": {},
     "nuid": "94b8d290-2614-4969-873d-fa8c4ce620d5",
     "showTitle": false,
     "tableResultSettingsMap": {},
     "title": ""
    },
    "id": "cMlxdWfSY8ks"
   },
   "source": [
    "We will go over the following in this section:\n",
    "\n",
    "1.   Selecting Columns\n",
    "2.   Selecting Multiple Columns\n",
    "3.   Adding New Columns\n",
    "4.   Renaming Columns\n",
    "5.   Grouping By Columns\n",
    "6.   Removing Columns\n",
    "\n"
   ]
  },
  {
   "cell_type": "markdown",
   "metadata": {
    "application/vnd.databricks.v1+cell": {
     "cellMetadata": {
      "byteLimit": 2048000,
      "rowLimit": 10000
     },
     "inputWidgets": {},
     "nuid": "cb958d28-360a-4ad2-b6d6-9a078dfa6e13",
     "showTitle": false,
     "tableResultSettingsMap": {},
     "title": ""
    },
    "id": "ikGR5pDICTu7"
   },
   "source": [
    "<a id='selecting-columns'></a>\n",
    "### Selecting Columns"
   ]
  },
  {
   "cell_type": "markdown",
   "metadata": {
    "application/vnd.databricks.v1+cell": {
     "cellMetadata": {
      "byteLimit": 2048000,
      "rowLimit": 10000
     },
     "inputWidgets": {},
     "nuid": "1186382b-0c44-453d-9284-3060b12e684b",
     "showTitle": false,
     "tableResultSettingsMap": {},
     "title": ""
    },
    "id": "-VMwIwi2rj_o"
   },
   "source": [
    "There are multiple ways to do a select in PySpark. You can find how they differ and how each below:"
   ]
  },
  {
   "cell_type": "code",
   "execution_count": 0,
   "metadata": {
    "application/vnd.databricks.v1+cell": {
     "cellMetadata": {
      "byteLimit": 2048000,
      "rowLimit": 10000
     },
     "inputWidgets": {},
     "nuid": "338c6b8b-b2dc-4d73-93c8-f65f11f23701",
     "showTitle": false,
     "tableResultSettingsMap": {},
     "title": ""
    },
    "colab": {
     "base_uri": "https://localhost:8080/"
    },
    "id": "ge9-_ygideWk",
    "outputId": "72fafecb-8939-4f13-b7cf-2cb6a59153e7"
   },
   "outputs": [
    {
     "output_type": "display_data",
     "data": {
      "text/plain": [
       ""
      ]
     },
     "metadata": {
      "application/vnd.databricks.v1+output": {
       "addedWidgets": {},
       "arguments": {},
       "datasetInfos": [],
       "jupyterProps": null,
       "metadata": {
        "errorSummary": "Command skipped"
       },
       "removedWidgets": [],
       "sqlProps": null,
       "stackFrames": [],
       "type": "baseError"
      }
     },
     "output_type": "display_data"
    }
   ],
   "source": [
    "# 1st method\n",
    "# Column name is case sensitive in this usage\n",
    "print(df.Car)\n",
    "print(\"*\"*20)\n",
    "df.select(df.Car).show(truncate=False)"
   ]
  },
  {
   "cell_type": "markdown",
   "metadata": {
    "application/vnd.databricks.v1+cell": {
     "cellMetadata": {
      "byteLimit": 2048000,
      "rowLimit": 10000
     },
     "inputWidgets": {},
     "nuid": "a21c86cc-4c28-4218-9c44-fd203092a416",
     "showTitle": false,
     "tableResultSettingsMap": {},
     "title": ""
    },
    "id": "YxP1su8veNde"
   },
   "source": [
    "**NOTE:**\n",
    "\n",
    "> **We can't always use the dot notation because this will break when the column names have reserved names or attributes to the data frame class. Additionally, the column names are case sensitive in nature so we need to always make sure the column names have been changed to a paticular case before using it.**\n",
    "\n"
   ]
  },
  {
   "cell_type": "code",
   "execution_count": 0,
   "metadata": {
    "application/vnd.databricks.v1+cell": {
     "cellMetadata": {
      "byteLimit": 2048000,
      "rowLimit": 10000
     },
     "inputWidgets": {},
     "nuid": "f863df1b-60fd-4f6b-8fbb-4d219e556164",
     "showTitle": false,
     "tableResultSettingsMap": {},
     "title": ""
    },
    "colab": {
     "base_uri": "https://localhost:8080/"
    },
    "id": "md5zaET8dsr4",
    "outputId": "13f4f5b8-5401-40f6-ed8f-6423cd966b91"
   },
   "outputs": [
    {
     "output_type": "display_data",
     "data": {
      "text/plain": [
       ""
      ]
     },
     "metadata": {
      "application/vnd.databricks.v1+output": {
       "addedWidgets": {},
       "arguments": {},
       "datasetInfos": [],
       "jupyterProps": null,
       "metadata": {
        "errorSummary": "Command skipped"
       },
       "removedWidgets": [],
       "sqlProps": null,
       "stackFrames": [],
       "type": "baseError"
      }
     },
     "output_type": "display_data"
    }
   ],
   "source": [
    "# 2nd method\n",
    "# Column name is case insensitive here\n",
    "print(df['car'])\n",
    "print(\"*\"*20)\n",
    "df.select(df['car']).show(truncate=False)"
   ]
  },
  {
   "cell_type": "code",
   "execution_count": 0,
   "metadata": {
    "application/vnd.databricks.v1+cell": {
     "cellMetadata": {
      "byteLimit": 2048000,
      "rowLimit": 10000
     },
     "inputWidgets": {},
     "nuid": "15c18997-0da1-48ec-a37a-9a42618c1ffb",
     "showTitle": false,
     "tableResultSettingsMap": {},
     "title": ""
    },
    "colab": {
     "base_uri": "https://localhost:8080/"
    },
    "id": "6Gkf14sHec9a",
    "outputId": "3a4f62d3-7add-41ca-da84-0a7c0884e875"
   },
   "outputs": [
    {
     "output_type": "display_data",
     "data": {
      "text/plain": [
       ""
      ]
     },
     "metadata": {
      "application/vnd.databricks.v1+output": {
       "addedWidgets": {},
       "arguments": {},
       "datasetInfos": [],
       "jupyterProps": null,
       "metadata": {
        "errorSummary": "Command skipped"
       },
       "removedWidgets": [],
       "sqlProps": null,
       "stackFrames": [],
       "type": "baseError"
      }
     },
     "output_type": "display_data"
    }
   ],
   "source": [
    "# 3rd method\n",
    "# Column name is case insensitive here\n",
    "from pyspark.sql.functions import col\n",
    "df.select(col('car')).show(truncate=False)"
   ]
  },
  {
   "cell_type": "markdown",
   "metadata": {
    "application/vnd.databricks.v1+cell": {
     "cellMetadata": {
      "byteLimit": 2048000,
      "rowLimit": 10000
     },
     "inputWidgets": {},
     "nuid": "ed0b59ce-3822-451b-9499-674dc7552132",
     "showTitle": false,
     "tableResultSettingsMap": {},
     "title": ""
    },
    "id": "z6QsMfnNt3qF"
   },
   "source": [
    "<a id='selecting-multiple-columns'></a>\n",
    "### Selecting Multiple Columns"
   ]
  },
  {
   "cell_type": "code",
   "execution_count": 0,
   "metadata": {
    "application/vnd.databricks.v1+cell": {
     "cellMetadata": {
      "byteLimit": 2048000,
      "rowLimit": 10000
     },
     "inputWidgets": {},
     "nuid": "9e7f8458-b788-4852-bac4-a41c7429e748",
     "showTitle": false,
     "tableResultSettingsMap": {},
     "title": ""
    },
    "colab": {
     "base_uri": "https://localhost:8080/"
    },
    "id": "bPjLMhZ6uAQR",
    "outputId": "7123bad5-9b38-49a4-82ce-6f2b828ecb35"
   },
   "outputs": [
    {
     "output_type": "display_data",
     "data": {
      "text/plain": [
       ""
      ]
     },
     "metadata": {
      "application/vnd.databricks.v1+output": {
       "addedWidgets": {},
       "arguments": {},
       "datasetInfos": [],
       "jupyterProps": null,
       "metadata": {
        "errorSummary": "Command skipped"
       },
       "removedWidgets": [],
       "sqlProps": null,
       "stackFrames": [],
       "type": "baseError"
      }
     },
     "output_type": "display_data"
    }
   ],
   "source": [
    "# 1st method\n",
    "# Column name is case sensitive in this usage\n",
    "print(df.Car, df.Cylinders)\n",
    "print(\"*\"*40)\n",
    "df.select(df.Car, df.Cylinders).show(truncate=False)"
   ]
  },
  {
   "cell_type": "code",
   "execution_count": 0,
   "metadata": {
    "application/vnd.databricks.v1+cell": {
     "cellMetadata": {
      "byteLimit": 2048000,
      "rowLimit": 10000
     },
     "inputWidgets": {},
     "nuid": "cf7e1025-9ede-4f8d-8c86-c2fcc89af950",
     "showTitle": false,
     "tableResultSettingsMap": {},
     "title": ""
    },
    "colab": {
     "base_uri": "https://localhost:8080/"
    },
    "id": "DMRMUrv7uHWa",
    "outputId": "d9768906-86f4-4a5f-a1eb-56562c3d3159"
   },
   "outputs": [
    {
     "output_type": "display_data",
     "data": {
      "text/plain": [
       ""
      ]
     },
     "metadata": {
      "application/vnd.databricks.v1+output": {
       "addedWidgets": {},
       "arguments": {},
       "datasetInfos": [],
       "jupyterProps": null,
       "metadata": {
        "errorSummary": "Command skipped"
       },
       "removedWidgets": [],
       "sqlProps": null,
       "stackFrames": [],
       "type": "baseError"
      }
     },
     "output_type": "display_data"
    }
   ],
   "source": [
    "# 2nd method\n",
    "# Column name is case insensitive in this usage\n",
    "print(df['car'],df['cylinders'])\n",
    "print(\"*\"*40)\n",
    "df.select(df['car'],df['cylinders']).show(truncate=False)"
   ]
  },
  {
   "cell_type": "code",
   "execution_count": 0,
   "metadata": {
    "application/vnd.databricks.v1+cell": {
     "cellMetadata": {
      "byteLimit": 2048000,
      "rowLimit": 10000
     },
     "inputWidgets": {},
     "nuid": "003f3d4e-e3a7-493d-9091-a3acb0a0d579",
     "showTitle": false,
     "tableResultSettingsMap": {},
     "title": ""
    },
    "colab": {
     "base_uri": "https://localhost:8080/"
    },
    "id": "RgQ20-4GugjR",
    "outputId": "165d54c0-dc2e-411e-c1ce-78d324d1bf4c"
   },
   "outputs": [
    {
     "output_type": "display_data",
     "data": {
      "text/plain": [
       ""
      ]
     },
     "metadata": {
      "application/vnd.databricks.v1+output": {
       "addedWidgets": {},
       "arguments": {},
       "datasetInfos": [],
       "jupyterProps": null,
       "metadata": {
        "errorSummary": "Command skipped"
       },
       "removedWidgets": [],
       "sqlProps": null,
       "stackFrames": [],
       "type": "baseError"
      }
     },
     "output_type": "display_data"
    }
   ],
   "source": [
    "# 3rd method\n",
    "# Column name is case insensitive in this usage\n",
    "from pyspark.sql.functions import col\n",
    "df.select(col('car'),col('cylinders')).show(truncate=False)"
   ]
  },
  {
   "cell_type": "markdown",
   "metadata": {
    "application/vnd.databricks.v1+cell": {
     "cellMetadata": {
      "byteLimit": 2048000,
      "rowLimit": 10000
     },
     "inputWidgets": {},
     "nuid": "cde8ff82-ea9a-4136-8729-69a44b58683b",
     "showTitle": false,
     "tableResultSettingsMap": {},
     "title": ""
    },
    "id": "85Lv3zSXCcOY"
   },
   "source": [
    "<a id='adding-new-columns'></a>\n",
    "### Adding New Columns"
   ]
  },
  {
   "cell_type": "markdown",
   "metadata": {
    "application/vnd.databricks.v1+cell": {
     "cellMetadata": {
      "byteLimit": 2048000,
      "rowLimit": 10000
     },
     "inputWidgets": {},
     "nuid": "e49d0798-02a5-4a13-a035-68a838e1de45",
     "showTitle": false,
     "tableResultSettingsMap": {},
     "title": ""
    },
    "id": "d_Y7dcAHu-Uz"
   },
   "source": [
    "We will take a look at three cases here:\n",
    "\n",
    "1.   Adding a new column\n",
    "2.   Adding multiple columns\n",
    "3.   Deriving a new column from an exisitng one"
   ]
  },
  {
   "cell_type": "code",
   "execution_count": 0,
   "metadata": {
    "application/vnd.databricks.v1+cell": {
     "cellMetadata": {
      "byteLimit": 2048000,
      "rowLimit": 10000
     },
     "inputWidgets": {},
     "nuid": "c72933ca-3516-49e3-b4a6-0331760c22b1",
     "showTitle": false,
     "tableResultSettingsMap": {},
     "title": ""
    },
    "colab": {
     "base_uri": "https://localhost:8080/"
    },
    "id": "oFHUmRKZeCEV",
    "outputId": "8953cab0-ac6e-41f2-8161-54e1db58a4ad"
   },
   "outputs": [
    {
     "output_type": "display_data",
     "data": {
      "text/plain": [
       ""
      ]
     },
     "metadata": {
      "application/vnd.databricks.v1+output": {
       "addedWidgets": {},
       "arguments": {},
       "datasetInfos": [],
       "jupyterProps": null,
       "metadata": {
        "errorSummary": "Command skipped"
       },
       "removedWidgets": [],
       "sqlProps": null,
       "stackFrames": [],
       "type": "baseError"
      }
     },
     "output_type": "display_data"
    }
   ],
   "source": [
    "# CASE 1: Adding a new column\n",
    "# We will add a new column called 'first_column' at the end\n",
    "from pyspark.sql.functions import lit\n",
    "df = df.withColumn('first_column',lit(1))\n",
    "# lit means literal. It populates the row with the literal value given.\n",
    "# When adding static data / constant values, it is a good practice to use it.\n",
    "df.show(5,truncate=False)"
   ]
  },
  {
   "cell_type": "code",
   "execution_count": 0,
   "metadata": {
    "application/vnd.databricks.v1+cell": {
     "cellMetadata": {
      "byteLimit": 2048000,
      "rowLimit": 10000
     },
     "inputWidgets": {},
     "nuid": "f9e360bf-70e5-4f56-929d-7113378f0070",
     "showTitle": false,
     "tableResultSettingsMap": {},
     "title": ""
    },
    "colab": {
     "base_uri": "https://localhost:8080/"
    },
    "id": "U9772_mHwAqL",
    "outputId": "bae31713-894f-4ba7-c50a-6053a0ce2659"
   },
   "outputs": [
    {
     "output_type": "display_data",
     "data": {
      "text/plain": [
       ""
      ]
     },
     "metadata": {
      "application/vnd.databricks.v1+output": {
       "addedWidgets": {},
       "arguments": {},
       "datasetInfos": [],
       "jupyterProps": null,
       "metadata": {
        "errorSummary": "Command skipped"
       },
       "removedWidgets": [],
       "sqlProps": null,
       "stackFrames": [],
       "type": "baseError"
      }
     },
     "output_type": "display_data"
    }
   ],
   "source": [
    "# CASE 2: Adding multiple columns\n",
    "# We will add two new columns called 'second_column' and 'third_column' at the end\n",
    "df = df.withColumn('second_column', lit(2)) \\\n",
    "       .withColumn('third_column', lit('Third Column'))\n",
    "# lit means literal. It populates the row with the literal value given.\n",
    "# When adding static data / constant values, it is a good practice to use it.\n",
    "df.show(5,truncate=False)"
   ]
  },
  {
   "cell_type": "code",
   "execution_count": 0,
   "metadata": {
    "application/vnd.databricks.v1+cell": {
     "cellMetadata": {
      "byteLimit": 2048000,
      "rowLimit": 10000
     },
     "inputWidgets": {},
     "nuid": "70d3c2ba-318f-4f11-a5bf-b6e84fde9de5",
     "showTitle": false,
     "tableResultSettingsMap": {},
     "title": ""
    },
    "colab": {
     "base_uri": "https://localhost:8080/"
    },
    "id": "dGaQS_pOwx_b",
    "outputId": "ee9f90c9-ee7a-483d-d5b1-4ca48f4e1146"
   },
   "outputs": [
    {
     "output_type": "display_data",
     "data": {
      "text/plain": [
       ""
      ]
     },
     "metadata": {
      "application/vnd.databricks.v1+output": {
       "addedWidgets": {},
       "arguments": {},
       "datasetInfos": [],
       "jupyterProps": null,
       "metadata": {
        "errorSummary": "Command skipped"
       },
       "removedWidgets": [],
       "sqlProps": null,
       "stackFrames": [],
       "type": "baseError"
      }
     },
     "output_type": "display_data"
    }
   ],
   "source": [
    "# CASE 3: Deriving a new column from an exisitng one\n",
    "# We will add a new column called 'car_model' which has the value of car and model appended together with a space in between\n",
    "from pyspark.sql.functions import concat\n",
    "df = df.withColumn('car_model', concat(col(\"Car\"), lit(\" \"), col(\"model\")))\n",
    "# lit means literal. It populates the row with the literal value given.\n",
    "# When adding static data / constant values, it is a good practice to use it.\n",
    "df.show(5,truncate=False)"
   ]
  },
  {
   "cell_type": "markdown",
   "metadata": {
    "application/vnd.databricks.v1+cell": {
     "cellMetadata": {
      "byteLimit": 2048000,
      "rowLimit": 10000
     },
     "inputWidgets": {},
     "nuid": "1d611610-1650-4467-b37c-e1ff9bce27d9",
     "showTitle": false,
     "tableResultSettingsMap": {},
     "title": ""
    },
    "id": "xeHExg-zxf5r"
   },
   "source": [
    "As we can see, the new column car model has been created from existing columns. Since our aim was to create a column which has the value of car and model appended together with a space in between we have used the `concat` operator."
   ]
  },
  {
   "cell_type": "markdown",
   "metadata": {
    "application/vnd.databricks.v1+cell": {
     "cellMetadata": {
      "byteLimit": 2048000,
      "rowLimit": 10000
     },
     "inputWidgets": {},
     "nuid": "abcbca39-5e06-49c4-bb3a-811d1e27f328",
     "showTitle": false,
     "tableResultSettingsMap": {},
     "title": ""
    },
    "id": "QlMf04i2CjDC"
   },
   "source": [
    "<a id='renaming-columns'></a>\n",
    "### Renaming Columns"
   ]
  },
  {
   "cell_type": "markdown",
   "metadata": {
    "application/vnd.databricks.v1+cell": {
     "cellMetadata": {
      "byteLimit": 2048000,
      "rowLimit": 10000
     },
     "inputWidgets": {},
     "nuid": "6440956a-9a83-48bc-a06f-4ad23166adac",
     "showTitle": false,
     "tableResultSettingsMap": {},
     "title": ""
    },
    "id": "CwGKbSHvxxxG"
   },
   "source": [
    "We use the `withColumnRenamed` function to rename a columm in PySpark. Let us see it in action below:"
   ]
  },
  {
   "cell_type": "code",
   "execution_count": 0,
   "metadata": {
    "application/vnd.databricks.v1+cell": {
     "cellMetadata": {
      "byteLimit": 2048000,
      "rowLimit": 10000
     },
     "inputWidgets": {},
     "nuid": "42b61601-281e-44d2-894c-e894ba4b3c74",
     "showTitle": false,
     "tableResultSettingsMap": {},
     "title": ""
    },
    "colab": {
     "base_uri": "https://localhost:8080/"
    },
    "id": "QJqgy6lKfk2o",
    "outputId": "49346429-9987-428a-9374-f90204238645"
   },
   "outputs": [
    {
     "output_type": "display_data",
     "data": {
      "text/plain": [
       ""
      ]
     },
     "metadata": {
      "application/vnd.databricks.v1+output": {
       "addedWidgets": {},
       "arguments": {},
       "datasetInfos": [],
       "jupyterProps": null,
       "metadata": {
        "errorSummary": "Command skipped"
       },
       "removedWidgets": [],
       "sqlProps": null,
       "stackFrames": [],
       "type": "baseError"
      }
     },
     "output_type": "display_data"
    }
   ],
   "source": [
    "#Renaming a column in PySpark\n",
    "df = df.withColumnRenamed('first_column', 'new_column_one') \\\n",
    "       .withColumnRenamed('second_column', 'new_column_two') \\\n",
    "       .withColumnRenamed('third_column', 'new_column_three')\n",
    "df.show(truncate=False)"
   ]
  },
  {
   "cell_type": "markdown",
   "metadata": {
    "application/vnd.databricks.v1+cell": {
     "cellMetadata": {
      "byteLimit": 2048000,
      "rowLimit": 10000
     },
     "inputWidgets": {},
     "nuid": "ce348849-75e0-42ee-9c8d-0c98d343d280",
     "showTitle": false,
     "tableResultSettingsMap": {},
     "title": ""
    },
    "id": "4CDifVC2Cnml"
   },
   "source": [
    "<a id='grouping-by-columns'></a>\n",
    "### Grouping By Columns"
   ]
  },
  {
   "cell_type": "markdown",
   "metadata": {
    "application/vnd.databricks.v1+cell": {
     "cellMetadata": {
      "byteLimit": 2048000,
      "rowLimit": 10000
     },
     "inputWidgets": {},
     "nuid": "0f707439-037c-4cca-9b7a-9e225c7fb71d",
     "showTitle": false,
     "tableResultSettingsMap": {},
     "title": ""
    },
    "id": "9wlB76FdyS0W"
   },
   "source": [
    "Here, we see the Dataframe API way of grouping values. We will discuss how to:\n",
    "\n",
    "\n",
    "1.   Group By a single column\n",
    "2.   Group By multiple columns"
   ]
  },
  {
   "cell_type": "code",
   "execution_count": 0,
   "metadata": {
    "application/vnd.databricks.v1+cell": {
     "cellMetadata": {
      "byteLimit": 2048000,
      "rowLimit": 10000
     },
     "inputWidgets": {},
     "nuid": "e509f5b0-ca68-43fb-8b74-e8182ea87a75",
     "showTitle": false,
     "tableResultSettingsMap": {},
     "title": ""
    },
    "colab": {
     "base_uri": "https://localhost:8080/"
    },
    "id": "M1ek2opVfqea",
    "outputId": "5e32d54b-9daf-4ee6-9e07-120261176bf3"
   },
   "outputs": [
    {
     "output_type": "display_data",
     "data": {
      "text/plain": [
       ""
      ]
     },
     "metadata": {
      "application/vnd.databricks.v1+output": {
       "addedWidgets": {},
       "arguments": {},
       "datasetInfos": [],
       "jupyterProps": null,
       "metadata": {
        "errorSummary": "Command skipped"
       },
       "removedWidgets": [],
       "sqlProps": null,
       "stackFrames": [],
       "type": "baseError"
      }
     },
     "output_type": "display_data"
    }
   ],
   "source": [
    "# Group By a column in PySpark\n",
    "df.groupBy('Origin').count().show(5)"
   ]
  },
  {
   "cell_type": "code",
   "execution_count": 0,
   "metadata": {
    "application/vnd.databricks.v1+cell": {
     "cellMetadata": {
      "byteLimit": 2048000,
      "rowLimit": 10000
     },
     "inputWidgets": {},
     "nuid": "82ec899f-6285-4f41-93ed-660ab75e880b",
     "showTitle": false,
     "tableResultSettingsMap": {},
     "title": ""
    },
    "colab": {
     "base_uri": "https://localhost:8080/"
    },
    "id": "hUh_TWcOysoL",
    "outputId": "b1f8be09-ec3c-45c0-e779-a54d1e33642d"
   },
   "outputs": [
    {
     "output_type": "display_data",
     "data": {
      "text/plain": [
       ""
      ]
     },
     "metadata": {
      "application/vnd.databricks.v1+output": {
       "addedWidgets": {},
       "arguments": {},
       "datasetInfos": [],
       "jupyterProps": null,
       "metadata": {
        "errorSummary": "Command skipped"
       },
       "removedWidgets": [],
       "sqlProps": null,
       "stackFrames": [],
       "type": "baseError"
      }
     },
     "output_type": "display_data"
    }
   ],
   "source": [
    "# Group By multiple columns in PySpark\n",
    "df.groupBy('Origin', 'Model').count().show(5)"
   ]
  },
  {
   "cell_type": "markdown",
   "metadata": {
    "application/vnd.databricks.v1+cell": {
     "cellMetadata": {
      "byteLimit": 2048000,
      "rowLimit": 10000
     },
     "inputWidgets": {},
     "nuid": "ffa6d613-3387-43c3-95b0-21bfbe39193d",
     "showTitle": false,
     "tableResultSettingsMap": {},
     "title": ""
    },
    "id": "CbpEj9fECrW3"
   },
   "source": [
    "<a id='removing-columns'></a>\n",
    "### Removing Columns"
   ]
  },
  {
   "cell_type": "code",
   "execution_count": 0,
   "metadata": {
    "application/vnd.databricks.v1+cell": {
     "cellMetadata": {
      "byteLimit": 2048000,
      "rowLimit": 10000
     },
     "inputWidgets": {},
     "nuid": "861bc339-7e27-4f2c-80d5-6c72629862ab",
     "showTitle": false,
     "tableResultSettingsMap": {},
     "title": ""
    },
    "colab": {
     "base_uri": "https://localhost:8080/"
    },
    "id": "xsb9PXxpfnmh",
    "outputId": "08488742-4484-4d4f-fd1d-fb590acdb72b"
   },
   "outputs": [
    {
     "output_type": "display_data",
     "data": {
      "text/plain": [
       ""
      ]
     },
     "metadata": {
      "application/vnd.databricks.v1+output": {
       "addedWidgets": {},
       "arguments": {},
       "datasetInfos": [],
       "jupyterProps": null,
       "metadata": {
        "errorSummary": "Command skipped"
       },
       "removedWidgets": [],
       "sqlProps": null,
       "stackFrames": [],
       "type": "baseError"
      }
     },
     "output_type": "display_data"
    }
   ],
   "source": [
    "#Remove columns in PySpark\n",
    "df = df.drop('new_column_one')\n",
    "df.show(5,truncate=False)"
   ]
  },
  {
   "cell_type": "code",
   "execution_count": 0,
   "metadata": {
    "application/vnd.databricks.v1+cell": {
     "cellMetadata": {
      "byteLimit": 2048000,
      "rowLimit": 10000
     },
     "inputWidgets": {},
     "nuid": "fd7f0964-0697-46e6-9895-e0fcaceecb42",
     "showTitle": false,
     "tableResultSettingsMap": {},
     "title": ""
    },
    "colab": {
     "base_uri": "https://localhost:8080/"
    },
    "id": "EKOXrXtvzK_0",
    "outputId": "9d125407-5a67-4608-9fc8-8d911c2ebadd"
   },
   "outputs": [
    {
     "output_type": "display_data",
     "data": {
      "text/plain": [
       ""
      ]
     },
     "metadata": {
      "application/vnd.databricks.v1+output": {
       "addedWidgets": {},
       "arguments": {},
       "datasetInfos": [],
       "jupyterProps": null,
       "metadata": {
        "errorSummary": "Command skipped"
       },
       "removedWidgets": [],
       "sqlProps": null,
       "stackFrames": [],
       "type": "baseError"
      }
     },
     "output_type": "display_data"
    }
   ],
   "source": [
    "#Remove multiple columnss in one go\n",
    "df = df.drop('new_column_two') \\\n",
    "       .drop('new_column_three')\n",
    "df.show(5,truncate=False)"
   ]
  },
  {
   "cell_type": "markdown",
   "metadata": {
    "application/vnd.databricks.v1+cell": {
     "cellMetadata": {
      "byteLimit": 2048000,
      "rowLimit": 10000
     },
     "inputWidgets": {},
     "nuid": "9f8f9caf-5261-42a6-8c63-fc4579d9ca04",
     "showTitle": false,
     "tableResultSettingsMap": {},
     "title": ""
    },
    "id": "WbKK5iHwmIoV"
   },
   "source": [
    "<a id='dataframe-operations-on-rows'></a>\n",
    "## DataFrame Operations on Rows"
   ]
  },
  {
   "cell_type": "markdown",
   "metadata": {
    "application/vnd.databricks.v1+cell": {
     "cellMetadata": {
      "byteLimit": 2048000,
      "rowLimit": 10000
     },
     "inputWidgets": {},
     "nuid": "1302442b-e1a1-4d92-b5fb-f7b466a6e1e7",
     "showTitle": false,
     "tableResultSettingsMap": {},
     "title": ""
    },
    "id": "Quwx3KlLzeq9"
   },
   "source": [
    "We will discuss the follwoing in this section:\n",
    "\n",
    "1.   Filtering Rows\n",
    "2. \t Get Distinct Rows\n",
    "3.   Sorting Rows\n",
    "4.   Union Dataframes\n",
    "\n"
   ]
  },
  {
   "cell_type": "markdown",
   "metadata": {
    "application/vnd.databricks.v1+cell": {
     "cellMetadata": {
      "byteLimit": 2048000,
      "rowLimit": 10000
     },
     "inputWidgets": {},
     "nuid": "52bec4b3-5b4b-44df-8211-0dce071b88d9",
     "showTitle": false,
     "tableResultSettingsMap": {},
     "title": ""
    },
    "id": "9bKlvX-SH-Wy"
   },
   "source": [
    "<a id='filtering-rows'></a>\n",
    "### Filtering Rows"
   ]
  },
  {
   "cell_type": "code",
   "execution_count": 0,
   "metadata": {
    "application/vnd.databricks.v1+cell": {
     "cellMetadata": {
      "byteLimit": 2048000,
      "rowLimit": 10000
     },
     "inputWidgets": {},
     "nuid": "ac71ddf8-f855-4e37-8d9f-e9cd5c2e639c",
     "showTitle": false,
     "tableResultSettingsMap": {},
     "title": ""
    },
    "colab": {
     "base_uri": "https://localhost:8080/"
    },
    "id": "YNfcjOIknA3n",
    "outputId": "302ad72f-533f-4e9a-a1de-77289d66832e"
   },
   "outputs": [
    {
     "output_type": "display_data",
     "data": {
      "text/plain": [
       ""
      ]
     },
     "metadata": {
      "application/vnd.databricks.v1+output": {
       "addedWidgets": {},
       "arguments": {},
       "datasetInfos": [],
       "jupyterProps": null,
       "metadata": {
        "errorSummary": "Command skipped"
       },
       "removedWidgets": [],
       "sqlProps": null,
       "stackFrames": [],
       "type": "baseError"
      }
     },
     "output_type": "display_data"
    }
   ],
   "source": [
    "# Filtering rows in PySpark\n",
    "total_count = df.count()\n",
    "print(\"TOTAL RECORD COUNT: \" + str(total_count))\n",
    "europe_filtered_count = df.filter(col('Origin')=='Europe').count()\n",
    "print(\"EUROPE FILTERED RECORD COUNT: \" + str(europe_filtered_count))\n",
    "df.filter(col('Origin')=='Europe').show(truncate=False)"
   ]
  },
  {
   "cell_type": "code",
   "execution_count": 0,
   "metadata": {
    "application/vnd.databricks.v1+cell": {
     "cellMetadata": {
      "byteLimit": 2048000,
      "rowLimit": 10000
     },
     "inputWidgets": {},
     "nuid": "a4501b85-3a32-49bd-a529-c7936f1f87c9",
     "showTitle": false,
     "tableResultSettingsMap": {},
     "title": ""
    },
    "colab": {
     "base_uri": "https://localhost:8080/"
    },
    "id": "MXJxRwBQ1lyd",
    "outputId": "f7c09ef2-f771-4750-ee0e-2e2e70426f12"
   },
   "outputs": [
    {
     "output_type": "display_data",
     "data": {
      "text/plain": [
       ""
      ]
     },
     "metadata": {
      "application/vnd.databricks.v1+output": {
       "addedWidgets": {},
       "arguments": {},
       "datasetInfos": [],
       "jupyterProps": null,
       "metadata": {
        "errorSummary": "Command skipped"
       },
       "removedWidgets": [],
       "sqlProps": null,
       "stackFrames": [],
       "type": "baseError"
      }
     },
     "output_type": "display_data"
    }
   ],
   "source": [
    "# Filtering rows in PySpark based on Multiple conditions\n",
    "total_count = df.count()\n",
    "print(\"TOTAL RECORD COUNT: \" + str(total_count))\n",
    "europe_filtered_count = df.filter((col('Origin')=='Europe') &\n",
    "                                  (col('Cylinders')==4)).count() # Two conditions added here\n",
    "print(\"EUROPE FILTERED RECORD COUNT: \" + str(europe_filtered_count))\n",
    "df.filter(col('Origin')=='Europe').show(truncate=False)"
   ]
  },
  {
   "cell_type": "markdown",
   "metadata": {
    "application/vnd.databricks.v1+cell": {
     "cellMetadata": {
      "byteLimit": 2048000,
      "rowLimit": 10000
     },
     "inputWidgets": {},
     "nuid": "4843b366-2531-411f-bcb5-b296ee1e6002",
     "showTitle": false,
     "tableResultSettingsMap": {},
     "title": ""
    },
    "id": "zLU-a4auIEvh"
   },
   "source": [
    "<a id='get-distinct-rows'></a>\n",
    "### Get Distinct Rows"
   ]
  },
  {
   "cell_type": "code",
   "execution_count": 0,
   "metadata": {
    "application/vnd.databricks.v1+cell": {
     "cellMetadata": {
      "byteLimit": 2048000,
      "rowLimit": 10000
     },
     "inputWidgets": {},
     "nuid": "0bf5347e-fd73-48fc-b175-277ff7db8e30",
     "showTitle": false,
     "tableResultSettingsMap": {},
     "title": ""
    },
    "colab": {
     "base_uri": "https://localhost:8080/"
    },
    "id": "B1RKg1UrmBQz",
    "outputId": "e299b1bc-79fe-4351-b0d8-0b8bbfbf9ce1"
   },
   "outputs": [
    {
     "output_type": "display_data",
     "data": {
      "text/plain": [
       ""
      ]
     },
     "metadata": {
      "application/vnd.databricks.v1+output": {
       "addedWidgets": {},
       "arguments": {},
       "datasetInfos": [],
       "jupyterProps": null,
       "metadata": {
        "errorSummary": "Command skipped"
       },
       "removedWidgets": [],
       "sqlProps": null,
       "stackFrames": [],
       "type": "baseError"
      }
     },
     "output_type": "display_data"
    }
   ],
   "source": [
    "#Get Unique Rows in PySpark\n",
    "df.select('Origin').distinct().show()"
   ]
  },
  {
   "cell_type": "code",
   "execution_count": 0,
   "metadata": {
    "application/vnd.databricks.v1+cell": {
     "cellMetadata": {
      "byteLimit": 2048000,
      "rowLimit": 10000
     },
     "inputWidgets": {},
     "nuid": "ceacb4fe-4382-4fed-86ea-9a5b68e0faf3",
     "showTitle": false,
     "tableResultSettingsMap": {},
     "title": ""
    },
    "colab": {
     "base_uri": "https://localhost:8080/"
    },
    "id": "_LQWXPXt0g0N",
    "outputId": "66d7710c-55a6-41a3-fdb5-773458b8ca25"
   },
   "outputs": [
    {
     "output_type": "display_data",
     "data": {
      "text/plain": [
       ""
      ]
     },
     "metadata": {
      "application/vnd.databricks.v1+output": {
       "addedWidgets": {},
       "arguments": {},
       "datasetInfos": [],
       "jupyterProps": null,
       "metadata": {
        "errorSummary": "Command skipped"
       },
       "removedWidgets": [],
       "sqlProps": null,
       "stackFrames": [],
       "type": "baseError"
      }
     },
     "output_type": "display_data"
    }
   ],
   "source": [
    "#Get Unique Rows in PySpark based on mutliple columns\n",
    "df.select('Origin','model').distinct().show()"
   ]
  },
  {
   "cell_type": "markdown",
   "metadata": {
    "application/vnd.databricks.v1+cell": {
     "cellMetadata": {
      "byteLimit": 2048000,
      "rowLimit": 10000
     },
     "inputWidgets": {},
     "nuid": "7e29d945-bdc7-4b2f-b76b-327b39ba5a1e",
     "showTitle": false,
     "tableResultSettingsMap": {},
     "title": ""
    },
    "id": "-069UYUwIIYI"
   },
   "source": [
    "<a id='sorting-rows'></a>\n",
    "### Sorting Rows"
   ]
  },
  {
   "cell_type": "code",
   "execution_count": 0,
   "metadata": {
    "application/vnd.databricks.v1+cell": {
     "cellMetadata": {
      "byteLimit": 2048000,
      "rowLimit": 10000
     },
     "inputWidgets": {},
     "nuid": "abcfa41f-413c-4913-aed0-272780ab8bf7",
     "showTitle": false,
     "tableResultSettingsMap": {},
     "title": ""
    },
    "colab": {
     "base_uri": "https://localhost:8080/"
    },
    "id": "4ZpeJvz0nkBI",
    "outputId": "3072b4c8-ce61-4df6-8b09-37b037628a44"
   },
   "outputs": [
    {
     "output_type": "display_data",
     "data": {
      "text/plain": [
       ""
      ]
     },
     "metadata": {
      "application/vnd.databricks.v1+output": {
       "addedWidgets": {},
       "arguments": {},
       "datasetInfos": [],
       "jupyterProps": null,
       "metadata": {
        "errorSummary": "Command skipped"
       },
       "removedWidgets": [],
       "sqlProps": null,
       "stackFrames": [],
       "type": "baseError"
      }
     },
     "output_type": "display_data"
    }
   ],
   "source": [
    "# Sort Rows in PySpark\n",
    "# By default the data will be sorted in ascending order\n",
    "df.orderBy('Cylinders').show(truncate=False)"
   ]
  },
  {
   "cell_type": "code",
   "execution_count": 0,
   "metadata": {
    "application/vnd.databricks.v1+cell": {
     "cellMetadata": {
      "byteLimit": 2048000,
      "rowLimit": 10000
     },
     "inputWidgets": {},
     "nuid": "db6a7f5b-87d2-4544-828d-d05e8dd29e69",
     "showTitle": false,
     "tableResultSettingsMap": {},
     "title": ""
    },
    "colab": {
     "base_uri": "https://localhost:8080/"
    },
    "id": "v1CEwofMJV-D",
    "outputId": "f6645ae5-6e64-4ecf-9f0a-42ff46136b27"
   },
   "outputs": [
    {
     "output_type": "display_data",
     "data": {
      "text/plain": [
       ""
      ]
     },
     "metadata": {
      "application/vnd.databricks.v1+output": {
       "addedWidgets": {},
       "arguments": {},
       "datasetInfos": [],
       "jupyterProps": null,
       "metadata": {
        "errorSummary": "Command skipped"
       },
       "removedWidgets": [],
       "sqlProps": null,
       "stackFrames": [],
       "type": "baseError"
      }
     },
     "output_type": "display_data"
    }
   ],
   "source": [
    "# To change the sorting order, you can use the ascending parameter\n",
    "df.orderBy('Cylinders', ascending=False).show(truncate=False)"
   ]
  },
  {
   "cell_type": "code",
   "execution_count": 0,
   "metadata": {
    "application/vnd.databricks.v1+cell": {
     "cellMetadata": {
      "byteLimit": 2048000,
      "rowLimit": 10000
     },
     "inputWidgets": {},
     "nuid": "f114af06-b146-4dbd-84df-75b33c3d7222",
     "showTitle": false,
     "tableResultSettingsMap": {},
     "title": ""
    },
    "colab": {
     "base_uri": "https://localhost:8080/"
    },
    "id": "Zx3W4aeL5A4O",
    "outputId": "64318582-4dc6-4e31-da7f-29fb98806098"
   },
   "outputs": [
    {
     "output_type": "display_data",
     "data": {
      "text/plain": [
       ""
      ]
     },
     "metadata": {
      "application/vnd.databricks.v1+output": {
       "addedWidgets": {},
       "arguments": {},
       "datasetInfos": [],
       "jupyterProps": null,
       "metadata": {
        "errorSummary": "Command skipped"
       },
       "removedWidgets": [],
       "sqlProps": null,
       "stackFrames": [],
       "type": "baseError"
      }
     },
     "output_type": "display_data"
    }
   ],
   "source": [
    "# Using groupBy aand orderBy together\n",
    "df.groupBy(\"Origin\").count().orderBy('count', ascending=False).show(10)"
   ]
  },
  {
   "cell_type": "markdown",
   "metadata": {
    "application/vnd.databricks.v1+cell": {
     "cellMetadata": {
      "byteLimit": 2048000,
      "rowLimit": 10000
     },
     "inputWidgets": {},
     "nuid": "0f5900ce-d4b2-45f1-bdc0-878bc0fe297d",
     "showTitle": false,
     "tableResultSettingsMap": {},
     "title": ""
    },
    "id": "aN0-A_JsIX-X"
   },
   "source": [
    "<a id='union-dataframes'></a>\n",
    "### Union Dataframes"
   ]
  },
  {
   "cell_type": "markdown",
   "metadata": {
    "application/vnd.databricks.v1+cell": {
     "cellMetadata": {
      "byteLimit": 2048000,
      "rowLimit": 10000
     },
     "inputWidgets": {},
     "nuid": "a58ca3fd-b74d-4542-a51e-8a54a4f40448",
     "showTitle": false,
     "tableResultSettingsMap": {},
     "title": ""
    },
    "id": "VH0KOaBrJt6v"
   },
   "source": [
    "You will see three main methods for performing union of dataframes. It is important to know the difference between them and which one is preferred:\n",
    "\n",
    "*   `union()` – It is used to merge two DataFrames of the same structure/schema. If schemas are not the same, it returns an error\n",
    "*   `unionAll()` – This function is deprecated since Spark 2.0.0, and replaced with union()\n",
    "*   `unionByName()` - This function is used to merge two dataframes based on column name.\n",
    "\n",
    "> Since `unionAll()` is deprecated, **`union()` is the preferred method for merging dataframes.**\n",
    "<br>\n",
    "> The difference between `unionByName()` and `union()` is that `unionByName()` resolves columns by name, not by position.\n",
    "\n",
    "In other SQLs, Union eliminates the duplicates but UnionAll merges two datasets, thereby including duplicate records. But, in PySpark, both behave the same and includes duplicate records. The recommendation is to use `distinct()` or `dropDuplicates()` to remove duplicate records."
   ]
  },
  {
   "cell_type": "code",
   "execution_count": 0,
   "metadata": {
    "application/vnd.databricks.v1+cell": {
     "cellMetadata": {
      "byteLimit": 2048000,
      "rowLimit": 10000
     },
     "inputWidgets": {},
     "nuid": "fbc9a081-4496-4c09-ad54-a4ba282dc818",
     "showTitle": false,
     "tableResultSettingsMap": {},
     "title": ""
    },
    "colab": {
     "base_uri": "https://localhost:8080/"
    },
    "id": "bCZIzfYmnx--",
    "outputId": "c149de63-55d1-48a9-be91-0f71c11e715a"
   },
   "outputs": [
    {
     "output_type": "display_data",
     "data": {
      "text/plain": [
       ""
      ]
     },
     "metadata": {
      "application/vnd.databricks.v1+output": {
       "addedWidgets": {},
       "arguments": {},
       "datasetInfos": [],
       "jupyterProps": null,
       "metadata": {
        "errorSummary": "Command skipped"
       },
       "removedWidgets": [],
       "sqlProps": null,
       "stackFrames": [],
       "type": "baseError"
      }
     },
     "output_type": "display_data"
    }
   ],
   "source": [
    "# CASE 1: Union When columns are in order\n",
    "from pyspark.sql.functions import *\n",
    "df = spark.read.csv('abfss://training@trainingspark.dfs.core.windows.net/cars', header=True, sep=\";\", inferSchema=True)\n",
    "europe_cars = df.filter((col('Origin')=='Europe') & (col('Cylinders')==5))\n",
    "japan_cars = df.filter((col('Origin')=='Japan') & (col('Cylinders')==3))\n",
    "print(\"EUROPE CARS: \"+str(europe_cars.count()))\n",
    "print(\"JAPAN CARS: \"+str(japan_cars.count()))\n",
    "print(\"AFTER UNION: \"+str(europe_cars.union(japan_cars).count()))"
   ]
  },
  {
   "cell_type": "markdown",
   "metadata": {
    "application/vnd.databricks.v1+cell": {
     "cellMetadata": {
      "byteLimit": 2048000,
      "rowLimit": 10000
     },
     "inputWidgets": {},
     "nuid": "5d127099-333d-4ddc-8de6-e14ba1d9b957",
     "showTitle": false,
     "tableResultSettingsMap": {},
     "title": ""
    },
    "id": "1pfPzVOFqC_8"
   },
   "source": [
    "**Result:**\n",
    "\n",
    "> As you can see here, there were 3 cars from Europe with 5 Cylinders, and 4 cars from Japan with 3 Cylinders. After union, there are 7 cars in total.\n",
    "\n"
   ]
  },
  {
   "cell_type": "code",
   "execution_count": 0,
   "metadata": {
    "application/vnd.databricks.v1+cell": {
     "cellMetadata": {
      "byteLimit": 2048000,
      "rowLimit": 10000
     },
     "inputWidgets": {},
     "nuid": "cfc1dfea-9505-42e3-9983-5b98c1e2594a",
     "showTitle": false,
     "tableResultSettingsMap": {},
     "title": ""
    },
    "colab": {
     "base_uri": "https://localhost:8080/"
    },
    "id": "CjWjzWBoMxx0",
    "outputId": "d99f4685-ac80-41d4-a893-a83c8ef36189"
   },
   "outputs": [
    {
     "output_type": "display_data",
     "data": {
      "text/plain": [
       ""
      ]
     },
     "metadata": {
      "application/vnd.databricks.v1+output": {
       "addedWidgets": {},
       "arguments": {},
       "datasetInfos": [],
       "jupyterProps": null,
       "metadata": {
        "errorSummary": "Command skipped"
       },
       "removedWidgets": [],
       "sqlProps": null,
       "stackFrames": [],
       "type": "baseError"
      }
     },
     "output_type": "display_data"
    }
   ],
   "source": [
    "# CASE 1: Union When columns are not in order\n",
    "# Creating two dataframes with jumbled columns\n",
    "df1 = spark.createDataFrame([[1, 2, 3]], [\"col0\", \"col1\", \"col2\"])\n",
    "df2 = spark.createDataFrame([[4, 5, 6]], [\"col1\", \"col2\", \"col0\"])\n",
    "df1.unionByName(df2).show()"
   ]
  },
  {
   "cell_type": "markdown",
   "metadata": {
    "application/vnd.databricks.v1+cell": {
     "cellMetadata": {
      "byteLimit": 2048000,
      "rowLimit": 10000
     },
     "inputWidgets": {},
     "nuid": "610565b5-e84c-491e-8197-7fcab859c2b4",
     "showTitle": false,
     "tableResultSettingsMap": {},
     "title": ""
    },
    "id": "EX33t8e3PyGy"
   },
   "source": [
    "**Result:**\n",
    "\n",
    "> As you can see here, the two dataframes have been successfully merged based on their column names.\n",
    "\n"
   ]
  },
  {
   "cell_type": "markdown",
   "metadata": {
    "application/vnd.databricks.v1+cell": {
     "cellMetadata": {
      "byteLimit": 2048000,
      "rowLimit": 10000
     },
     "inputWidgets": {},
     "nuid": "4855e2f9-f4fe-426b-962c-fdf3462324a0",
     "showTitle": false,
     "tableResultSettingsMap": {},
     "title": ""
    },
    "id": "aHjILb1DriuX"
   },
   "source": [
    "<a id='common-data-manipulation-functions'></a>\n",
    "## Common Data Manipulation Functions"
   ]
  },
  {
   "cell_type": "code",
   "execution_count": 0,
   "metadata": {
    "application/vnd.databricks.v1+cell": {
     "cellMetadata": {
      "byteLimit": 2048000,
      "rowLimit": 10000
     },
     "inputWidgets": {},
     "nuid": "42020302-7d32-4333-937f-ee4b1453d602",
     "showTitle": false,
     "tableResultSettingsMap": {},
     "title": ""
    },
    "colab": {
     "base_uri": "https://localhost:8080/"
    },
    "id": "x3vlC7ZerlKb",
    "outputId": "2fc29386-8752-4d70-954e-8e91bf2cd032"
   },
   "outputs": [
    {
     "output_type": "display_data",
     "data": {
      "text/plain": [
       ""
      ]
     },
     "metadata": {
      "application/vnd.databricks.v1+output": {
       "addedWidgets": {},
       "arguments": {},
       "datasetInfos": [],
       "jupyterProps": null,
       "metadata": {
        "errorSummary": "Command skipped"
       },
       "removedWidgets": [],
       "sqlProps": null,
       "stackFrames": [],
       "type": "baseError"
      }
     },
     "output_type": "display_data"
    }
   ],
   "source": [
    "# Functions available in PySpark\n",
    "from pyspark.sql import functions\n",
    "# Similar to python, we can use the dir function to view the avaiable functions\n",
    "print(dir(functions))"
   ]
  },
  {
   "cell_type": "markdown",
   "metadata": {
    "application/vnd.databricks.v1+cell": {
     "cellMetadata": {
      "byteLimit": 2048000,
      "rowLimit": 10000
     },
     "inputWidgets": {},
     "nuid": "0b85f172-14ad-48c7-aa4d-e581eb268393",
     "showTitle": false,
     "tableResultSettingsMap": {},
     "title": ""
    },
    "id": "PIKigra7A34e"
   },
   "source": [
    "<a id='string-functions'></a>\n",
    "### String Functions"
   ]
  },
  {
   "cell_type": "code",
   "execution_count": 0,
   "metadata": {
    "application/vnd.databricks.v1+cell": {
     "cellMetadata": {
      "byteLimit": 2048000,
      "rowLimit": 10000
     },
     "inputWidgets": {},
     "nuid": "6bff651e-1f6b-440a-a3fd-28c2e47aab38",
     "showTitle": false,
     "tableResultSettingsMap": {},
     "title": ""
    },
    "id": "63QDccSjBqC4"
   },
   "outputs": [
    {
     "output_type": "display_data",
     "data": {
      "text/plain": [
       ""
      ]
     },
     "metadata": {
      "application/vnd.databricks.v1+output": {
       "addedWidgets": {},
       "arguments": {},
       "datasetInfos": [],
       "jupyterProps": null,
       "metadata": {
        "errorSummary": "Command skipped"
       },
       "removedWidgets": [],
       "sqlProps": null,
       "stackFrames": [],
       "type": "baseError"
      }
     },
     "output_type": "display_data"
    }
   ],
   "source": [
    "# Loading the data\n",
    "from pyspark.sql.functions import col\n",
    "df = spark.read.csv('abfss://training@trainingspark.dfs.core.windows.net/cars', header=True, sep=\";\", inferSchema=True)"
   ]
  },
  {
   "cell_type": "markdown",
   "metadata": {
    "application/vnd.databricks.v1+cell": {
     "cellMetadata": {
      "byteLimit": 2048000,
      "rowLimit": 10000
     },
     "inputWidgets": {},
     "nuid": "c58c6053-0bed-4653-9387-976339b0d7a7",
     "showTitle": false,
     "tableResultSettingsMap": {},
     "title": ""
    },
    "id": "LiXWN8DUA9x6"
   },
   "source": [
    "**Display the Car column in exisitng, lower and upper characters, and the first 4 characters of the column**"
   ]
  },
  {
   "cell_type": "code",
   "execution_count": 0,
   "metadata": {
    "application/vnd.databricks.v1+cell": {
     "cellMetadata": {
      "byteLimit": 2048000,
      "rowLimit": 10000
     },
     "inputWidgets": {},
     "nuid": "7db62849-dcc0-41dc-b28b-ed7ffe1d51d9",
     "showTitle": false,
     "tableResultSettingsMap": {},
     "title": ""
    },
    "colab": {
     "base_uri": "https://localhost:8080/"
    },
    "id": "52Gh9c99BZFr",
    "outputId": "0396bde4-4e24-406f-db2f-1d60df9bb5bf"
   },
   "outputs": [
    {
     "output_type": "display_data",
     "data": {
      "text/plain": [
       ""
      ]
     },
     "metadata": {
      "application/vnd.databricks.v1+output": {
       "addedWidgets": {},
       "arguments": {},
       "datasetInfos": [],
       "jupyterProps": null,
       "metadata": {
        "errorSummary": "Command skipped"
       },
       "removedWidgets": [],
       "sqlProps": null,
       "stackFrames": [],
       "type": "baseError"
      }
     },
     "output_type": "display_data"
    }
   ],
   "source": [
    "from pyspark.sql.functions import col,lower, upper, substring\n",
    "# Prints out the details of a function\n",
    "help(substring)\n",
    "# alias is used to rename the column name in the output\n",
    "df.select(col('Car'),lower(col('Car')),upper(col('Car')),substring(col('Car'),1,4).alias(\"concatenated value\")).show(5, False)"
   ]
  },
  {
   "cell_type": "markdown",
   "metadata": {
    "application/vnd.databricks.v1+cell": {
     "cellMetadata": {
      "byteLimit": 2048000,
      "rowLimit": 10000
     },
     "inputWidgets": {},
     "nuid": "e32360b3-7a00-44fc-a601-d8a98e5a2dbe",
     "showTitle": false,
     "tableResultSettingsMap": {},
     "title": ""
    },
    "id": "GZJFdTbk6rBt"
   },
   "source": [
    "**Concatenate the Car column and Model column and add a space between them.**"
   ]
  },
  {
   "cell_type": "code",
   "execution_count": 0,
   "metadata": {
    "application/vnd.databricks.v1+cell": {
     "cellMetadata": {
      "byteLimit": 2048000,
      "rowLimit": 10000
     },
     "inputWidgets": {},
     "nuid": "07f4fba8-feab-4c98-9173-d03ff3eebf8e",
     "showTitle": false,
     "tableResultSettingsMap": {},
     "title": ""
    },
    "colab": {
     "base_uri": "https://localhost:8080/"
    },
    "id": "8Lo951Cg6phi",
    "outputId": "04ea1d37-3b83-46fc-9300-f020a0e77094"
   },
   "outputs": [
    {
     "output_type": "display_data",
     "data": {
      "text/plain": [
       ""
      ]
     },
     "metadata": {
      "application/vnd.databricks.v1+output": {
       "addedWidgets": {},
       "arguments": {},
       "datasetInfos": [],
       "jupyterProps": null,
       "metadata": {
        "errorSummary": "Command skipped"
       },
       "removedWidgets": [],
       "sqlProps": null,
       "stackFrames": [],
       "type": "baseError"
      }
     },
     "output_type": "display_data"
    }
   ],
   "source": [
    "from pyspark.sql.functions import concat\n",
    "df.select(col(\"Car\"),col(\"model\"),concat(col(\"Car\"), lit(\" \"), col(\"model\"))).show(5, False)"
   ]
  },
  {
   "cell_type": "markdown",
   "metadata": {
    "application/vnd.databricks.v1+cell": {
     "cellMetadata": {
      "byteLimit": 2048000,
      "rowLimit": 10000
     },
     "inputWidgets": {},
     "nuid": "2fedd54b-687c-4307-aaa2-26021364bbc5",
     "showTitle": false,
     "tableResultSettingsMap": {},
     "title": ""
    },
    "id": "ldtA0wk9BMkT"
   },
   "source": [
    "<a id='numeric-functions'></a>\n",
    "### Numeric functions"
   ]
  },
  {
   "cell_type": "markdown",
   "metadata": {
    "application/vnd.databricks.v1+cell": {
     "cellMetadata": {
      "byteLimit": 2048000,
      "rowLimit": 10000
     },
     "inputWidgets": {},
     "nuid": "9c2cf9e9-8a92-4333-b969-7e68b3f0e2df",
     "showTitle": false,
     "tableResultSettingsMap": {},
     "title": ""
    },
    "id": "kmz4G5LVBOs6"
   },
   "source": [
    "**Show the oldest date and the most recent date**"
   ]
  },
  {
   "cell_type": "code",
   "execution_count": 0,
   "metadata": {
    "application/vnd.databricks.v1+cell": {
     "cellMetadata": {
      "byteLimit": 2048000,
      "rowLimit": 10000
     },
     "inputWidgets": {},
     "nuid": "075d278f-82a7-4cf9-af1e-0833ecb450bd",
     "showTitle": false,
     "tableResultSettingsMap": {},
     "title": ""
    },
    "colab": {
     "base_uri": "https://localhost:8080/"
    },
    "id": "wBDDH-YpBbdk",
    "outputId": "2f9b8fc4-e53f-42be-d23a-3e2962ee3d25"
   },
   "outputs": [
    {
     "output_type": "display_data",
     "data": {
      "text/plain": [
       ""
      ]
     },
     "metadata": {
      "application/vnd.databricks.v1+output": {
       "addedWidgets": {},
       "arguments": {},
       "datasetInfos": [],
       "jupyterProps": null,
       "metadata": {
        "errorSummary": "Command skipped"
       },
       "removedWidgets": [],
       "sqlProps": null,
       "stackFrames": [],
       "type": "baseError"
      }
     },
     "output_type": "display_data"
    }
   ],
   "source": [
    "from pyspark.sql.functions import min, max\n",
    "df.select(min(col('Weight')), max(col('Weight'))).show()"
   ]
  },
  {
   "cell_type": "markdown",
   "metadata": {
    "application/vnd.databricks.v1+cell": {
     "cellMetadata": {
      "byteLimit": 2048000,
      "rowLimit": 10000
     },
     "inputWidgets": {},
     "nuid": "327e9665-2f8e-4fb6-b664-9687ebebe838",
     "showTitle": false,
     "tableResultSettingsMap": {},
     "title": ""
    },
    "id": "MTg-Royz7Nvi"
   },
   "source": [
    "**Add 10 to the minimum and maximum weight**"
   ]
  },
  {
   "cell_type": "code",
   "execution_count": 0,
   "metadata": {
    "application/vnd.databricks.v1+cell": {
     "cellMetadata": {
      "byteLimit": 2048000,
      "rowLimit": 10000
     },
     "inputWidgets": {},
     "nuid": "7e88a362-479e-4a67-92ee-98616eed8e4d",
     "showTitle": false,
     "tableResultSettingsMap": {},
     "title": ""
    },
    "colab": {
     "base_uri": "https://localhost:8080/"
    },
    "id": "YeiemMsI7Vm2",
    "outputId": "acf4c3a4-6a20-4523-d410-16b163deff65"
   },
   "outputs": [
    {
     "output_type": "display_data",
     "data": {
      "text/plain": [
       ""
      ]
     },
     "metadata": {
      "application/vnd.databricks.v1+output": {
       "addedWidgets": {},
       "arguments": {},
       "datasetInfos": [],
       "jupyterProps": null,
       "metadata": {
        "errorSummary": "Command skipped"
       },
       "removedWidgets": [],
       "sqlProps": null,
       "stackFrames": [],
       "type": "baseError"
      }
     },
     "output_type": "display_data"
    }
   ],
   "source": [
    "from pyspark.sql.functions import min, max, lit\n",
    "df.select(min(col('Weight'))+lit(10), max(col('Weight')+lit(10))).show()"
   ]
  },
  {
   "cell_type": "markdown",
   "metadata": {
    "application/vnd.databricks.v1+cell": {
     "cellMetadata": {
      "byteLimit": 2048000,
      "rowLimit": 10000
     },
     "inputWidgets": {},
     "nuid": "423342a7-d84c-4242-a431-e5142d9b8da5",
     "showTitle": false,
     "tableResultSettingsMap": {},
     "title": ""
    },
    "id": "KQ6Ul9HGCwC3"
   },
   "source": [
    "<a id='operations-on-date'></a>\n",
    "### Operations on Date"
   ]
  },
  {
   "cell_type": "markdown",
   "metadata": {
    "application/vnd.databricks.v1+cell": {
     "cellMetadata": {
      "byteLimit": 2048000,
      "rowLimit": 10000
     },
     "inputWidgets": {},
     "nuid": "5c764fe6-b191-4345-9aa6-7646da9d6235",
     "showTitle": false,
     "tableResultSettingsMap": {},
     "title": ""
    },
    "id": "s1jmBN2qFHyk"
   },
   "source": [
    "> [PySpark follows SimpleDateFormat table of Java. Click here to view the docs.](https://docs.oracle.com/javase/7/docs/api/java/text/SimpleDateFormat.html)"
   ]
  },
  {
   "cell_type": "code",
   "execution_count": 0,
   "metadata": {
    "application/vnd.databricks.v1+cell": {
     "cellMetadata": {
      "byteLimit": 2048000,
      "rowLimit": 10000
     },
     "inputWidgets": {},
     "nuid": "a31cc0b5-e4c1-4456-a4c7-1eeeb8019be8",
     "showTitle": false,
     "tableResultSettingsMap": {},
     "title": ""
    },
    "colab": {
     "base_uri": "https://localhost:8080/"
    },
    "id": "sCTeI_JvDCsH",
    "outputId": "1132e720-8aa9-4950-e14e-e41fdf055fb7"
   },
   "outputs": [
    {
     "output_type": "display_data",
     "data": {
      "text/plain": [
       ""
      ]
     },
     "metadata": {
      "application/vnd.databricks.v1+output": {
       "addedWidgets": {},
       "arguments": {},
       "datasetInfos": [],
       "jupyterProps": null,
       "metadata": {
        "errorSummary": "Command skipped"
       },
       "removedWidgets": [],
       "sqlProps": null,
       "stackFrames": [],
       "type": "baseError"
      }
     },
     "output_type": "display_data"
    }
   ],
   "source": [
    "from pyspark.sql.functions import to_date, to_timestamp, lit\n",
    "df = spark.createDataFrame([('2019-12-25 13:30:00',)], ['DOB'])\n",
    "df.show()\n",
    "df.printSchema()"
   ]
  },
  {
   "cell_type": "code",
   "execution_count": 0,
   "metadata": {
    "application/vnd.databricks.v1+cell": {
     "cellMetadata": {
      "byteLimit": 2048000,
      "rowLimit": 10000
     },
     "inputWidgets": {},
     "nuid": "7f829281-313b-47e6-abd9-49fa92e42882",
     "showTitle": false,
     "tableResultSettingsMap": {},
     "title": ""
    },
    "colab": {
     "base_uri": "https://localhost:8080/"
    },
    "id": "ZH8ja1eHEW8x",
    "outputId": "1a039fcf-af05-48aa-a51f-6739acb1084d"
   },
   "outputs": [
    {
     "output_type": "display_data",
     "data": {
      "text/plain": [
       ""
      ]
     },
     "metadata": {
      "application/vnd.databricks.v1+output": {
       "addedWidgets": {},
       "arguments": {},
       "datasetInfos": [],
       "jupyterProps": null,
       "metadata": {
        "errorSummary": "Command skipped"
       },
       "removedWidgets": [],
       "sqlProps": null,
       "stackFrames": [],
       "type": "baseError"
      }
     },
     "output_type": "display_data"
    }
   ],
   "source": [
    "df = spark.createDataFrame([('2019-12-25 13:30:00',)], ['DOB'])\n",
    "df = df.select(to_date(col('DOB'),'yyyy-MM-dd HH:mm:ss'), to_timestamp(col('DOB'),'yyyy-MM-dd HH:mm:ss'))\n",
    "df.show()\n",
    "df.printSchema()"
   ]
  },
  {
   "cell_type": "code",
   "execution_count": 0,
   "metadata": {
    "application/vnd.databricks.v1+cell": {
     "cellMetadata": {
      "byteLimit": 2048000,
      "rowLimit": 10000
     },
     "inputWidgets": {},
     "nuid": "75d4606d-b4de-4609-aa09-91fd03a73cb0",
     "showTitle": false,
     "tableResultSettingsMap": {},
     "title": ""
    },
    "colab": {
     "base_uri": "https://localhost:8080/"
    },
    "id": "7g9m_8PPErI1",
    "outputId": "70f7b6e6-0ab1-4108-a1cc-dc8bf3c4b6fe"
   },
   "outputs": [
    {
     "output_type": "display_data",
     "data": {
      "text/plain": [
       ""
      ]
     },
     "metadata": {
      "application/vnd.databricks.v1+output": {
       "addedWidgets": {},
       "arguments": {},
       "datasetInfos": [],
       "jupyterProps": null,
       "metadata": {
        "errorSummary": "Command skipped"
       },
       "removedWidgets": [],
       "sqlProps": null,
       "stackFrames": [],
       "type": "baseError"
      }
     },
     "output_type": "display_data"
    }
   ],
   "source": [
    "df = spark.createDataFrame([('25/Dec/2019 13:30:00',)], ['DOB'])\n",
    "df = df.select(to_date(col('DOB'),'dd/MMM/yyyy HH:mm:ss'), to_timestamp(col('DOB'),'dd/MMM/yyyy HH:mm:ss'))\n",
    "df.show()\n",
    "df.printSchema()"
   ]
  },
  {
   "cell_type": "markdown",
   "metadata": {
    "application/vnd.databricks.v1+cell": {
     "cellMetadata": {
      "byteLimit": 2048000,
      "rowLimit": 10000
     },
     "inputWidgets": {},
     "nuid": "3e2277f7-c17b-4540-b453-2c98874111b4",
     "showTitle": false,
     "tableResultSettingsMap": {},
     "title": ""
    },
    "id": "dIPQyQV7-Hz5"
   },
   "source": [
    "**What is 3 days earlier that the oldest date and 3 days later than the most recent date?**"
   ]
  },
  {
   "cell_type": "code",
   "execution_count": 0,
   "metadata": {
    "application/vnd.databricks.v1+cell": {
     "cellMetadata": {
      "byteLimit": 2048000,
      "rowLimit": 10000
     },
     "inputWidgets": {},
     "nuid": "a9640ca2-eb72-4cc2-9fe3-86a50264e7cd",
     "showTitle": false,
     "tableResultSettingsMap": {},
     "title": ""
    },
    "colab": {
     "base_uri": "https://localhost:8080/"
    },
    "id": "PUCEwQkZ-I7h",
    "outputId": "a7ddedfd-6f4f-4d83-e920-1f416d6dbc00"
   },
   "outputs": [
    {
     "output_type": "display_data",
     "data": {
      "text/plain": [
       ""
      ]
     },
     "metadata": {
      "application/vnd.databricks.v1+output": {
       "addedWidgets": {},
       "arguments": {},
       "datasetInfos": [],
       "jupyterProps": null,
       "metadata": {
        "errorSummary": "Command skipped"
       },
       "removedWidgets": [],
       "sqlProps": null,
       "stackFrames": [],
       "type": "baseError"
      }
     },
     "output_type": "display_data"
    }
   ],
   "source": [
    "from pyspark.sql.functions import date_add, date_sub\n",
    "# create a dummy dataframe\n",
    "df = spark.createDataFrame([('1990-01-01',),('1995-01-03',),('2021-03-30',)], ['Date'])\n",
    "# find out the required dates\n",
    "df.select(date_add(max(col('Date')),3), date_sub(min(col('Date')),3)).show()"
   ]
  },
  {
   "cell_type": "markdown",
   "metadata": {
    "application/vnd.databricks.v1+cell": {
     "cellMetadata": {
      "byteLimit": 2048000,
      "rowLimit": 10000
     },
     "inputWidgets": {},
     "nuid": "4fc80f82-f612-453d-bcb8-e9ffe1fe9803",
     "showTitle": false,
     "tableResultSettingsMap": {},
     "title": ""
    },
    "id": "7OZElEvcGOD1"
   },
   "source": [
    "<a id='joins-in-pyspark'></a>\n",
    "## Joins in PySpark"
   ]
  },
  {
   "cell_type": "code",
   "execution_count": 0,
   "metadata": {
    "application/vnd.databricks.v1+cell": {
     "cellMetadata": {
      "byteLimit": 2048000,
      "rowLimit": 10000
     },
     "inputWidgets": {},
     "nuid": "9c836e6f-2c00-4faa-8787-12720259a2df",
     "showTitle": false,
     "tableResultSettingsMap": {},
     "title": ""
    },
    "colab": {
     "base_uri": "https://localhost:8080/"
    },
    "id": "UJBC7r3JFyCL",
    "outputId": "4041532b-368a-418d-be6c-2831243a9a7e"
   },
   "outputs": [
    {
     "output_type": "display_data",
     "data": {
      "text/plain": [
       ""
      ]
     },
     "metadata": {
      "application/vnd.databricks.v1+output": {
       "addedWidgets": {},
       "arguments": {},
       "datasetInfos": [],
       "jupyterProps": null,
       "metadata": {
        "errorSummary": "Command skipped"
       },
       "removedWidgets": [],
       "sqlProps": null,
       "stackFrames": [],
       "type": "baseError"
      }
     },
     "output_type": "display_data"
    }
   ],
   "source": [
    "# Create two dataframes\n",
    "cars_df = spark.createDataFrame([[1, 'Car A'],[2, 'Car B'],[3, 'Car C']], [\"id\", \"car_name\"])\n",
    "car_price_df = spark.createDataFrame([[1, 1000],[2, 2000],[3, 3000]], [\"id\", \"car_price\"])\n",
    "cars_df.show()\n",
    "car_price_df.show()"
   ]
  },
  {
   "cell_type": "code",
   "execution_count": 0,
   "metadata": {
    "application/vnd.databricks.v1+cell": {
     "cellMetadata": {
      "byteLimit": 2048000,
      "rowLimit": 10000
     },
     "inputWidgets": {},
     "nuid": "79817239-316d-4caa-8369-3fdff311a79a",
     "showTitle": false,
     "tableResultSettingsMap": {},
     "title": ""
    },
    "colab": {
     "base_uri": "https://localhost:8080/"
    },
    "id": "U7Py4EYyKJTN",
    "outputId": "f673225d-729e-4c12-ccf4-62e691041f9c"
   },
   "outputs": [
    {
     "output_type": "display_data",
     "data": {
      "text/plain": [
       ""
      ]
     },
     "metadata": {
      "application/vnd.databricks.v1+output": {
       "addedWidgets": {},
       "arguments": {},
       "datasetInfos": [],
       "jupyterProps": null,
       "metadata": {
        "errorSummary": "Command skipped"
       },
       "removedWidgets": [],
       "sqlProps": null,
       "stackFrames": [],
       "type": "baseError"
      }
     },
     "output_type": "display_data"
    }
   ],
   "source": [
    "# Executing an inner join so we can see the id, name and price of each car in one row\n",
    "cars_df.join(car_price_df, cars_df.id == car_price_df.id, 'inner').select(cars_df['id'],cars_df['car_name'],car_price_df['car_price']).show(truncate=False)"
   ]
  },
  {
   "cell_type": "markdown",
   "metadata": {
    "application/vnd.databricks.v1+cell": {
     "cellMetadata": {
      "byteLimit": 2048000,
      "rowLimit": 10000
     },
     "inputWidgets": {},
     "nuid": "b5b550bd-8fa7-4fd8-a8f2-e6d03aa23ce7",
     "showTitle": false,
     "tableResultSettingsMap": {},
     "title": ""
    },
    "id": "vj0mPaHU5i5n"
   },
   "source": [
    "As you can see, we have done an inner join between two dataframes. The following joins are supported by PySpark:\n",
    "1. inner (default)\n",
    "2. cross\n",
    "3. outer\n",
    "4. full\n",
    "5. full_outer\n",
    "6. left\n",
    "7. left_outer\n",
    "8. right\n",
    "9. right_outer\n",
    "10. left_semi\n",
    "11. left_anti"
   ]
  },
  {
   "cell_type": "markdown",
   "metadata": {
    "application/vnd.databricks.v1+cell": {
     "cellMetadata": {
      "byteLimit": 2048000,
      "rowLimit": 10000
     },
     "inputWidgets": {},
     "nuid": "af3c4308-b6cb-4ba7-8ba8-a43db4bb6109",
     "showTitle": false,
     "tableResultSettingsMap": {},
     "title": ""
    },
    "id": "HNPhsx8P2tUH"
   },
   "source": [
    "<a id='spark-sql'></a>\n",
    "## Spark SQL"
   ]
  },
  {
   "cell_type": "markdown",
   "metadata": {
    "application/vnd.databricks.v1+cell": {
     "cellMetadata": {
      "byteLimit": 2048000,
      "rowLimit": 10000
     },
     "inputWidgets": {},
     "nuid": "9c0c04f9-bb1b-4347-b8f8-41fcbf32aab5",
     "showTitle": false,
     "tableResultSettingsMap": {},
     "title": ""
    },
    "id": "rHMvBBAh23cw"
   },
   "source": [
    "SQL has been around since the 1970s, and so one can imagine the number of people who made it their bread and butter. As big data came into popularity, the number of professionals with the technical knowledge to deal with it was in shortage. This led to the creation of Spark SQL. To quote the docs:<br>\n",
    ">Spark SQL is a Spark module for structured data processing. Unlike the basic Spark RDD API, the interfaces provided by Spark SQL provide Spark with more information about the structure of both the data and the computation being performed. Internally, Spark SQL uses this extra information to perform extra optimizations.\n",
    "\n",
    "Basically, what you need to know is that Spark SQL is used to execute SQL queries on big data. Spark SQL can also be used to read data from Hive tables and views. Let me explain Spark SQL with an example.\n"
   ]
  },
  {
   "cell_type": "code",
   "execution_count": 0,
   "metadata": {
    "application/vnd.databricks.v1+cell": {
     "cellMetadata": {
      "byteLimit": 2048000,
      "rowLimit": 10000
     },
     "inputWidgets": {},
     "nuid": "53a02b06-3d5c-4f90-bcb1-aefcecfe22e5",
     "showTitle": false,
     "tableResultSettingsMap": {},
     "title": ""
    },
    "colab": {
     "base_uri": "https://localhost:8080/"
    },
    "id": "g2DaK9-D7QkX",
    "outputId": "5365e62c-b15a-429e-e8dd-cd66e862937b"
   },
   "outputs": [
    {
     "output_type": "display_data",
     "data": {
      "text/plain": [
       ""
      ]
     },
     "metadata": {
      "application/vnd.databricks.v1+output": {
       "addedWidgets": {},
       "arguments": {},
       "datasetInfos": [],
       "jupyterProps": null,
       "metadata": {
        "errorSummary": "Command skipped"
       },
       "removedWidgets": [],
       "sqlProps": null,
       "stackFrames": [],
       "type": "baseError"
      }
     },
     "output_type": "display_data"
    }
   ],
   "source": [
    "# Load data\n",
    "df = spark.read.csv('abfss://training@trainingspark.dfs.core.windows.net/cars', header=True, sep=\";\")\n",
    "# Register Temporary Table\n",
    "df.createOrReplaceTempView(\"temp\")\n",
    "# Select all data from temp table\n",
    "spark.sql(\"select * from temp limit 5\").show()\n",
    "# Select count of data in table\n",
    "spark.sql(\"select count(*) as total_count from temp\").show()"
   ]
  },
  {
   "cell_type": "markdown",
   "metadata": {
    "application/vnd.databricks.v1+cell": {
     "cellMetadata": {
      "byteLimit": 2048000,
      "rowLimit": 10000
     },
     "inputWidgets": {},
     "nuid": "334e2a75-7a7e-4570-8ad0-9662457776a1",
     "showTitle": false,
     "tableResultSettingsMap": {},
     "title": ""
    },
    "id": "6i32WE8j_ec8"
   },
   "source": [
    "As you can see, we registered the dataframe as temporary table and then ran basic SQL queries on it. How amazing is that?!<br>\n",
    "If you are a person who is more comfortable with SQL, then this feature is truly a blessing for you! But this raises a question:\n",
    "> *Should I just keep using Spark SQL all the time?*\n",
    "\n",
    "And the answer is, _**it depends**_.<br>\n",
    "So basically, the different functions acts in differnet ways, and depending upon the type of action you are trying to do, the speed at which it completes execution also differs. But as time progress, this feature is getting better and better, so hopefully the difference should be a small margin. There are plenty of analysis done on this, but nothing has a definite answer yet. You can read this [comparative study done by horton works](https://community.cloudera.com/t5/Community-Articles/Spark-RDDs-vs-DataFrames-vs-SparkSQL/ta-p/246547) or the answer to this [stackoverflow question](https://stackoverflow.com/questions/45430816/writing-sql-vs-using-dataframe-apis-in-spark-sql) if you are still curious about it."
   ]
  },
  {
   "cell_type": "markdown",
   "metadata": {
    "application/vnd.databricks.v1+cell": {
     "cellMetadata": {
      "byteLimit": 2048000,
      "rowLimit": 10000
     },
     "inputWidgets": {},
     "nuid": "26509899-a6bc-431b-81be-110b268a3a9e",
     "showTitle": false,
     "tableResultSettingsMap": {},
     "title": ""
    },
    "id": "x62BiCgBMOtq"
   },
   "source": [
    "<a id='rdd'></a>\n",
    "## RDD"
   ]
  },
  {
   "cell_type": "markdown",
   "metadata": {
    "application/vnd.databricks.v1+cell": {
     "cellMetadata": {
      "byteLimit": 2048000,
      "rowLimit": 10000
     },
     "inputWidgets": {},
     "nuid": "b1155bc2-75ae-463a-97f1-2f79b63516d3",
     "showTitle": false,
     "tableResultSettingsMap": {},
     "title": ""
    },
    "id": "VGXK6uEuUKRh"
   },
   "source": [
    "> With map, you define a function and then apply it record by record. Flatmap returns a new RDD by first applying a function to all of the elements in RDDs and then flattening the result. Filter, returns a new RDD. Meaning only the elements that satisfy a condition. With reduce, we are taking neighboring elements and producing a single combined result.\n",
    "For example, let's say you have a set of numbers. You can reduce this to its sum by providing a function that takes as input two values and reduces them to one.\n",
    "\n",
    "Some of the reasons you would use a dataframe over RDD are:\n",
    "1.   It's ability to represnt data as rows and columns. But this also means it can only hold structred and semi-structured data.\n",
    "2.   It allows processing data in different formats (AVRO, CSV, JSON, and storage system HDFS, HIVE tables, MySQL).\n",
    "3. It's superior job Optimization capability.\n",
    "4. DataFrame API is very easy to use.\n",
    "\n",
    "\n",
    "\n"
   ]
  },
  {
   "cell_type": "code",
   "execution_count": 0,
   "metadata": {
    "application/vnd.databricks.v1+cell": {
     "cellMetadata": {
      "byteLimit": 2048000,
      "rowLimit": 10000
     },
     "inputWidgets": {},
     "nuid": "465674c9-2e62-4a83-8d02-1b03c4bd3f61",
     "showTitle": false,
     "tableResultSettingsMap": {},
     "title": ""
    },
    "colab": {
     "base_uri": "https://localhost:8080/"
    },
    "id": "0_WvAgyvR7m6",
    "outputId": "7bc8783c-9b85-48a0-c940-09df77ba0d9f"
   },
   "outputs": [
    {
     "output_type": "display_data",
     "data": {
      "text/plain": [
       ""
      ]
     },
     "metadata": {
      "application/vnd.databricks.v1+output": {
       "addedWidgets": {},
       "arguments": {},
       "datasetInfos": [],
       "jupyterProps": null,
       "metadata": {
        "errorSummary": "Command skipped"
       },
       "removedWidgets": [],
       "sqlProps": null,
       "stackFrames": [],
       "type": "baseError"
      }
     },
     "output_type": "display_data"
    }
   ],
   "source": [
    "cars = spark.sparkContext.textFile('abfss://training@trainingspark.dfs.core.windows.net/cars')\n",
    "print(cars.first())\n",
    "cars_header = cars.first()\n",
    "cars_rest = cars.filter(lambda line: line!=cars_header)\n",
    "print(cars_rest.first())"
   ]
  },
  {
   "cell_type": "markdown",
   "metadata": {
    "application/vnd.databricks.v1+cell": {
     "cellMetadata": {
      "byteLimit": 2048000,
      "rowLimit": 10000
     },
     "inputWidgets": {},
     "nuid": "ae7f92c1-513a-451c-b400-a03e79ff8b9a",
     "showTitle": false,
     "tableResultSettingsMap": {},
     "title": ""
    },
    "id": "P65eAFO3Mkdd"
   },
   "source": [
    "**How many cars are there in our csv data?**"
   ]
  },
  {
   "cell_type": "code",
   "execution_count": 0,
   "metadata": {
    "application/vnd.databricks.v1+cell": {
     "cellMetadata": {
      "byteLimit": 2048000,
      "rowLimit": 10000
     },
     "inputWidgets": {},
     "nuid": "db104b51-3d6f-442c-be8d-e43ad30373ee",
     "showTitle": false,
     "tableResultSettingsMap": {},
     "title": ""
    },
    "colab": {
     "base_uri": "https://localhost:8080/"
    },
    "id": "Vi03EU0CMSmO",
    "outputId": "ecbf3169-daac-4cff-9008-b1cd00fe9d4d"
   },
   "outputs": [
    {
     "output_type": "display_data",
     "data": {
      "text/plain": [
       ""
      ]
     },
     "metadata": {
      "application/vnd.databricks.v1+output": {
       "addedWidgets": {},
       "arguments": {},
       "datasetInfos": [],
       "jupyterProps": null,
       "metadata": {
        "errorSummary": "Command skipped"
       },
       "removedWidgets": [],
       "sqlProps": null,
       "stackFrames": [],
       "type": "baseError"
      }
     },
     "output_type": "display_data"
    }
   ],
   "source": [
    "cars_rest.map(lambda line: line.split(\";\")).count()"
   ]
  },
  {
   "cell_type": "markdown",
   "metadata": {
    "application/vnd.databricks.v1+cell": {
     "cellMetadata": {
      "byteLimit": 2048000,
      "rowLimit": 10000
     },
     "inputWidgets": {},
     "nuid": "c47bccb5-31ec-4189-833c-c66fa7fac4bb",
     "showTitle": false,
     "tableResultSettingsMap": {},
     "title": ""
    },
    "id": "3c4bci70MnlQ"
   },
   "source": [
    "**Display the Car name, MPG, Cylinders, Weight and Origin for the cars Originating in Europe**"
   ]
  },
  {
   "cell_type": "code",
   "execution_count": 0,
   "metadata": {
    "application/vnd.databricks.v1+cell": {
     "cellMetadata": {
      "byteLimit": 2048000,
      "rowLimit": 10000
     },
     "inputWidgets": {},
     "nuid": "849c2a2d-f1cd-45ec-a14e-eb9a5330b8a5",
     "showTitle": false,
     "tableResultSettingsMap": {},
     "title": ""
    },
    "colab": {
     "base_uri": "https://localhost:8080/"
    },
    "id": "fWFpo_WxMnvm",
    "outputId": "70683912-e03e-40d0-8d71-9b225efef11f"
   },
   "outputs": [
    {
     "output_type": "display_data",
     "data": {
      "text/plain": [
       ""
      ]
     },
     "metadata": {
      "application/vnd.databricks.v1+output": {
       "addedWidgets": {},
       "arguments": {},
       "datasetInfos": [],
       "jupyterProps": null,
       "metadata": {
        "errorSummary": "Command skipped"
       },
       "removedWidgets": [],
       "sqlProps": null,
       "stackFrames": [],
       "type": "baseError"
      }
     },
     "output_type": "display_data"
    }
   ],
   "source": [
    "# Car name is column  0\n",
    "(cars_rest.filter(lambda line: line.split(\";\")[8]=='Europe').\n",
    " map(lambda line: (line.split(\";\")[0],\n",
    "    line.split(\";\")[1],\n",
    "    line.split(\";\")[2],\n",
    "    line.split(\";\")[5],\n",
    "    line.split(\";\")[8])).collect())"
   ]
  },
  {
   "cell_type": "markdown",
   "metadata": {
    "application/vnd.databricks.v1+cell": {
     "cellMetadata": {
      "byteLimit": 2048000,
      "rowLimit": 10000
     },
     "inputWidgets": {},
     "nuid": "07e64eaa-97b5-4180-b9a1-3be26940c354",
     "showTitle": false,
     "tableResultSettingsMap": {},
     "title": ""
    },
    "id": "ZYmb5FscMph3"
   },
   "source": [
    "**Display the Car name, MPG, Cylinders, Weight and Origin for the cars Originating in either Europe or Japan**"
   ]
  },
  {
   "cell_type": "code",
   "execution_count": 0,
   "metadata": {
    "application/vnd.databricks.v1+cell": {
     "cellMetadata": {
      "byteLimit": 2048000,
      "rowLimit": 10000
     },
     "inputWidgets": {},
     "nuid": "3dafc2c5-4e84-4d1a-9833-151f28016dc8",
     "showTitle": false,
     "tableResultSettingsMap": {},
     "title": ""
    },
    "colab": {
     "base_uri": "https://localhost:8080/"
    },
    "id": "6ZcRIX3mMquF",
    "outputId": "83f0ee35-e846-477a-da98-966f915c72e1"
   },
   "outputs": [
    {
     "output_type": "display_data",
     "data": {
      "text/plain": [
       ""
      ]
     },
     "metadata": {
      "application/vnd.databricks.v1+output": {
       "addedWidgets": {},
       "arguments": {},
       "datasetInfos": [],
       "jupyterProps": null,
       "metadata": {
        "errorSummary": "Command skipped"
       },
       "removedWidgets": [],
       "sqlProps": null,
       "stackFrames": [],
       "type": "baseError"
      }
     },
     "output_type": "display_data"
    }
   ],
   "source": [
    "# Car name is column  0\n",
    "(cars_rest.filter(lambda line: line.split(\";\")[8] in ['Europe','Japan']).\n",
    " map(lambda line: (line.split(\";\")[0],\n",
    "    line.split(\";\")[1],\n",
    "    line.split(\";\")[2],\n",
    "    line.split(\";\")[5],\n",
    "    line.split(\";\")[8])).collect())"
   ]
  },
  {
   "cell_type": "markdown",
   "metadata": {
    "application/vnd.databricks.v1+cell": {
     "cellMetadata": {
      "byteLimit": 2048000,
      "rowLimit": 10000
     },
     "inputWidgets": {},
     "nuid": "37e3c8f2-2e55-4626-8d34-744c63a60e06",
     "showTitle": false,
     "tableResultSettingsMap": {},
     "title": ""
    },
    "id": "3wn2zXe7TbI3"
   },
   "source": [
    "<a id='user-defined-functions-udf'></a>\n",
    "## User-Defined Functions (UDF)"
   ]
  },
  {
   "cell_type": "markdown",
   "metadata": {
    "application/vnd.databricks.v1+cell": {
     "cellMetadata": {
      "byteLimit": 2048000,
      "rowLimit": 10000
     },
     "inputWidgets": {},
     "nuid": "f3a7af8a-8339-4408-9041-9fbfc94b8611",
     "showTitle": false,
     "tableResultSettingsMap": {},
     "title": ""
    },
    "id": "w0YWspcTRrin"
   },
   "source": [
    "PySpark User-Defined Functions (UDFs) help you convert your python code into a scalable version of itself. It comes in handy more than you can imagine, but beware, as the performance is less when you compare it with pyspark functions. You can view examples of how UDF works [here](https://docs.databricks.com/spark/latest/spark-sql/udf-python.html). What I will give in this section is some theory on how it works, and why it is slower.\n",
    "\n",
    "When you try to run a UDF in PySpark, each executor creates a python process. Data will be serialised and deserialised between each executor and python. This leads to lots of performance impact and overhead on spark jobs, making it less efficent than using spark dataframes. Apart from this, sometimes you might have memory issues while using UDFs. The Python worker consumes huge off-heap memory and so it often leads to memoryOverhead, thereby failing your job. Keeping these in mind, I wouldn't recommend using them, but at the end of the day, your choice."
   ]
  },
  {
   "cell_type": "markdown",
   "metadata": {
    "application/vnd.databricks.v1+cell": {
     "cellMetadata": {
      "byteLimit": 2048000,
      "rowLimit": 10000
     },
     "inputWidgets": {},
     "nuid": "0731aa1a-0ede-4be7-bb6c-caa470cd3c86",
     "showTitle": false,
     "tableResultSettingsMap": {},
     "title": ""
    },
    "id": "yv7ODDTQRwVt"
   },
   "source": [
    "<a id='common-questions'></a>\n",
    "# Common Questions"
   ]
  },
  {
   "cell_type": "markdown",
   "metadata": {
    "application/vnd.databricks.v1+cell": {
     "cellMetadata": {
      "byteLimit": 2048000,
      "rowLimit": 10000
     },
     "inputWidgets": {},
     "nuid": "c5770d86-6fce-4102-a293-9dd9f2230aff",
     "showTitle": false,
     "tableResultSettingsMap": {},
     "title": ""
    },
    "id": "6z9gkoE2R1m1"
   },
   "source": [
    "<a id='recommended-ide'></a>\n",
    "## Recommended IDE"
   ]
  },
  {
   "cell_type": "markdown",
   "metadata": {
    "application/vnd.databricks.v1+cell": {
     "cellMetadata": {
      "byteLimit": 2048000,
      "rowLimit": 10000
     },
     "inputWidgets": {},
     "nuid": "18db4a53-26d5-4c06-bb08-e2d7129e4680",
     "showTitle": false,
     "tableResultSettingsMap": {},
     "title": ""
    },
    "id": "BpMTbRggR5Z8"
   },
   "source": [
    "I personally prefer [PyCharm](https://www.jetbrains.com/pycharm/) while coding in Python/PySpark. It's based on IntelliJ IDEA so it has a lot of features! And the main advantage I have felt is the ease of installing PySpark and other packages. You can customize it with themes and plugins, and it lets you enhance productivity while coding by providing some features like suggestions, local VCS etc."
   ]
  },
  {
   "cell_type": "markdown",
   "metadata": {
    "application/vnd.databricks.v1+cell": {
     "cellMetadata": {
      "byteLimit": 2048000,
      "rowLimit": 10000
     },
     "inputWidgets": {},
     "nuid": "b2f6d021-ba71-48aa-bfec-23aceb835061",
     "showTitle": false,
     "tableResultSettingsMap": {},
     "title": ""
    },
    "id": "VZ1bYvF8R8Dc"
   },
   "source": [
    "<a id='submitting-a-spark-job'></a>\n",
    "## Submitting a Spark Job"
   ]
  },
  {
   "cell_type": "markdown",
   "metadata": {
    "application/vnd.databricks.v1+cell": {
     "cellMetadata": {
      "byteLimit": 2048000,
      "rowLimit": 10000
     },
     "inputWidgets": {},
     "nuid": "3d7de98c-7b6e-4a36-ac0b-099850fbda08",
     "showTitle": false,
     "tableResultSettingsMap": {},
     "title": ""
    },
    "id": "3EQWnq23SCbE"
   },
   "source": [
    "The python syntax for running jobs is: `python <file_name>.py <arg1> <arg2> ...`\n",
    "<br>But when you submit a spark job you have to use spark-submit to run the application.\n",
    "\n",
    "Here is a simple example of a spark-submit command:\n",
    "`spark-submit filename.py --named_argument 'arguemnt value'`<br>\n",
    "Here, named_argument is an argument that you are reading from inside your script.\n",
    "\n",
    "There are other options you can pass in the command, like:<br>\n",
    "`--py-files` which helps you pass a python file to read in your file,<br>\n",
    "`--files` which helps pass other files like txt or config,<br>\n",
    "`--deploy-mode` which tells wether to deploy your worker node on cluster or locally <br>\n",
    "`--conf` which helps pass different configurations, like memoryOverhead, dynamicAllocation etc.\n",
    "\n",
    "There is an [entire page](https://spark.apache.org/docs/latest/submitting-applications.html) in spark documentation dedicated to this. I highly recommend you go through it once."
   ]
  },
  {
   "cell_type": "markdown",
   "metadata": {
    "application/vnd.databricks.v1+cell": {
     "cellMetadata": {
      "byteLimit": 2048000,
      "rowLimit": 10000
     },
     "inputWidgets": {},
     "nuid": "cc38b687-9d67-4252-80a9-ed947adc3f22",
     "showTitle": false,
     "tableResultSettingsMap": {},
     "title": ""
    },
    "id": "oVwGYAZZiyGV"
   },
   "source": [
    "<a id='creating-dataframes'></a>\n",
    "## Creating Dataframes"
   ]
  },
  {
   "cell_type": "markdown",
   "metadata": {
    "application/vnd.databricks.v1+cell": {
     "cellMetadata": {
      "byteLimit": 2048000,
      "rowLimit": 10000
     },
     "inputWidgets": {},
     "nuid": "2d31f4a3-7461-46b4-849e-92e477e2f1dc",
     "showTitle": false,
     "tableResultSettingsMap": {},
     "title": ""
    },
    "id": "TvndhPjoi0er"
   },
   "source": [
    "When getting started with dataframes, the most common question is: *'How do I create a dataframe?'* <br>\n",
    "Below, you can see how to create three kinds of dataframes:"
   ]
  },
  {
   "cell_type": "markdown",
   "metadata": {
    "application/vnd.databricks.v1+cell": {
     "cellMetadata": {
      "byteLimit": 2048000,
      "rowLimit": 10000
     },
     "inputWidgets": {},
     "nuid": "f8ad15ac-16f2-401e-842c-546468fc2bdc",
     "showTitle": false,
     "tableResultSettingsMap": {},
     "title": ""
    },
    "id": "QXmRD3hHlM-f"
   },
   "source": [
    "### Create a totally empty dataframe"
   ]
  },
  {
   "cell_type": "code",
   "execution_count": 0,
   "metadata": {
    "application/vnd.databricks.v1+cell": {
     "cellMetadata": {
      "byteLimit": 2048000,
      "rowLimit": 10000
     },
     "inputWidgets": {},
     "nuid": "0ae2269c-dc97-4a65-aa98-a21c5eb3b334",
     "showTitle": false,
     "tableResultSettingsMap": {},
     "title": ""
    },
    "colab": {
     "base_uri": "https://localhost:8080/"
    },
    "id": "ktkb6s-kjtgG",
    "outputId": "6a4416d3-6e5b-4334-8cd4-207b967a777b"
   },
   "outputs": [
    {
     "output_type": "display_data",
     "data": {
      "text/plain": [
       ""
      ]
     },
     "metadata": {
      "application/vnd.databricks.v1+output": {
       "addedWidgets": {},
       "arguments": {},
       "datasetInfos": [],
       "jupyterProps": null,
       "metadata": {
        "errorSummary": "Command skipped"
       },
       "removedWidgets": [],
       "sqlProps": null,
       "stackFrames": [],
       "type": "baseError"
      }
     },
     "output_type": "display_data"
    }
   ],
   "source": [
    "from pyspark.sql.types import StructType\n",
    "sc = spark.sparkContext\n",
    "#Create empty df\n",
    "schema = StructType([])\n",
    "empty = spark.createDataFrame(sc.emptyRDD(), schema)\n",
    "empty.show()"
   ]
  },
  {
   "cell_type": "markdown",
   "metadata": {
    "application/vnd.databricks.v1+cell": {
     "cellMetadata": {
      "byteLimit": 2048000,
      "rowLimit": 10000
     },
     "inputWidgets": {},
     "nuid": "1cd49431-3e42-4b70-ab47-058a94e0fecd",
     "showTitle": false,
     "tableResultSettingsMap": {},
     "title": ""
    },
    "id": "mg5K3nz_lSDe"
   },
   "source": [
    "### Create an empty dataframe with header"
   ]
  },
  {
   "cell_type": "code",
   "execution_count": 0,
   "metadata": {
    "application/vnd.databricks.v1+cell": {
     "cellMetadata": {
      "byteLimit": 2048000,
      "rowLimit": 10000
     },
     "inputWidgets": {},
     "nuid": "a7efbe8c-6720-4c7f-a2ff-429b0b759fce",
     "showTitle": false,
     "tableResultSettingsMap": {},
     "title": ""
    },
    "colab": {
     "base_uri": "https://localhost:8080/"
    },
    "id": "9raf4CkRjuTr",
    "outputId": "0a8f4418-3295-426e-c5cf-a0ec7d3d80ab"
   },
   "outputs": [
    {
     "output_type": "display_data",
     "data": {
      "text/plain": [
       ""
      ]
     },
     "metadata": {
      "application/vnd.databricks.v1+output": {
       "addedWidgets": {},
       "arguments": {},
       "datasetInfos": [],
       "jupyterProps": null,
       "metadata": {
        "errorSummary": "Command skipped"
       },
       "removedWidgets": [],
       "sqlProps": null,
       "stackFrames": [],
       "type": "baseError"
      }
     },
     "output_type": "display_data"
    }
   ],
   "source": [
    "from pyspark.sql.types import StructType, StructField\n",
    "#Create empty df with header\n",
    "schema_header = StructType([StructField(\"name\", StringType(), True)])\n",
    "empty_with_header = spark.createDataFrame(sc.emptyRDD(), schema_header)\n",
    "empty_with_header.show()"
   ]
  },
  {
   "cell_type": "markdown",
   "metadata": {
    "application/vnd.databricks.v1+cell": {
     "cellMetadata": {
      "byteLimit": 2048000,
      "rowLimit": 10000
     },
     "inputWidgets": {},
     "nuid": "2bceaeef-8289-4376-9456-b7f68993b2e7",
     "showTitle": false,
     "tableResultSettingsMap": {},
     "title": ""
    },
    "id": "Y1ZNOx7ilUnd"
   },
   "source": [
    "### Create a dataframe with header and data"
   ]
  },
  {
   "cell_type": "code",
   "execution_count": 0,
   "metadata": {
    "application/vnd.databricks.v1+cell": {
     "cellMetadata": {
      "byteLimit": 2048000,
      "rowLimit": 10000
     },
     "inputWidgets": {},
     "nuid": "16b75ae2-ce66-4acd-aef1-087f103340b2",
     "showTitle": false,
     "tableResultSettingsMap": {},
     "title": ""
    },
    "colab": {
     "base_uri": "https://localhost:8080/"
    },
    "id": "TvzyL46QkJBl",
    "outputId": "cda3abd7-2757-4f37-cf22-6a3f4d281dd9"
   },
   "outputs": [
    {
     "output_type": "display_data",
     "data": {
      "text/plain": [
       ""
      ]
     },
     "metadata": {
      "application/vnd.databricks.v1+output": {
       "addedWidgets": {},
       "arguments": {},
       "datasetInfos": [],
       "jupyterProps": null,
       "metadata": {
        "errorSummary": "Command skipped"
       },
       "removedWidgets": [],
       "sqlProps": null,
       "stackFrames": [],
       "type": "baseError"
      }
     },
     "output_type": "display_data"
    }
   ],
   "source": [
    "from pyspark.sql import Row\n",
    "mylist = [\n",
    "  {\"name\":'Alice',\"age\":13},\n",
    "  {\"name\":'Jacob',\"age\":24},\n",
    "  {\"name\":'Betty',\"age\":135},\n",
    "]\n",
    "spark.createDataFrame(Row(**x) for x in mylist).show()"
   ]
  },
  {
   "cell_type": "code",
   "execution_count": 0,
   "metadata": {
    "application/vnd.databricks.v1+cell": {
     "cellMetadata": {
      "byteLimit": 2048000,
      "rowLimit": 10000
     },
     "inputWidgets": {},
     "nuid": "b45e4780-0117-4fa1-ab59-200de0b7f799",
     "showTitle": false,
     "tableResultSettingsMap": {},
     "title": ""
    },
    "colab": {
     "base_uri": "https://localhost:8080/"
    },
    "id": "VnRMckA5nLoJ",
    "outputId": "5b0bd66d-0de1-423f-dd0f-a3f34f17452e"
   },
   "outputs": [
    {
     "output_type": "display_data",
     "data": {
      "text/plain": [
       ""
      ]
     },
     "metadata": {
      "application/vnd.databricks.v1+output": {
       "addedWidgets": {},
       "arguments": {},
       "datasetInfos": [],
       "jupyterProps": null,
       "metadata": {
        "errorSummary": "Command skipped"
       },
       "removedWidgets": [],
       "sqlProps": null,
       "stackFrames": [],
       "type": "baseError"
      }
     },
     "output_type": "display_data"
    }
   ],
   "source": [
    "# You can achieve the same using this - note that we are using spark context here, not a spark session\n",
    "from pyspark.sql import Row\n",
    "df = sc.parallelize([\n",
    "        Row(name='Alice', age=13),\n",
    "        Row(name='Jacob', age=24),\n",
    "        Row(name='Betty', age=135)]).toDF()\n",
    "df.show()"
   ]
  },
  {
   "cell_type": "markdown",
   "metadata": {
    "application/vnd.databricks.v1+cell": {
     "cellMetadata": {
      "byteLimit": 2048000,
      "rowLimit": 10000
     },
     "inputWidgets": {},
     "nuid": "c6a365b7-d95d-4401-a444-cca87e1a023b",
     "showTitle": false,
     "tableResultSettingsMap": {},
     "title": ""
    },
    "id": "f3crkAQVlxKp"
   },
   "source": [
    "<a id='drop-duplicates'></a>\n",
    "## Drop Duplicates"
   ]
  },
  {
   "cell_type": "markdown",
   "metadata": {
    "application/vnd.databricks.v1+cell": {
     "cellMetadata": {
      "byteLimit": 2048000,
      "rowLimit": 10000
     },
     "inputWidgets": {},
     "nuid": "d13d4d05-a078-4e9f-bf8c-537441b0a855",
     "showTitle": false,
     "tableResultSettingsMap": {},
     "title": ""
    },
    "id": "4IHrYEwHmBcc"
   },
   "source": [
    "As mentioned earlier, there are two easy to remove duplicates from a dataframe. We have already seen the usage of distinct under <a href=\"#get-distinct-rows\">Get Distinct Rows</a>  section.\n",
    "I will expalin how to use the `dropDuplicates()` function to achieve the same.\n",
    "\n",
    "> `drop_duplicates()` is an alias for `dropDuplicates()`"
   ]
  },
  {
   "cell_type": "code",
   "execution_count": 0,
   "metadata": {
    "application/vnd.databricks.v1+cell": {
     "cellMetadata": {
      "byteLimit": 2048000,
      "rowLimit": 10000
     },
     "inputWidgets": {},
     "nuid": "63138037-97c9-4aba-8b94-612045676721",
     "showTitle": false,
     "tableResultSettingsMap": {},
     "title": ""
    },
    "colab": {
     "base_uri": "https://localhost:8080/"
    },
    "id": "wOuHRAPJmWen",
    "outputId": "5be62934-36ed-4171-90ce-3bd8c925114c"
   },
   "outputs": [
    {
     "output_type": "display_data",
     "data": {
      "text/plain": [
       ""
      ]
     },
     "metadata": {
      "application/vnd.databricks.v1+output": {
       "addedWidgets": {},
       "arguments": {},
       "datasetInfos": [],
       "jupyterProps": null,
       "metadata": {
        "errorSummary": "Command skipped"
       },
       "removedWidgets": [],
       "sqlProps": null,
       "stackFrames": [],
       "type": "baseError"
      }
     },
     "output_type": "display_data"
    }
   ],
   "source": [
    "from pyspark.sql import Row\n",
    "from pyspark.sql import Row\n",
    "mylist = [\n",
    "  {\"name\":'Alice',\"age\":5,\"height\":80},\n",
    "  {\"name\":'Jacob',\"age\":24,\"height\":80},\n",
    "  {\"name\":'Alice',\"age\":5,\"height\":80}\n",
    "]\n",
    "df = spark.createDataFrame(Row(**x) for x in mylist)\n",
    "df.dropDuplicates().show()"
   ]
  },
  {
   "cell_type": "markdown",
   "metadata": {
    "application/vnd.databricks.v1+cell": {
     "cellMetadata": {
      "byteLimit": 2048000,
      "rowLimit": 10000
     },
     "inputWidgets": {},
     "nuid": "6e246e3a-a27a-4142-9b65-17abc620b62d",
     "showTitle": false,
     "tableResultSettingsMap": {},
     "title": ""
    },
    "id": "zMv7A-2Hnmjh"
   },
   "source": [
    "`dropDuplicates()` can also take in an optional parameter called *subset* which helps specify the columns on which the duplicate check needs to be done on."
   ]
  },
  {
   "cell_type": "code",
   "execution_count": 0,
   "metadata": {
    "application/vnd.databricks.v1+cell": {
     "cellMetadata": {
      "byteLimit": 2048000,
      "rowLimit": 10000
     },
     "inputWidgets": {},
     "nuid": "6a71770c-5f91-47d2-8db6-47b6803b05ec",
     "showTitle": false,
     "tableResultSettingsMap": {},
     "title": ""
    },
    "colab": {
     "base_uri": "https://localhost:8080/"
    },
    "id": "SHnFylV1n8to",
    "outputId": "c3ec4180-b365-4297-b978-3fbdcf03d305"
   },
   "outputs": [
    {
     "output_type": "display_data",
     "data": {
      "text/plain": [
       ""
      ]
     },
     "metadata": {
      "application/vnd.databricks.v1+output": {
       "addedWidgets": {},
       "arguments": {},
       "datasetInfos": [],
       "jupyterProps": null,
       "metadata": {
        "errorSummary": "Command skipped"
       },
       "removedWidgets": [],
       "sqlProps": null,
       "stackFrames": [],
       "type": "baseError"
      }
     },
     "output_type": "display_data"
    }
   ],
   "source": [
    "df.dropDuplicates(subset=['height']).show()"
   ]
  },
  {
   "cell_type": "markdown",
   "metadata": {
    "application/vnd.databricks.v1+cell": {
     "cellMetadata": {
      "byteLimit": 2048000,
      "rowLimit": 10000
     },
     "inputWidgets": {},
     "nuid": "e553fff0-2747-43ae-ac63-a61d8f5c16b3",
     "showTitle": false,
     "tableResultSettingsMap": {},
     "title": ""
    },
    "id": "bAS4DKxjqI7H"
   },
   "source": [
    "<a id='fine-tuning-a-pyspark-job'></a>\n",
    "## Fine Tuning a Spark Job"
   ]
  },
  {
   "cell_type": "markdown",
   "metadata": {
    "application/vnd.databricks.v1+cell": {
     "cellMetadata": {
      "byteLimit": 2048000,
      "rowLimit": 10000
     },
     "inputWidgets": {},
     "nuid": "668bb3e9-8de7-43c8-8307-52be99529ae9",
     "showTitle": false,
     "tableResultSettingsMap": {},
     "title": ""
    },
    "id": "2d9pLlDl76dM"
   },
   "source": [
    "Before we begin, please note that this entire section is written purely based on experience. It might differ with use cases, but it will help you get a better understanding of what you should be looking for, or act as a guidance to achieve your aim.\n",
    "\n",
    ">Spark Performance Tuning refers to the process of adjusting settings to record for memory, cores, and instances used by the system. This process guarantees that the Spark has a flawless performance and also prevents bottlenecking of resources in Spark.\n",
    "\n",
    "Considering you are using Amazon EMR to execute your spark jobs, there are three aspects you need to take care of:\n",
    "1. EMR Sizing\n",
    "2. Spark Configurations\n",
    "3. Job Tuning\n",
    "\n"
   ]
  },
  {
   "cell_type": "markdown",
   "metadata": {
    "application/vnd.databricks.v1+cell": {
     "cellMetadata": {
      "byteLimit": 2048000,
      "rowLimit": 10000
     },
     "inputWidgets": {},
     "nuid": "762de972-0ae0-43b7-8fcd-69e10fca70cc",
     "showTitle": false,
     "tableResultSettingsMap": {},
     "title": ""
    },
    "id": "vIbXZT29JxmG"
   },
   "source": [
    "<a id='emr-sizing'></a>\n",
    "### EMR Sizing"
   ]
  },
  {
   "cell_type": "markdown",
   "metadata": {
    "application/vnd.databricks.v1+cell": {
     "cellMetadata": {
      "byteLimit": 2048000,
      "rowLimit": 10000
     },
     "inputWidgets": {},
     "nuid": "578ed5a7-2184-4679-b7e5-15c639681c6d",
     "showTitle": false,
     "tableResultSettingsMap": {},
     "title": ""
    },
    "id": "2Rv2SM_-KA8W"
   },
   "source": [
    "Sizing your EMR is extremely important, as this affects the efficency of your spark jobs. Apart from the cost factor, the maximum number of nodes and memory your job can use will be decided by this. If you spin up a EMR with high specifications, that obviously means you are paying more for it, so we should ideally utilize it to the max. These are the guidelines that I follow to make sure the EMR is rightly sized:\n",
    "\n",
    "1. Size of the input data (include all the input data) on the disk.\n",
    "2. Whether the jobs have transformations or just a straight pass through.<br> Assess the joins and the complex joins involved.\n",
    "3. Size of the output data on the disk.\n",
    "\n",
    "Look at the above criteria against the memory you need to process, and the disk space you would need. Start with a small configuration, and keep adding nodes to arrive at an optimal configuration. In case you are wondering about the *Execution time vs EMR configuration* factor, please understand that it is okay for a job to run longer, rather than adding more resources to the cluster. For example, it is okay to run a job for 40 mins job on a 5 node cluster, rather than running a job in 10 mins on a 15 node cluster.\n"
   ]
  },
  {
   "cell_type": "markdown",
   "metadata": {
    "application/vnd.databricks.v1+cell": {
     "cellMetadata": {
      "byteLimit": 2048000,
      "rowLimit": 10000
     },
     "inputWidgets": {},
     "nuid": "02435fee-92f7-4b5b-944a-53b90aabec98",
     "showTitle": false,
     "tableResultSettingsMap": {},
     "title": ""
    },
    "id": "pmeFEgv6QTST"
   },
   "source": [
    "Another thing you need to know about EMRs, are the different kinds of EC2 instance types provided by Amazon. I will briefly talk about them, but I strongly recommend you to read more about it from the [official documentation](https://aws.amazon.com/ec2/instance-types/). There are 5 types of instance classes. Based on the job you want to run, you can decide which one to use:\n",
    "\n",
    ">Instance Class | Description\n",
    ">--- | ---\n",
    ">General purpose | Balance of compute, memory and networking resources\n",
    ">Compute optimized | Ideal for compute bound applications that benefit from high performance processors\n",
    ">Memory optimized | Designed to deliver fast performance for workloads that process large data sets in memory\n",
    ">Storage optimized | For workloads that require high, sequential read and write access to very large data sets on local storage\n",
    ">GPU instances | Use hardware accelerators, or co-processors, to perform high demanding functions, more efficiently than is possible in software running on CPUs\n",
    "\n",
    "The configuration (memory, storage, cpu, network performance) will differ based on the instance class you choose.<br>\n",
    "To help make life easier, here is what I do when I get into a predicament about which one to go with: <br>\n",
    " 1. Visit [ec2instances](https://www.ec2instances.info/)\n",
    " 2. Choose the EC2 instances in question\n",
    " 3. Click on compare selected\n",
    "\n",
    "This will easily help you undesrstand what you are getting into, and thereby help you make the best choice! The site was built by [Garret Heaton](https://github.com/powdahound)(founder of Swoot), and has helped me countless number of times to make an informed decision."
   ]
  },
  {
   "cell_type": "markdown",
   "metadata": {
    "application/vnd.databricks.v1+cell": {
     "cellMetadata": {
      "byteLimit": 2048000,
      "rowLimit": 10000
     },
     "inputWidgets": {},
     "nuid": "b30ec46b-9e42-4649-8cec-213e10b0c97b",
     "showTitle": false,
     "tableResultSettingsMap": {},
     "title": ""
    },
    "id": "snACMwZug5Yn"
   },
   "source": [
    "<a id='spark-configurations'></a>\n",
    "### Spark Configurations"
   ]
  },
  {
   "cell_type": "markdown",
   "metadata": {
    "application/vnd.databricks.v1+cell": {
     "cellMetadata": {
      "byteLimit": 2048000,
      "rowLimit": 10000
     },
     "inputWidgets": {},
     "nuid": "cebbda25-9a05-4951-963a-31c6d6ae1eef",
     "showTitle": false,
     "tableResultSettingsMap": {},
     "title": ""
    },
    "id": "uFJNpK06hnpo"
   },
   "source": [
    "There are a ton of [configurations](https://spark.apache.org/docs/latest/configuration.html) that you can tweak when it comes to Spark. Here, I will be noting down some of the configurations which I use, which have worked well for me. Alright! let's get into it!"
   ]
  },
  {
   "cell_type": "markdown",
   "metadata": {
    "application/vnd.databricks.v1+cell": {
     "cellMetadata": {
      "byteLimit": 2048000,
      "rowLimit": 10000
     },
     "inputWidgets": {},
     "nuid": "ffa164a2-d2bd-43cc-a63d-fc1727ed1187",
     "showTitle": false,
     "tableResultSettingsMap": {},
     "title": ""
    },
    "id": "dABRu9eokZxw"
   },
   "source": [
    "#### Job Scheduling"
   ]
  },
  {
   "cell_type": "markdown",
   "metadata": {
    "application/vnd.databricks.v1+cell": {
     "cellMetadata": {
      "byteLimit": 2048000,
      "rowLimit": 10000
     },
     "inputWidgets": {},
     "nuid": "6adfb7e5-3bf9-4e4f-8af7-e56d704d4324",
     "showTitle": false,
     "tableResultSettingsMap": {},
     "title": ""
    },
    "id": "8fRFs6atkdxS"
   },
   "source": [
    "When you submit your job in a cluster, it will be given to Spark Schedulers, which is responsible for materializing a logical plan for your job. There are two types of [job scheduling](https://spark.apache.org/docs/latest/job-scheduling.html):\n",
    "1. FIFO<br>\n",
    "By default, Spark’s scheduler runs jobs in FIFO fashion. Each job is divided into stages (e.g. map and reduce phases), and the first job gets priority on all available resources while its stages have tasks to launch, then the second job gets priority, etc. If the jobs at the head of the queue don’t need to use the whole cluster, later jobs can start to run right away, but if the jobs at the head of the queue are large, then later jobs may be delayed significantly.\n",
    "2. FAIR<br>\n",
    "The fair scheduler supports grouping jobs into pools and setting different scheduling options (e.g. weight) for each pool. This can be useful to create a high-priority pool for more important jobs, for example, or to group the jobs of each user together and give users equal shares regardless of how many concurrent jobs they have instead of giving jobs equal shares. This approach is modeled after the Hadoop Fair Scheduler.\n",
    "\n",
    "> I personally prefer using the FAIR mode, and this can be set by adding `.config(\"spark.scheduler.mode\", \"FAIR\")` when you create your SparkSession.\n"
   ]
  },
  {
   "cell_type": "markdown",
   "metadata": {
    "application/vnd.databricks.v1+cell": {
     "cellMetadata": {
      "byteLimit": 2048000,
      "rowLimit": 10000
     },
     "inputWidgets": {},
     "nuid": "efdbe317-1768-4235-82ad-ddc8d893a385",
     "showTitle": false,
     "tableResultSettingsMap": {},
     "title": ""
    },
    "id": "xrgbAiZHnq_U"
   },
   "source": [
    "#### Serializer"
   ]
  },
  {
   "cell_type": "markdown",
   "metadata": {
    "application/vnd.databricks.v1+cell": {
     "cellMetadata": {
      "byteLimit": 2048000,
      "rowLimit": 10000
     },
     "inputWidgets": {},
     "nuid": "b115fb0f-8ade-4247-9f65-498c8bddf7a7",
     "showTitle": false,
     "tableResultSettingsMap": {},
     "title": ""
    },
    "id": "N7ZYGGcYsRzB"
   },
   "source": [
    "We have two types of [serializers](https://spark.apache.org/docs/latest/tuning.html#data-serialization) available:\n",
    "1. Java serialization\n",
    "2. Kryo serialization\n",
    "\n",
    "Kryo is significantly faster and more compact than Java serialization (often as much as 10x), but does not support all Serializable types and requires you to register the classes you’ll use in the program in advance for best performance.\n",
    "\n",
    "Java serialization is used by default because if you have custom class that extends Serializable it can be easily used. You can also control the performance of your serialization more closely by extending java.io.Externalizable\n",
    "\n",
    "> The general recommendation is to use Kyro as the serializer whenver possible, as it leads to much smaller sizes than Java serialization. It can be added by using `.config(\"spark.serializer\", \"org.apache.spark.serializer.KryoSerializer\")` when you create your SparkSession.\n"
   ]
  },
  {
   "cell_type": "markdown",
   "metadata": {
    "application/vnd.databricks.v1+cell": {
     "cellMetadata": {
      "byteLimit": 2048000,
      "rowLimit": 10000
     },
     "inputWidgets": {},
     "nuid": "9bad8194-19c2-41d9-a274-1ce8a9f11e00",
     "showTitle": false,
     "tableResultSettingsMap": {},
     "title": ""
    },
    "id": "244El832wT8f"
   },
   "source": [
    "#### Shuffle Behaviour"
   ]
  },
  {
   "cell_type": "markdown",
   "metadata": {
    "application/vnd.databricks.v1+cell": {
     "cellMetadata": {
      "byteLimit": 2048000,
      "rowLimit": 10000
     },
     "inputWidgets": {},
     "nuid": "538f600c-dacf-4335-9768-1de42ffb1f6f",
     "showTitle": false,
     "tableResultSettingsMap": {},
     "title": ""
    },
    "id": "XWsBFnA8xpeF"
   },
   "source": [
    "It is generally a good idea to compress the output file after the map phase. The `spark.shuffle.compress` property decides whether to do the compression or not. The compression used is `spark.io.compression.codec`.\n",
    "\n",
    "> The property can be added by using `.config(\"spark.shuffle.compress\", \"true\")` when you create your SparkSession."
   ]
  },
  {
   "cell_type": "markdown",
   "metadata": {
    "application/vnd.databricks.v1+cell": {
     "cellMetadata": {
      "byteLimit": 2048000,
      "rowLimit": 10000
     },
     "inputWidgets": {},
     "nuid": "d9d1d921-ef5b-4bc2-8d16-c350510b5e6c",
     "showTitle": false,
     "tableResultSettingsMap": {},
     "title": ""
    },
    "id": "H5cFCvbczHz_"
   },
   "source": [
    "#### Compression and Serialization"
   ]
  },
  {
   "cell_type": "markdown",
   "metadata": {
    "application/vnd.databricks.v1+cell": {
     "cellMetadata": {
      "byteLimit": 2048000,
      "rowLimit": 10000
     },
     "inputWidgets": {},
     "nuid": "495662fc-b11d-4a9d-9320-75b1fc0e233c",
     "showTitle": false,
     "tableResultSettingsMap": {},
     "title": ""
    },
    "id": "LHU5lfyFzKw9"
   },
   "source": [
    "There are 4 defaiult codecs spark provides to compress internal data such as RDD partitions, event log, broadcast variables and shuffle outputs. They are:\n",
    "\n",
    "1. lz4\n",
    "2. lzf\n",
    "3. snappy\n",
    "4. zstd\n",
    "\n",
    "> The decision on which to use rests upon the use case. I generally use the `snappy` compression. Google created Snappy because they needed something that offered very fast compression at the expense of final size. Snappy is fast, stable and free, but it increases the size more than the other codecs. At the same time, since compute costs will be less, it seems like balanced trade off. The property can be added by using `.config(\"spark.io.compression.codec\", \"snappy\")` when you create your SparkSession.\n",
    "\n",
    "This [session](https://databricks.com/session/best-practice-of-compression-decompression-codes-in-apache-spark) explains the best practice of compression/decompression codes in Apache Spark. I recommend you to take a look at it before taking a decision."
   ]
  },
  {
   "cell_type": "markdown",
   "metadata": {
    "application/vnd.databricks.v1+cell": {
     "cellMetadata": {
      "byteLimit": 2048000,
      "rowLimit": 10000
     },
     "inputWidgets": {},
     "nuid": "6cf359d6-ade3-4cf9-aed3-610828fd6060",
     "showTitle": false,
     "tableResultSettingsMap": {},
     "title": ""
    },
    "id": "rdGARl-D3n-l"
   },
   "source": [
    "#### Scheduling"
   ]
  },
  {
   "cell_type": "markdown",
   "metadata": {
    "application/vnd.databricks.v1+cell": {
     "cellMetadata": {
      "byteLimit": 2048000,
      "rowLimit": 10000
     },
     "inputWidgets": {},
     "nuid": "c2ccd23f-8a01-488c-a2b6-821674ee7d06",
     "showTitle": false,
     "tableResultSettingsMap": {},
     "title": ""
    },
    "id": "Cm0ExAoS4RU6"
   },
   "source": [
    "The property `spark.speculation` performs speculative execution of tasks. This means if one or more tasks are running slowly in a stage, they will be re-launched. Speculative execution will not stop the slow running task but it launches the new task in parallel.\n",
    "\n",
    "> I usually disable this option by adding `.config(\"spark.speculation\", \"false\") ` when I create the SparkSession."
   ]
  },
  {
   "cell_type": "markdown",
   "metadata": {
    "application/vnd.databricks.v1+cell": {
     "cellMetadata": {
      "byteLimit": 2048000,
      "rowLimit": 10000
     },
     "inputWidgets": {},
     "nuid": "fd946684-75fb-4ca2-9bd6-770973096d0e",
     "showTitle": false,
     "tableResultSettingsMap": {},
     "title": ""
    },
    "id": "aaxfGqYZ6Iqz"
   },
   "source": [
    "#### Application Properties"
   ]
  },
  {
   "cell_type": "markdown",
   "metadata": {
    "application/vnd.databricks.v1+cell": {
     "cellMetadata": {
      "byteLimit": 2048000,
      "rowLimit": 10000
     },
     "inputWidgets": {},
     "nuid": "5f3eb9e8-a91a-4abd-a8a2-7b64a7204a30",
     "showTitle": false,
     "tableResultSettingsMap": {},
     "title": ""
    },
    "id": "ERovEKOU6TNE"
   },
   "source": [
    "There are mainly two application properties that you should know about:\n",
    "\n",
    "1. spark.driver.memoryOverhead - The amount of off-heap memory to be allocated per driver in cluster mode, in MiB unless otherwise specified. This is memory that accounts for things like VM overheads, interned strings, other native overheads, etc. This tends to grow with the container size (typically 6-10%). This option is currently supported on YARN and Kubernetes.\n",
    "\n",
    "2. spark.executor.memoryOverhead - The amount of off-heap memory to be allocated per executor, in MiB unless otherwise specified. This is memory that accounts for things like VM overheads, interned strings, other native overheads, etc. This tends to grow with the executor size (typically 6-10%). This option is currently supported on YARN and Kubernetes.\n",
    "\n",
    "> If you ever face an issue like `Container killed by YARN for exceeding memory limits`, know that it is because you have not specified enough memory Overhead for your job to successfully execute. The default value for Overhead is 10% of avaialbe memory (driver/executor sepearte), with minimum of 384.\n",
    "\n"
   ]
  },
  {
   "cell_type": "markdown",
   "metadata": {
    "application/vnd.databricks.v1+cell": {
     "cellMetadata": {
      "byteLimit": 2048000,
      "rowLimit": 10000
     },
     "inputWidgets": {},
     "nuid": "038e0438-d8ad-4e94-8c44-1287dadcde5d",
     "showTitle": false,
     "tableResultSettingsMap": {},
     "title": ""
    },
    "id": "BG09dDdL6Tvt"
   },
   "source": [
    "#### Dynamic Allocation"
   ]
  },
  {
   "cell_type": "markdown",
   "metadata": {
    "application/vnd.databricks.v1+cell": {
     "cellMetadata": {
      "byteLimit": 2048000,
      "rowLimit": 10000
     },
     "inputWidgets": {},
     "nuid": "21ada507-4d27-467e-866d-0bceeeda2401",
     "showTitle": false,
     "tableResultSettingsMap": {},
     "title": ""
    },
    "id": "m_lb-JI78CVT"
   },
   "source": [
    "Lastly, I want to talk about Dynamic Allocation. This is a feature I constantly use while executing my jobs. This property is by defualt set to False. As the name suggests, it sets whether to use dynamic resource allocation, which scales the number of executors registered with this application up and down based on the workload. Truly a wonderful feature, and the greatest benefit of using it is that it will help make the best use of all the resources you have! The disadvantage of this feature is that it does not shine well when you have to execute tasks in parallel. Since most of the resources will be used by the first task, the second one will have to wait till some resource gets released. At the same time, if both get submitted at the exact same time, the resources will be shared between them, although not equally. Also, it is not guaranteed to *always* use the most optimal configurations. But in all my tests, the results have been great!\n",
    "\n",
    "> If you are planning on using this feature, you can pass the configurations as required through the spark-submit command. The four configurations which you will have to keep in mind are:<br>\n",
    "```\n",
    "--conf spark.dynamicAllocation.enabled=true\n",
    "--conf spark.dynamicAllocation.initialExecutors\n",
    "--conf spark.dynamicAllocation.minExecutors\n",
    "--conf spark.dynamicAllocation.maxExecutors\n",
    "```\n",
    "\n",
    "You can read more about this feature [here](https://spark.apache.org/docs/latest/configuration.html#dynamic-allocation) and [here](https://stackoverflow.com/questions/40200389/how-to-execute-spark-programs-with-dynamic-resource-allocation).\n",
    "\n",
    "\n",
    "\n"
   ]
  },
  {
   "cell_type": "markdown",
   "metadata": {
    "application/vnd.databricks.v1+cell": {
     "cellMetadata": {
      "byteLimit": 2048000,
      "rowLimit": 10000
     },
     "inputWidgets": {},
     "nuid": "ada3af83-7048-4bd4-9591-844b89089983",
     "showTitle": false,
     "tableResultSettingsMap": {},
     "title": ""
    },
    "id": "CJlmPbLYKKFA"
   },
   "source": [
    "<a id='job-tuning'></a>\n",
    "### Job Tuning"
   ]
  },
  {
   "cell_type": "markdown",
   "metadata": {
    "application/vnd.databricks.v1+cell": {
     "cellMetadata": {
      "byteLimit": 2048000,
      "rowLimit": 10000
     },
     "inputWidgets": {},
     "nuid": "2d6fc4f2-5ab2-4460-b170-d84379c409bc",
     "showTitle": false,
     "tableResultSettingsMap": {},
     "title": ""
    },
    "id": "vccmILvVWewW"
   },
   "source": [
    "Apart from EMR and Spark tuning, there is another way to approach opttimizations, and that is by tuning your job itself to produce results efficently. I will be going over some such techniques which will help you achieve this. The [Spark Programming Guide](https://spark.apache.org/docs/2.1.1/programming-guide.html) talks more about these concepts in detail. If you guys prefer watching a video over reading, I highly recommend [A Deep Dive into Proper Optimization for Spark Jobs](https://youtu.be/daXEp4HmS-E) by Daniel Tomes from Databricks, which I found really useful and informative!"
   ]
  },
  {
   "cell_type": "markdown",
   "metadata": {
    "application/vnd.databricks.v1+cell": {
     "cellMetadata": {
      "byteLimit": 2048000,
      "rowLimit": 10000
     },
     "inputWidgets": {},
     "nuid": "8170c2bc-d114-481c-b849-c5e71b54bf96",
     "showTitle": false,
     "tableResultSettingsMap": {},
     "title": ""
    },
    "id": "r-R5ijHrKSg0"
   },
   "source": [
    "#### Broadcast Joins (Broadcast Hash Join)"
   ]
  },
  {
   "cell_type": "markdown",
   "metadata": {
    "application/vnd.databricks.v1+cell": {
     "cellMetadata": {
      "byteLimit": 2048000,
      "rowLimit": 10000
     },
     "inputWidgets": {},
     "nuid": "49155f31-b993-454b-9ebf-4440936c5c39",
     "showTitle": false,
     "tableResultSettingsMap": {},
     "title": ""
    },
    "id": "dvO0z5EpM5U8"
   },
   "source": [
    "For some jobs, the efficenecy can be increased by caching them in memory. Broadcast Hash Join(BHJ) is such a technique which will help you optimize join queries when the size of one side of the data is low.\n",
    ">BroadCast joins are the fastest but the drawaback is that it will consume more memory on both the executor and driver.\n",
    "\n",
    "This following steps give a sneak peek into how it works, which will help you understand the use cases where it can be used:<br>\n",
    "1. Input file(smaller of the two tables) to be broadcasted is read by the executors in parallel into its working memory.\n",
    "2. All the data from the executors is collected into driver (Hence, the need for higher memory at driver).\n",
    "3. The driver then broadcasts the combined dataset (full copy) into each executor.\n",
    "4. The size of the broadcasted dataset could be several (10-20+) times bigger the input in memory due to factors like deserialization.\n",
    "5. Executors will end up storing the parts it read first, and also the full copy, thereby leading to a high memory requirement.\n",
    "\n",
    "Some things to keep in mind about BHJ:\n",
    "1. It is advisable to use broadcast joins on small datasets only (dimesnion table, for example).\n",
    "2. Spark does not guarantee BHJ is always chosen, since not all cases (e.g. full outer join) support BHJ.\n",
    "3. You could notice skews in tasks due to uneven partition sizes; especially during aggregations, joins etc. This can be evened out by introducing Salt value (random value).<br>*Suggested formula for salt value:* random(0 – (shuffle partition count – 1))\n"
   ]
  },
  {
   "cell_type": "markdown",
   "metadata": {
    "application/vnd.databricks.v1+cell": {
     "cellMetadata": {
      "byteLimit": 2048000,
      "rowLimit": 10000
     },
     "inputWidgets": {},
     "nuid": "8fdf06d6-9089-4591-b96e-2476283eff3a",
     "showTitle": false,
     "tableResultSettingsMap": {},
     "title": ""
    },
    "id": "UOvEVcieVn7e"
   },
   "source": [
    "#### Spark Partitions"
   ]
  },
  {
   "cell_type": "markdown",
   "metadata": {
    "application/vnd.databricks.v1+cell": {
     "cellMetadata": {
      "byteLimit": 2048000,
      "rowLimit": 10000
     },
     "inputWidgets": {},
     "nuid": "9351510e-18ee-4e64-ae7f-826331139261",
     "showTitle": false,
     "tableResultSettingsMap": {},
     "title": ""
    },
    "id": "ocpQiqOtVqPz"
   },
   "source": [
    "A partition in spark is an atomic chunk of data (logical division of data) stored on a node in the cluster. Partitions are the basic units of parallelism in Spark. Having too large a number of partitions or too few is not an ideal solution. The number of partitions in spark should be decided based on the cluster configuration and requirements of the application. Increasing the number of partitions will make each partition have less data or no data at all. Generally, spark partitioning can be broken down in three ways:\n",
    "1. Input\n",
    "2. Shuffle\n",
    "3. Output\n"
   ]
  },
  {
   "cell_type": "markdown",
   "metadata": {
    "application/vnd.databricks.v1+cell": {
     "cellMetadata": {
      "byteLimit": 2048000,
      "rowLimit": 10000
     },
     "inputWidgets": {},
     "nuid": "4170340b-90e7-4ff3-a8c8-8d903c62c225",
     "showTitle": false,
     "tableResultSettingsMap": {},
     "title": ""
    },
    "id": "2KY1mxZVfNsl"
   },
   "source": [
    "##### Input"
   ]
  },
  {
   "cell_type": "markdown",
   "metadata": {
    "application/vnd.databricks.v1+cell": {
     "cellMetadata": {
      "byteLimit": 2048000,
      "rowLimit": 10000
     },
     "inputWidgets": {},
     "nuid": "8a02a7d6-fcaf-4a6c-bb57-3ebfaa76a7a4",
     "showTitle": false,
     "tableResultSettingsMap": {},
     "title": ""
    },
    "id": "dKw48h9eEbPa"
   },
   "source": [
    "Spark usually does a good job of figuring the ideal configuration for this one, except in very particular cases. It is advisable to use the spark default unless:\n",
    "1. Increase parallelism\n",
    "2. Heavily nested data\n",
    "3. Generating data (explode)\n",
    "4. Source is not optimal\n",
    "5. You are using UDFs\n",
    "\n",
    "`spark.sql.files.maxpartitionBytes`: This property indicates the maximum number of bytes to pack into a single partition when reading files (Default 128 MB) . Use this to increase the parallelism in reading input data. For example, if you have more cores, then you can increase the number of parallel tasks which will ensure usage of the all the cores of the cluster, and increase the speed of the task."
   ]
  },
  {
   "cell_type": "markdown",
   "metadata": {
    "application/vnd.databricks.v1+cell": {
     "cellMetadata": {
      "byteLimit": 2048000,
      "rowLimit": 10000
     },
     "inputWidgets": {},
     "nuid": "00d16c45-285c-424c-8306-6b529328e78e",
     "showTitle": false,
     "tableResultSettingsMap": {},
     "title": ""
    },
    "id": "qwEBu3T3EbfD"
   },
   "source": [
    "##### Shuffle"
   ]
  },
  {
   "cell_type": "markdown",
   "metadata": {
    "application/vnd.databricks.v1+cell": {
     "cellMetadata": {
      "byteLimit": 2048000,
      "rowLimit": 10000
     },
     "inputWidgets": {},
     "nuid": "6b4cc7e1-97b3-4043-9fe7-67d1449145fb",
     "showTitle": false,
     "tableResultSettingsMap": {},
     "title": ""
    },
    "id": "Wx0iQUpFEbus"
   },
   "source": [
    "One of the major reason why most jobs lags in performance is, for the majority of the time, because they get the shuffle partitions count wrong. By default, the value is set to 200. In almost all situations, this is not ideal. If you are dealing with shuffle satge of less than 20 GB, 200 is fine, but otherwise this needs to be changed. For most cases, you can use the following equation to find the right value:\n",
    ">`Partition Count = Stage Input Data / Target Size` where <br>\n",
    "`Largest Shuffle Stage (Target Size) < 200MB/partition` in most cases.<br>\n",
    "`spark.sql.shuffle.partitions` property is used to set the ideal partition count value.\n",
    "\n",
    "If you ever notice that target size at the range of TBs, there is something terribly wrong, and you might want to change it back to 200, or recalculate it. Shuffle partitions can be configured for every action (not transformation) in the spark script.\n",
    "\n",
    "Let us use an example to explain this scenario: <br>\n",
    "Assume shuffle stage input = 210 GB. <br>\n",
    "Partition Count = Stage Input Data / Target Size = 210000 MB/200 MB = 1050. <br>\n",
    "As you can see, my shuffle partitions should be 1050, not 200.\n",
    "\n",
    "But, if your cluster has 2000 cores, then set your shuffle partitions to 2000.\n",
    ">In a large cluster dealing with a large data job, never set your shuffle partitions less than your total core count.\n",
    "\n",
    "\n",
    "\n",
    "Shuffle stages almost always precede the write stages and having high shuffle partition count creates small files in the output. To address this, use localCheckPoint just before write & do a coalesce call. This localCheckPoint writes the Shuffle Partition to executor local disk and then coalesces into lower partition count and hence improves the overall performance of both shuffle stage and write stage."
   ]
  },
  {
   "cell_type": "markdown",
   "metadata": {
    "application/vnd.databricks.v1+cell": {
     "cellMetadata": {
      "byteLimit": 2048000,
      "rowLimit": 10000
     },
     "inputWidgets": {},
     "nuid": "200fc22b-b587-47ff-bb74-cfcc251b12ad",
     "showTitle": false,
     "tableResultSettingsMap": {},
     "title": ""
    },
    "id": "-HxUYv77EdSv"
   },
   "source": [
    "##### Output"
   ]
  },
  {
   "cell_type": "markdown",
   "metadata": {
    "application/vnd.databricks.v1+cell": {
     "cellMetadata": {
      "byteLimit": 2048000,
      "rowLimit": 10000
     },
     "inputWidgets": {},
     "nuid": "bf96ee31-97ab-4d0e-8e31-191a8ea28d10",
     "showTitle": false,
     "tableResultSettingsMap": {},
     "title": ""
    },
    "id": "CPA6YRYrEdgG"
   },
   "source": [
    "There are different methods to write the data. You can control the size, composition, number of files in the output and even the number of records in each file while writing the data. While writing the data, you can increase the parallelism, thereby ensuring you use all the resources that you have. But this approach would lead to a larger number of smaller files. Usually, this isn't a problem, but if you want bigger files, you will have to use one of the compaction techniques, preferably in a cluster with lesser configuration. There are multiple ways to change the composition of the output. Keep these two in mind about composition:\n",
    "1. Coalesce: Use this to reduce the number of partitions.\n",
    "2. Repartition: Use this very rarely, and never to reduce the number of partitions<br>\n",
    "    a. Range Paritioner - It partitions the data either based on some sorted order OR set of sorted ranges of keys. <br>\n",
    "    b. Hash Partioner - It spreads around the data in the partitioning based upon the key value. Hash partitioning can make distributed data skewed."
   ]
  },
  {
   "cell_type": "markdown",
   "metadata": {
    "application/vnd.databricks.v1+cell": {
     "cellMetadata": {
      "byteLimit": 2048000,
      "rowLimit": 10000
     },
     "inputWidgets": {},
     "nuid": "53515752-1bbf-437f-a65b-2943cbd90307",
     "showTitle": false,
     "tableResultSettingsMap": {},
     "title": ""
    },
    "id": "NZ5xsdWmNOVz"
   },
   "source": [
    "<a id='best-practices'></a>\n",
    "### Best Practices"
   ]
  },
  {
   "cell_type": "markdown",
   "metadata": {
    "application/vnd.databricks.v1+cell": {
     "cellMetadata": {
      "byteLimit": 2048000,
      "rowLimit": 10000
     },
     "inputWidgets": {},
     "nuid": "4ef5022f-0daa-49fb-a62c-a0db76fba91c",
     "showTitle": false,
     "tableResultSettingsMap": {},
     "title": ""
    },
    "id": "NUKLZ8G8NVuR"
   },
   "source": [
    "Try to incorporate these to your coding habits for better performance:\n",
    "1.   Do not use NOT IN use NOT EXISTS.\n",
    "2.   Remove Counts, Distinct Counts (use approxCountDIstinct).\n",
    "3.   Drop Duplicates early.\n",
    "4.   Always prefer SQL functions over PandasUDF.\n",
    "5.   Use Hive partitions effectively.\n",
    "6.   Leverage Spark UI effectively.\n",
    "7.   Avoid Shuffle Spills.\n",
    "8.   Aim for target cluster utilization of atleast 70%.\n",
    "\n"
   ]
  },
  {
   "cell_type": "code",
   "execution_count": 0,
   "metadata": {
    "application/vnd.databricks.v1+cell": {
     "cellMetadata": {
      "byteLimit": 2048000,
      "rowLimit": 10000
     },
     "inputWidgets": {},
     "nuid": "e22398ac-5d39-482c-8bbe-c527d1c1a750",
     "showTitle": false,
     "tableResultSettingsMap": {},
     "title": ""
    },
    "id": "A7o--VZLZ98v"
   },
   "outputs": [],
   "source": []
  }
 ],
 "metadata": {
  "application/vnd.databricks.v1+notebook": {
   "computePreferences": null,
   "dashboards": [],
   "environmentMetadata": null,
   "inputWidgetPreferences": null,
   "language": "python",
   "notebookMetadata": {
    "pythonIndentUnit": 4
   },
   "notebookName": "Colab_and_PySpark",
   "widgets": {}
  },
  "colab": {
   "provenance": []
  },
  "kernelspec": {
   "display_name": "Python 3",
   "language": "python",
   "name": "python3"
  },
  "language_info": {
   "name": "python"
  }
 },
 "nbformat": 4,
 "nbformat_minor": 0
}